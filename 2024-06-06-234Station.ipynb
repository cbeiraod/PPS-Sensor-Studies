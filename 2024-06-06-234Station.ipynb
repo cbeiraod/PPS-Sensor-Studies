{
 "cells": [
  {
   "cell_type": "markdown",
   "metadata": {},
   "source": [
    "# Hitmaps 2024-06-06 - 234m Station"
   ]
  },
  {
   "cell_type": "markdown",
   "metadata": {},
   "source": [
    "#### Import Libraries"
   ]
  },
  {
   "cell_type": "code",
   "execution_count": null,
   "metadata": {},
   "outputs": [],
   "source": [
    "import ROOT\n",
    "import pps_hitmaps\n",
    "from array import array\n",
    "from pathlib import Path\n",
    "import pandas\n",
    "import numpy\n",
    "from math import ceil\n",
    "import Helper20240606"
   ]
  },
  {
   "cell_type": "markdown",
   "metadata": {},
   "source": [
    "## Get Sensor"
   ]
  },
  {
   "cell_type": "code",
   "execution_count": null,
   "metadata": {},
   "outputs": [],
   "source": [
    "new_sensor = pps_hitmaps.RectangularPadSensor(NumSmallerCols = 16)\n",
    "new_sensor_ti = pps_hitmaps.RectangularPadSensor(NumSmallerCols = 16, PadSpacing=0.01)\n",
    "fig = new_sensor.preview()"
   ]
  },
  {
   "cell_type": "markdown",
   "metadata": {},
   "source": [
    "## Load Hitmaps and check everything is ok"
   ]
  },
  {
   "cell_type": "code",
   "execution_count": null,
   "metadata": {},
   "outputs": [],
   "source": [
    "from pathlib import Path\n",
    "\n",
    "backgroundFlux = 5*10**12\n",
    "backgroundTitle = \"5E12 p/cm^2\"\n",
    "#noBackgroundFlux = 200  # This is needed because when making the sensor loss probability maps, we were running into numerican stability issues, giving weird results. Adding this small numbers, makes the behaviour consistent\n",
    "noBackgroundFlux = 0\n",
    "\n",
    "base_dir = Path(\"./2024-06-06-Hitmaps\")\n",
    "vertical_dir   = base_dir/\"maps-vertical\"\n",
    "horizontal_dir = base_dir/\"maps-horizontal\"\n",
    "\n",
    "station = \"234\"\n",
    "angle_beta = [\n",
    "    (\"horizontal\", 125, 0.15),  # Angle dir, angle in urad, betastar in m\n",
    "    (\"horizontal\", 125, 0.50),\n",
    "    (\"horizontal\", 250, 0.15),\n",
    "    (\"horizontal\", 250, 0.50),\n",
    "    (\"vertical\", 125, 0.20),\n",
    "    (\"vertical\", 125, 0.50),\n",
    "    (\"vertical\", 250, 0.20),\n",
    "    (\"vertical\", 250, 0.50),\n",
    "]\n",
    "\n",
    "hitmaps = {}\n",
    "\n",
    "for angle_dir, angle, beta in angle_beta:\n",
    "    dir_key = \"v\"\n",
    "    if angle_dir == \"horizontal\":\n",
    "        dir_key = \"h\"\n",
    "\n",
    "    hitmap_key = f\"{angle_dir}-{angle}urad-{int(beta*100)}cm\"\n",
    "\n",
    "    if dir_key == \"v\":\n",
    "        directory = vertical_dir\n",
    "    else:\n",
    "        directory = horizontal_dir\n",
    "\n",
    "    # Find the hitmap file\n",
    "    hitmap_files = []\n",
    "    for file in directory.glob(f\"map-{dir_key}{angle}urad-{int(beta*100)}cm-physics-sd+el-{station}-nodetcut_2024*\"):\n",
    "        hitmap_files += [file]\n",
    "    if len(hitmap_files) == 0:\n",
    "        print(f\"Could not find a hitmap file for key {hitmap_key}\")\n",
    "        continue\n",
    "    if len(hitmap_files) > 1:\n",
    "        print(f\"Found more than one hitmap file for key {hitmap_key}\")\n",
    "        continue\n",
    "\n",
    "    hitmap_file = hitmap_files[0]\n",
    "\n",
    "    hitmaps[hitmap_key] = pps_hitmaps.PPSHitmap(\n",
    "        hitmap_file,\n",
    "        station,\n",
    "        Helper20240606.detector_edge[station][beta],\n",
    "        betastar = beta,\n",
    "        yStep=0.000025,\n",
    "        xStep=0.000025,\n",
    "        verbose = False,\n",
    "        addBackgroundFlux = noBackgroundFlux,\n",
    "    )\n",
    "    hitmaps[hitmap_key+\"-background\"] = pps_hitmaps.PPSHitmap(\n",
    "        hitmap_file,\n",
    "        station,\n",
    "        Helper20240606.detector_edge[station][beta],\n",
    "        betastar = beta,\n",
    "        yStep=0.000025,\n",
    "        xStep=0.000025,\n",
    "        verbose = False,\n",
    "        addBackgroundFlux = backgroundFlux,\n",
    "    )\n",
    "\n",
    "\n",
    "#test_hitmap = hitmaps[\"196-physics\"]\n",
    "\n",
    "print(\"Validating the hitmap files:\")\n",
    "for map in hitmaps:\n",
    "    print(\"  - Map {}\".format(map))\n",
    "    hitmaps[map].validate()"
   ]
  },
  {
   "cell_type": "markdown",
   "metadata": {},
   "source": [
    "## Fluxmaps"
   ]
  },
  {
   "cell_type": "markdown",
   "metadata": {},
   "source": [
    "### Create Histograms"
   ]
  },
  {
   "cell_type": "code",
   "execution_count": null,
   "metadata": {},
   "outputs": [],
   "source": [
    "hitmap_histograms = {}\n",
    "\n",
    "for angle_dir, angle, beta in angle_beta:\n",
    "    hitmap_key = f\"{angle_dir}-{angle}urad-{int(beta*100)}cm\"\n",
    "\n",
    "    hitmap_histograms[hitmap_key] = {\n",
    "        \"physics\": hitmaps[hitmap_key].getHisto(\n",
    "            f\"station{station}-{angle_dir}-{angle}urad-{int(beta*100)}cm\",\n",
    "            f\"Station {station} - {angle_dir} crossing angle, {angle} urad; {int(beta*100)}cm Beta star\",\n",
    "                                                ),\n",
    "        \"background\": hitmaps[hitmap_key+\"-background\"].getHisto(\n",
    "            f\"station{station}-background-{angle_dir}-{angle}urad-{int(beta*100)}cm\",\n",
    "            f\"Station {station} with {backgroundTitle} Background - {angle_dir} crossing angle, {angle} urad; {int(beta*100)}cm Beta star\",\n",
    "                                                ),\n",
    "    }\n"
   ]
  },
  {
   "cell_type": "markdown",
   "metadata": {},
   "source": [
    "### Plot Histograms"
   ]
  },
  {
   "cell_type": "code",
   "execution_count": null,
   "metadata": {},
   "outputs": [],
   "source": [
    "def drawFluxmapWithBackground(angle_dir, angle):\n",
    "    canv = ROOT.TCanvas(f\"{angle_dir}_{angle}urad_detectorEdge\", f\"{angle_dir}_{angle}urad_detectorEdge\", 1200, 600)\n",
    "    canv.Divide(2,1)\n",
    "\n",
    "    betas = [0.50, 0.20]\n",
    "    if angle_dir == \"horizontal\":\n",
    "        betas = [0.50, 0.15]\n",
    "\n",
    "    idx = 0\n",
    "    memory = {}\n",
    "    for beta in betas:\n",
    "        hitmap_key = f\"{angle_dir}-{angle}urad-{int(beta*100)}cm\"\n",
    "        idx += 1\n",
    "        pad = canv.cd(idx)\n",
    "\n",
    "        pad.SetTicks()\n",
    "        pad.SetLogz()\n",
    "        pad.SetLeftMargin(0.11)\n",
    "        pad.SetRightMargin(0.16)\n",
    "        pad.SetTopMargin(0.07)\n",
    "        pad.SetBottomMargin(0.14)\n",
    "\n",
    "        memory[hitmap_key] = {}\n",
    "        memory[hitmap_key][\"histogram\"] = hitmap_histograms[hitmap_key][\"physics\"].Clone()\n",
    "        memory[hitmap_key][\"histogram\"].SetTitle(f\"$\\\\beta^* = {int(beta*100)} \\, \\\\text{{cm}}$\")\n",
    "\n",
    "        memory[hitmap_key][\"histogram\"].Draw(\"colz\")\n",
    "\n",
    "        edge = hitmaps[hitmap_key].detectorEdge * 1000 # Convert to mm for drawing\n",
    "        yMin = hitmaps[hitmap_key].yMin * 1000         # Convert to mm for drawing\n",
    "        yMax = hitmaps[hitmap_key].yMax * 1000         # Convert to mm for drawing\n",
    "        memory[hitmap_key][\"line\"] = ROOT.TLine(edge,yMin,edge,yMax)\n",
    "        memory[hitmap_key][\"line\"].SetLineColor(ROOT.kRed)\n",
    "        memory[hitmap_key][\"line\"].Draw(\"same\")\n",
    "    return canv, memory"
   ]
  },
  {
   "cell_type": "markdown",
   "metadata": {},
   "source": [
    "#### Vertical 250 urad"
   ]
  },
  {
   "cell_type": "code",
   "execution_count": null,
   "metadata": {},
   "outputs": [],
   "source": [
    "canv, persistance = drawFluxmapWithBackground(\"vertical\", 250)\n",
    "\n",
    "canv.Draw()"
   ]
  },
  {
   "cell_type": "markdown",
   "metadata": {},
   "source": [
    "#### Vertical 125 urad"
   ]
  },
  {
   "cell_type": "code",
   "execution_count": null,
   "metadata": {},
   "outputs": [],
   "source": [
    "canv, persistance = drawFluxmapWithBackground(\"vertical\", 125)\n",
    "\n",
    "canv.Draw()"
   ]
  },
  {
   "cell_type": "markdown",
   "metadata": {},
   "source": [
    "#### Horizontal 250 urad"
   ]
  },
  {
   "cell_type": "code",
   "execution_count": null,
   "metadata": {},
   "outputs": [],
   "source": [
    "canv, persistance = drawFluxmapWithBackground(\"horizontal\", 250)\n",
    "\n",
    "canv.Draw()"
   ]
  },
  {
   "cell_type": "markdown",
   "metadata": {},
   "source": [
    "#### Horizontal 125 urad"
   ]
  },
  {
   "cell_type": "code",
   "execution_count": null,
   "metadata": {},
   "outputs": [],
   "source": [
    "canv, persistance = drawFluxmapWithBackground(\"horizontal\", 125)\n",
    "\n",
    "canv.Draw()"
   ]
  },
  {
   "cell_type": "markdown",
   "metadata": {},
   "source": [
    "### Plot Histograms with Background"
   ]
  },
  {
   "cell_type": "code",
   "execution_count": null,
   "metadata": {},
   "outputs": [],
   "source": [
    "def drawFluxmapWithBackground(angle_dir, angle):\n",
    "    canv = ROOT.TCanvas(f\"{angle_dir}_{angle}urad_background\", f\"{angle_dir}_{angle}urad_background\", 1200, 1200)\n",
    "    canv.Divide(2,2)\n",
    "\n",
    "    betas = [0.50, 0.20]\n",
    "    if angle_dir == \"horizontal\":\n",
    "        betas = [0.50, 0.15]\n",
    "\n",
    "    idx = 0\n",
    "    memory = {}\n",
    "    for beta in betas:\n",
    "        hitmap_key = f\"{angle_dir}-{angle}urad-{int(beta*100)}cm\"\n",
    "        idx += 1\n",
    "\n",
    "        memory[hitmap_key] = {}\n",
    "        memory[hitmap_key][\"histogram\"] = hitmap_histograms[hitmap_key][\"physics\"].Clone()\n",
    "        memory[hitmap_key][\"histogram\"].SetTitle(f\"$\\\\beta^* = {int(beta*100)} \\, \\\\text{{cm}}$\")\n",
    "        memory[hitmap_key][\"background-histogram\"] = hitmap_histograms[hitmap_key][\"background\"].Clone()\n",
    "        memory[hitmap_key][\"background-histogram\"].SetTitle(f\"$\\\\beta^* = {int(beta*100)} \\, \\\\text{{cm}}$\")\n",
    "        memory[hitmap_key][\"background-histogram\"].SetMinimum(backgroundFlux*0.9)\n",
    "\n",
    "        edge = hitmaps[hitmap_key].detectorEdge * 1000 # Convert to mm for drawing\n",
    "        yMin = hitmaps[hitmap_key].yMin * 1000         # Convert to mm for drawing\n",
    "        yMax = hitmaps[hitmap_key].yMax * 1000         # Convert to mm for drawing\n",
    "        memory[hitmap_key][\"line\"] = ROOT.TLine(edge,yMin,edge,yMax)\n",
    "        memory[hitmap_key][\"line\"].SetLineColor(ROOT.kRed)\n",
    "\n",
    "        pad = canv.cd((idx-1)*2+1)\n",
    "        pad.SetTicks()\n",
    "        pad.SetLogz()\n",
    "        pad.SetLeftMargin(0.11)\n",
    "        pad.SetRightMargin(0.16)\n",
    "        pad.SetTopMargin(0.07)\n",
    "        pad.SetBottomMargin(0.14)\n",
    "        memory[hitmap_key][\"histogram\"].Draw(\"colz\")\n",
    "        memory[hitmap_key][\"line\"].Draw(\"same\")\n",
    "\n",
    "        pad = canv.cd((idx-1)*2+2)\n",
    "        pad.SetTicks()\n",
    "        pad.SetLogz()\n",
    "        pad.SetLeftMargin(0.11)\n",
    "        pad.SetRightMargin(0.16)\n",
    "        pad.SetTopMargin(0.07)\n",
    "        pad.SetBottomMargin(0.14)\n",
    "        memory[hitmap_key][\"background-histogram\"].Draw(\"colz\")\n",
    "        memory[hitmap_key][\"line\"].Draw(\"same\")\n",
    "    return canv, memory"
   ]
  },
  {
   "cell_type": "markdown",
   "metadata": {},
   "source": [
    "#### Vertical 250 urad"
   ]
  },
  {
   "cell_type": "code",
   "execution_count": null,
   "metadata": {},
   "outputs": [],
   "source": [
    "canv, persistance = drawFluxmapWithBackground(\"vertical\", 250)\n",
    "\n",
    "canv.Draw()"
   ]
  },
  {
   "cell_type": "markdown",
   "metadata": {},
   "source": [
    "#### Vertical 125 urad"
   ]
  },
  {
   "cell_type": "code",
   "execution_count": null,
   "metadata": {},
   "outputs": [],
   "source": [
    "canv, persistance = drawFluxmapWithBackground(\"vertical\", 125)\n",
    "\n",
    "canv.Draw()"
   ]
  },
  {
   "cell_type": "markdown",
   "metadata": {},
   "source": [
    "#### Horizontal 250 urad"
   ]
  },
  {
   "cell_type": "code",
   "execution_count": null,
   "metadata": {},
   "outputs": [],
   "source": [
    "canv, persistance = drawFluxmapWithBackground(\"horizontal\", 250)\n",
    "\n",
    "canv.Draw()"
   ]
  },
  {
   "cell_type": "markdown",
   "metadata": {},
   "source": [
    "#### Horizontal 125 urad"
   ]
  },
  {
   "cell_type": "code",
   "execution_count": null,
   "metadata": {},
   "outputs": [],
   "source": [
    "canv, persistance = drawFluxmapWithBackground(\"horizontal\", 125)\n",
    "\n",
    "canv.Draw()"
   ]
  },
  {
   "cell_type": "markdown",
   "metadata": {},
   "source": [
    "### Overlaid Sensor Nominal Positions"
   ]
  },
  {
   "cell_type": "code",
   "execution_count": null,
   "metadata": {},
   "outputs": [],
   "source": [
    "sensor = new_sensor_ti\n",
    "xSensorSize = sensor.maxX - sensor.minX\n",
    "ySensorSize = sensor.maxY - sensor.minY\n",
    "\n",
    "nominal_positions = Helper20240606.getNominalPositions(hitmaps, xSensorSize)"
   ]
  },
  {
   "cell_type": "code",
   "execution_count": null,
   "metadata": {},
   "outputs": [],
   "source": [
    "def drawFluxmapWithSensor(angle_dir, angle, sensor_positions = None):\n",
    "    canv = ROOT.TCanvas(f\"{angle_dir}_{angle}urad_overlaidSensor\", f\"{angle_dir}_{angle}urad_overlaidSensor\", 1200, 600)\n",
    "    canv.Divide(2,1)\n",
    "\n",
    "    betas = [0.50, 0.20]\n",
    "    if angle_dir == \"horizontal\":\n",
    "        betas = [0.50, 0.15]\n",
    "\n",
    "    idx = 0\n",
    "    memory = {}\n",
    "    for beta in betas:\n",
    "        hitmap_key = f\"{angle_dir}-{angle}urad-{int(beta*100)}cm\"\n",
    "        position_key = f\"{angle_dir}-{angle}urad\"\n",
    "        idx += 1\n",
    "        pad = canv.cd(idx)\n",
    "\n",
    "        pad.SetTicks()\n",
    "        pad.SetLogz()\n",
    "        pad.SetLeftMargin(0.11)\n",
    "        pad.SetRightMargin(0.16)\n",
    "        pad.SetTopMargin(0.07)\n",
    "        pad.SetBottomMargin(0.14)\n",
    "\n",
    "        if sensor_positions is not None:\n",
    "            offsetX, offsetY = sensor_positions[position_key]\n",
    "        else:\n",
    "            offsetY = hitmaps[hitmap_key].maxFluence[\"y\"]*1000\n",
    "        offsetX = hitmaps[hitmap_key].detectorEdge*1000 + xSensorSize/2\n",
    "\n",
    "        memory[hitmap_key] = {}\n",
    "        memory[hitmap_key][\"histogram\"] = hitmap_histograms[hitmap_key][\"physics\"].Clone()\n",
    "        memory[hitmap_key][\"histogram\"].SetTitle(f\"$\\\\beta^* = {int(beta*100)} \\, \\\\text{{cm}}$\")\n",
    "\n",
    "        memory[hitmap_key][\"histogram\"].Draw(\"colz\")\n",
    "\n",
    "        edge = hitmaps[hitmap_key].detectorEdge * 1000 # Convert to mm for drawing\n",
    "        yMin = hitmaps[hitmap_key].yMin * 1000         # Convert to mm for drawing\n",
    "        yMax = hitmaps[hitmap_key].yMax * 1000         # Convert to mm for drawing\n",
    "        memory[hitmap_key][\"line\"] = ROOT.TLine(edge,yMin,edge,yMax)\n",
    "        memory[hitmap_key][\"line\"].SetLineColor(ROOT.kRed)\n",
    "        memory[hitmap_key][\"line\"].Draw(\"same\")\n",
    "\n",
    "        memory[hitmap_key][\"sensorLines\"] = {}\n",
    "        memory[hitmap_key][\"sensorLines\"][\"Left\"]   = ROOT.TLine( sensor.minX + offsetX, sensor.minY + offsetY,\n",
    "                                                                  sensor.minX + offsetX, sensor.maxY + offsetY)\n",
    "        memory[hitmap_key][\"sensorLines\"][\"Right\"]  = ROOT.TLine( sensor.maxX + offsetX, sensor.minY + offsetY,\n",
    "                                                                  sensor.maxX + offsetX, sensor.maxY + offsetY)\n",
    "        memory[hitmap_key][\"sensorLines\"][\"Top\"]    = ROOT.TLine( sensor.minX + offsetX, sensor.minY + offsetY,\n",
    "                                                                  sensor.maxX + offsetX, sensor.minY + offsetY)\n",
    "        memory[hitmap_key][\"sensorLines\"][\"Bottom\"] = ROOT.TLine( sensor.minX + offsetX, sensor.maxY + offsetY,\n",
    "                                                                  sensor.maxX + offsetX, sensor.maxY + offsetY)\n",
    "        for key in memory[hitmap_key][\"sensorLines\"]:\n",
    "            memory[hitmap_key][\"sensorLines\"][key].SetLineColor(ROOT.kRed)\n",
    "\n",
    "        padID = 0\n",
    "        for pad in sensor.padVec:\n",
    "            minX = pad.minX\n",
    "            maxX = pad.maxX\n",
    "            minY = pad.minY\n",
    "            maxY = pad.maxY\n",
    "\n",
    "            memory[hitmap_key][\"sensorLines\"][f\"pad{padID}_Left\"]   = ROOT.TLine( minX + offsetX, minY + offsetY,\n",
    "                                                                                  minX + offsetX, maxY + offsetY)\n",
    "            memory[hitmap_key][\"sensorLines\"][f\"pad{padID}_Right\"]  = ROOT.TLine( maxX + offsetX, minY + offsetY,\n",
    "                                                                                  maxX + offsetX, maxY + offsetY)\n",
    "            memory[hitmap_key][\"sensorLines\"][f\"pad{padID}_Top\"]    = ROOT.TLine( minX + offsetX, minY + offsetY,\n",
    "                                                                                  maxX + offsetX, minY + offsetY)\n",
    "            memory[hitmap_key][\"sensorLines\"][f\"pad{padID}_Bottom\"] = ROOT.TLine( minX + offsetX, maxY + offsetY,\n",
    "                                                                                  maxX + offsetX, maxY + offsetY)\n",
    "\n",
    "            memory[hitmap_key][\"sensorLines\"][f\"pad{padID}_Left\"].SetLineColor(ROOT.kBlue)\n",
    "            memory[hitmap_key][\"sensorLines\"][f\"pad{padID}_Right\"].SetLineColor(ROOT.kBlue)\n",
    "            memory[hitmap_key][\"sensorLines\"][f\"pad{padID}_Top\"].SetLineColor(ROOT.kBlue)\n",
    "            memory[hitmap_key][\"sensorLines\"][f\"pad{padID}_Bottom\"].SetLineColor(ROOT.kBlue)\n",
    "\n",
    "            padID += 1\n",
    "\n",
    "        for key in memory[hitmap_key][\"sensorLines\"]:\n",
    "            memory[hitmap_key][\"sensorLines\"][key].Draw(\"same\")\n",
    "\n",
    "    return canv, memory"
   ]
  },
  {
   "cell_type": "markdown",
   "metadata": {},
   "source": [
    "#### Vertical 250 urad"
   ]
  },
  {
   "cell_type": "code",
   "execution_count": null,
   "metadata": {},
   "outputs": [],
   "source": [
    "canv, persistance = drawFluxmapWithSensor(\"vertical\", 250)\n",
    "\n",
    "canv.Draw()"
   ]
  },
  {
   "cell_type": "markdown",
   "metadata": {},
   "source": [
    "#### Vertical 125 urad"
   ]
  },
  {
   "cell_type": "code",
   "execution_count": null,
   "metadata": {},
   "outputs": [],
   "source": [
    "canv, persistance = drawFluxmapWithSensor(\"vertical\", 125)\n",
    "\n",
    "canv.Draw()"
   ]
  },
  {
   "cell_type": "markdown",
   "metadata": {},
   "source": [
    "#### Horizontal 250 urad"
   ]
  },
  {
   "cell_type": "code",
   "execution_count": null,
   "metadata": {},
   "outputs": [],
   "source": [
    "canv, persistance = drawFluxmapWithSensor(\"horizontal\", 250)\n",
    "\n",
    "canv.Draw()"
   ]
  },
  {
   "cell_type": "markdown",
   "metadata": {},
   "source": [
    "#### Horizontal 125 urad"
   ]
  },
  {
   "cell_type": "code",
   "execution_count": null,
   "metadata": {},
   "outputs": [],
   "source": [
    "canv, persistance = drawFluxmapWithSensor(\"horizontal\", 125)\n",
    "\n",
    "canv.Draw()"
   ]
  },
  {
   "cell_type": "markdown",
   "metadata": {},
   "source": [
    "#### Nominal Positions"
   ]
  },
  {
   "cell_type": "code",
   "execution_count": null,
   "metadata": {},
   "outputs": [],
   "source": [
    "for key in nominal_positions:\n",
    "    print(f\"{key}: {nominal_positions[key]}\")"
   ]
  },
  {
   "cell_type": "markdown",
   "metadata": {},
   "source": [
    "### Overlaid Sensor Adjusted Positions"
   ]
  },
  {
   "cell_type": "code",
   "execution_count": null,
   "metadata": {},
   "outputs": [],
   "source": [
    "sensor = new_sensor_ti\n",
    "xSensorSize = sensor.maxX - sensor.minX\n",
    "ySensorSize = sensor.maxY - sensor.minY\n",
    "\n",
    "adjusted_positions = Helper20240606.getAdjustedPositions(nominal_positions, station)\n",
    "for key in adjusted_positions:\n",
    "    print(f\"{key}: {adjusted_positions[key]}\")"
   ]
  },
  {
   "cell_type": "markdown",
   "metadata": {},
   "source": [
    "#### Vertical 250 urad"
   ]
  },
  {
   "cell_type": "code",
   "execution_count": null,
   "metadata": {},
   "outputs": [],
   "source": [
    "canv, persistance = drawFluxmapWithSensor(\"vertical\", 250, adjusted_positions)\n",
    "\n",
    "canv.Draw()"
   ]
  },
  {
   "cell_type": "markdown",
   "metadata": {},
   "source": [
    "#### Vertical 125 urad"
   ]
  },
  {
   "cell_type": "code",
   "execution_count": null,
   "metadata": {},
   "outputs": [],
   "source": [
    "canv, persistance = drawFluxmapWithSensor(\"vertical\", 125, adjusted_positions)\n",
    "\n",
    "canv.Draw()"
   ]
  },
  {
   "cell_type": "markdown",
   "metadata": {},
   "source": [
    "#### Horizontal 250 urad"
   ]
  },
  {
   "cell_type": "code",
   "execution_count": null,
   "metadata": {},
   "outputs": [],
   "source": [
    "canv, persistance = drawFluxmapWithSensor(\"horizontal\", 250, adjusted_positions)\n",
    "\n",
    "canv.Draw()"
   ]
  },
  {
   "cell_type": "markdown",
   "metadata": {},
   "source": [
    "#### Horizontal 125 urad"
   ]
  },
  {
   "cell_type": "code",
   "execution_count": null,
   "metadata": {},
   "outputs": [],
   "source": [
    "canv, persistance = drawFluxmapWithSensor(\"horizontal\", 125, adjusted_positions)\n",
    "\n",
    "canv.Draw()"
   ]
  },
  {
   "cell_type": "markdown",
   "metadata": {},
   "source": [
    "## Occupancy Plots"
   ]
  },
  {
   "cell_type": "markdown",
   "metadata": {},
   "source": [
    "### Get Square Pad Occupancy and plot it"
   ]
  },
  {
   "cell_type": "code",
   "execution_count": null,
   "metadata": {},
   "outputs": [],
   "source": [
    "square_occupancy_graphs = {}\n",
    "\n",
    "for angle_dir, angle, beta in angle_beta:\n",
    "    hitmap_key = f\"{angle_dir}-{angle}urad-{int(beta*100)}cm\"\n",
    "\n",
    "    square_occupancy_graphs[hitmap_key] = {\n",
    "        \"physics\": hitmaps[hitmap_key].squarePadOccupancy(),\n",
    "        \"background\": hitmaps[hitmap_key+\"-background\"].squarePadOccupancy(),\n",
    "    }"
   ]
  },
  {
   "cell_type": "code",
   "execution_count": null,
   "metadata": {},
   "outputs": [],
   "source": [
    "for angle_dir, angle, beta in angle_beta:\n",
    "    hitmap_key = f\"{angle_dir}-{angle}urad-{int(beta*100)}cm\"\n",
    "    if hitmap_key not in square_occupancy_graphs:\n",
    "        continue\n",
    "\n",
    "    if \"canv\" not in square_occupancy_graphs[hitmap_key]:\n",
    "        square_occupancy_graphs[hitmap_key][\"canv\"] = ROOT.TCanvas(f\"square_occupancy_vs_padSize_{station}_{angle_dir}-{angle}urad-{int(beta*100)}cm\", f\"Station {station} - Occupancy vs Pad Size - {angle}urad {angle_dir} {int(beta*100)}cm\", 1200, 600)\n",
    "        square_occupancy_graphs[hitmap_key][\"canv\"].Divide(2,1)\n",
    "\n",
    "        idx = 0\n",
    "        for hitmap_type in ['physics', 'background']:\n",
    "            idx += 1\n",
    "            pad = square_occupancy_graphs[hitmap_key][\"canv\"].cd(idx)\n",
    "            pad.SetLogx()\n",
    "            pad.SetLogy()\n",
    "            pad.SetTicks()\n",
    "\n",
    "            title = f\"{angle}urad {angle_dir} {int(beta*100)}cm - {station}m\"\n",
    "            if hitmap_type == 'background':\n",
    "                title = f\"{angle}urad {angle_dir} {int(beta*100)}cm - {station}m with {backgroundTitle} Background\"\n",
    "\n",
    "            if \"frame\" not in square_occupancy_graphs[hitmap_key][hitmap_type]:\n",
    "                square_occupancy_graphs[hitmap_key][hitmap_type][\"frame\"] = ROOT.TH2D(f\"frame_square_{station}_{angle_dir}-{angle}urad-{int(beta*100)}cm_{hitmap_type}\", title, 100, 10, 10000, 100, 1.0E-5, 1)\n",
    "                square_occupancy_graphs[hitmap_key][hitmap_type][\"frame\"].SetStats(False)\n",
    "                square_occupancy_graphs[hitmap_key][hitmap_type][\"frame\"].GetXaxis().SetTitle(\"Pad Width [#mum]\")\n",
    "                square_occupancy_graphs[hitmap_key][hitmap_type][\"frame\"].GetYaxis().SetTitle(\"#mu\")\n",
    "\n",
    "            square_occupancy_graphs[hitmap_key][hitmap_type][\"frame\"].Draw()\n",
    "\n",
    "            square_occupancy_graphs[hitmap_key][hitmap_type][\"uniform\"].Draw(\"l same\")\n",
    "            square_occupancy_graphs[hitmap_key][hitmap_type][\"integrate\"].Draw(\"l same\")\n",
    "            square_occupancy_graphs[hitmap_key][hitmap_type][\"points\"].SetMarkerStyle(20)\n",
    "            square_occupancy_graphs[hitmap_key][hitmap_type][\"points\"].Draw(\"p same\")\n",
    "\n",
    "    square_occupancy_graphs[hitmap_key][\"canv\"].Draw()"
   ]
  },
  {
   "cell_type": "markdown",
   "metadata": {},
   "source": [
    "### Get Rectangular Pad Occupancy and plot it"
   ]
  },
  {
   "cell_type": "code",
   "execution_count": null,
   "metadata": {},
   "outputs": [],
   "source": [
    "rect_occupancy_graphs = {}\n",
    "\n",
    "for angle_dir, angle, beta in angle_beta:\n",
    "    hitmap_key = f\"{angle_dir}-{angle}urad-{int(beta*100)}cm\"\n",
    "\n",
    "    rect_occupancy_graphs[hitmap_key] = {\n",
    "        \"physics\": hitmaps[hitmap_key].rectangularPadOccupancy(xLen=1.3e-3),\n",
    "        \"background\": hitmaps[hitmap_key+\"-background\"].rectangularPadOccupancy(xLen=1.3e-3),\n",
    "    }"
   ]
  },
  {
   "cell_type": "code",
   "execution_count": null,
   "metadata": {},
   "outputs": [],
   "source": [
    "for angle_dir, angle, beta in angle_beta:\n",
    "    hitmap_key = f\"{angle_dir}-{angle}urad-{int(beta*100)}cm\"\n",
    "    if hitmap_key not in rect_occupancy_graphs:\n",
    "        continue\n",
    "\n",
    "    if \"canv\" not in rect_occupancy_graphs[hitmap_key]:\n",
    "        rect_occupancy_graphs[hitmap_key][\"canv\"] = ROOT.TCanvas(f\"rect_occupancy_vs_padSize_{station}_{angle_dir}-{angle}urad-{int(beta*100)}cm\", f\"Station {station} - Occupancy vs Pad Size - {angle}urad {angle_dir} {int(beta*100)}cm\", 1200, 600)\n",
    "        rect_occupancy_graphs[hitmap_key][\"canv\"].Divide(2,1)\n",
    "\n",
    "        idx = 0\n",
    "        for hitmap_type in ['physics', 'background']:\n",
    "            idx += 1\n",
    "            pad = rect_occupancy_graphs[hitmap_key][\"canv\"].cd(idx)\n",
    "            pad.SetLogx()\n",
    "            pad.SetLogy()\n",
    "            pad.SetTicks()\n",
    "\n",
    "            title = f\"{angle}urad {angle_dir} {int(beta*100)}cm - {station}m\"\n",
    "            if hitmap_type == 'background':\n",
    "                title = f\"{angle}urad {angle_dir} {int(beta*100)}cm - {station}m with {backgroundTitle} Background\"\n",
    "\n",
    "            if \"frame\" not in rect_occupancy_graphs[hitmap_key][hitmap_type]:\n",
    "                rect_occupancy_graphs[hitmap_key][hitmap_type][\"frame\"] = ROOT.TH2D(f\"frame_rect_{station}_{angle_dir}-{angle}urad-{int(beta*100)}cm_{hitmap_type}\", title, 100, 10, 10000, 100, 1.0E-5, 1)\n",
    "                rect_occupancy_graphs[hitmap_key][hitmap_type][\"frame\"].SetStats(False)\n",
    "                rect_occupancy_graphs[hitmap_key][hitmap_type][\"frame\"].GetXaxis().SetTitle(\"Pad Width [#mum]\")\n",
    "                rect_occupancy_graphs[hitmap_key][hitmap_type][\"frame\"].GetYaxis().SetTitle(\"#mu\")\n",
    "\n",
    "            rect_occupancy_graphs[hitmap_key][hitmap_type][\"frame\"].Draw()\n",
    "\n",
    "            rect_occupancy_graphs[hitmap_key][hitmap_type][\"uniform\"].Draw(\"l same\")\n",
    "            rect_occupancy_graphs[hitmap_key][hitmap_type][\"integrate\"].Draw(\"l same\")\n",
    "            rect_occupancy_graphs[hitmap_key][hitmap_type][\"points\"].SetMarkerStyle(20)\n",
    "            rect_occupancy_graphs[hitmap_key][hitmap_type][\"points\"].Draw(\"p same\")\n",
    "\n",
    "    rect_occupancy_graphs[hitmap_key][\"canv\"].Draw()"
   ]
  },
  {
   "cell_type": "code",
   "execution_count": null,
   "metadata": {},
   "outputs": [],
   "source": [
    "occupancy_graphs = {\n",
    "    'square': square_occupancy_graphs,\n",
    "    'rectangular': rect_occupancy_graphs,\n",
    "}"
   ]
  },
  {
   "cell_type": "markdown",
   "metadata": {},
   "source": [
    "## Event Loss Probabilities"
   ]
  },
  {
   "cell_type": "markdown",
   "metadata": {},
   "source": [
    "### Convert Occupancy to Event Loss Probabilities"
   ]
  },
  {
   "cell_type": "code",
   "execution_count": null,
   "metadata": {},
   "outputs": [],
   "source": [
    "event_loss_probabilities = {}\n",
    "\n",
    "for pad_type in occupancy_graphs:\n",
    "    if pad_type not in event_loss_probabilities:\n",
    "        event_loss_probabilities[pad_type] = {}\n",
    "\n",
    "    for hitmap_key in occupancy_graphs[pad_type]:\n",
    "        if hitmap_key not in event_loss_probabilities[pad_type]:\n",
    "            event_loss_probabilities[pad_type][hitmap_key] = {}\n",
    "\n",
    "        for hitmap_type in occupancy_graphs[pad_type][hitmap_key]:\n",
    "            if hitmap_type == \"canv\":\n",
    "                continue\n",
    "            event_loss_probabilities[pad_type][hitmap_key][hitmap_type] = pps_hitmaps.occupancyGraphToEventLossProbability(\n",
    "                occupancy_graphs[pad_type][hitmap_key][hitmap_type]['integrate']\n",
    "            )"
   ]
  },
  {
   "cell_type": "markdown",
   "metadata": {},
   "source": [
    "### Plot Event Loss Probability vs Pad Dimensions"
   ]
  },
  {
   "cell_type": "code",
   "execution_count": null,
   "metadata": {},
   "outputs": [],
   "source": [
    "prob_vs_dim_canvas = {}\n",
    "prob_vs_dim_objs = {}\n",
    "\n",
    "drawTimeSteps = [0, 1, 3, 7, 39, 399]\n",
    "\n",
    "for angle_dir, angle, beta in angle_beta:\n",
    "    hitmap_key = f\"{angle_dir}-{angle}urad-{int(beta*100)}cm\"\n",
    "\n",
    "    do_continue = False\n",
    "    for pad_type in occupancy_graphs:\n",
    "        if hitmap_key not in occupancy_graphs[pad_type]:\n",
    "            do_continue = True\n",
    "            break\n",
    "    if do_continue:\n",
    "        continue\n",
    "\n",
    "    if hitmap_key not in prob_vs_dim_objs:\n",
    "        prob_vs_dim_objs[hitmap_key] = {}\n",
    "\n",
    "    canv = ROOT.TCanvas(f\"probability_vs_dimension_{hitmap_key}\", f\"{angle}urad {angle_dir} {int(beta*100)}cm Station {station} - Event Loss Probability vs Pad Dimensions\", 1200, 1200)\n",
    "    canv.Divide(2,2)\n",
    "\n",
    "    idx = 0\n",
    "    for pad_type in event_loss_probabilities:\n",
    "        pad_title = \"Square Pad\"\n",
    "        x_title = \"Pad Size [#mum]\"\n",
    "        if pad_type == \"rectangular\":\n",
    "            pad_title = \"Rectangular Pad\"\n",
    "            x_title = \"Pad Width [#mum]\"\n",
    "\n",
    "        if pad_type not in prob_vs_dim_objs[hitmap_key]:\n",
    "            prob_vs_dim_objs[hitmap_key][pad_type] = {}\n",
    "\n",
    "        for hitmap_type in event_loss_probabilities[pad_type][hitmap_key]:\n",
    "            hitmap_title = \"\"\n",
    "            if hitmap_type == 'background':\n",
    "                hitmap_title = f\" with {backgroundTitle} Background\"\n",
    "\n",
    "            if hitmap_type not in prob_vs_dim_objs[hitmap_key][pad_type]:\n",
    "                prob_vs_dim_objs[hitmap_key][pad_type][hitmap_type] = {}\n",
    "\n",
    "            frame = ROOT.TH2D(f\"frame_{hitmap_key}_{pad_type}_{hitmap_type}\", f\"{angle}urad {angle_dir} {int(beta*100)}cm Station {station} {pad_title}{hitmap_title}\", 100, 10, 10000, 100, 0.001, 1.1)\n",
    "            frame.SetStats(False)\n",
    "            frame.GetXaxis().SetTitle(x_title)\n",
    "            frame.GetYaxis().SetTitle(\"Event Loss Probability\")\n",
    "\n",
    "            legend = ROOT.TLegend(0.65,0.1,0.9,0.45)\n",
    "\n",
    "            prob_vs_dim_objs[hitmap_key][pad_type][hitmap_type]['frame'] = frame\n",
    "            prob_vs_dim_objs[hitmap_key][pad_type][hitmap_type]['legend'] = legend\n",
    "\n",
    "            idx += 1\n",
    "            pad = canv.cd(idx)\n",
    "            pad.SetLogx()\n",
    "            pad.SetLogy()\n",
    "            pad.SetTicks()\n",
    "\n",
    "            frame.Draw()\n",
    "\n",
    "            colorOffset = 0\n",
    "            for timeStep in drawTimeSteps:\n",
    "                probability = event_loss_probabilities[pad_type][hitmap_key][hitmap_type][f'prob_timeStep{timeStep}']\n",
    "                length      = event_loss_probabilities[pad_type][hitmap_key][hitmap_type]['length']\n",
    "\n",
    "                x, y = array( 'd' ), array( 'd' )\n",
    "                for ibin in range(len(length)):\n",
    "                    x.append(length[ibin])\n",
    "                    y.append(probability[ibin])\n",
    "                graph = ROOT.TGraph(len(length), x, y)\n",
    "\n",
    "                graph.SetLineColor(ROOT.kAzure + colorOffset)\n",
    "                graph.Draw(\"l same\")\n",
    "                legend.AddEntry(graph, \"#tau #leq {} ns\".format((timeStep+1)*25), \"l\")\n",
    "                colorOffset += 3\n",
    "\n",
    "                prob_vs_dim_objs[hitmap_key][pad_type][hitmap_type][f'graph_timeStep{timeStep}'] = graph\n",
    "\n",
    "            legend.Draw()\n",
    "\n",
    "    canv.Draw()\n",
    "    prob_vs_dim_canvas[hitmap_key] = canv"
   ]
  },
  {
   "cell_type": "markdown",
   "metadata": {},
   "source": [
    "### Reference Points for Pad Sizing"
   ]
  },
  {
   "cell_type": "markdown",
   "metadata": {},
   "source": [
    "#### Pad Size Needed for 10% efficiency with 25 ns deadtime"
   ]
  },
  {
   "cell_type": "code",
   "execution_count": null,
   "metadata": {},
   "outputs": [],
   "source": [
    "table = []\n",
    "rows = []\n",
    "columns = []\n",
    "\n",
    "for angle_dir, angle, beta in angle_beta:\n",
    "    hitmap_key = f\"{angle_dir}-{angle}urad-{int(beta*100)}cm\"\n",
    "\n",
    "    do_continue = False\n",
    "    for pad_type in occupancy_graphs:\n",
    "        if hitmap_key not in occupancy_graphs[pad_type]:\n",
    "            do_continue = True\n",
    "            break\n",
    "    if do_continue:\n",
    "        continue\n",
    "\n",
    "    these_columns = []\n",
    "    this_row = []\n",
    "    for pad_type in event_loss_probabilities:\n",
    "        pad_title = \"Square\"\n",
    "        if pad_type == \"rectangular\":\n",
    "            pad_title = \"Rect\"\n",
    "\n",
    "        for hitmap_type in event_loss_probabilities[pad_type][hitmap_key]:\n",
    "            hitmap_title = \"\"\n",
    "            if hitmap_type == 'background':\n",
    "                hitmap_title = f\" w/ Bkg\"\n",
    "\n",
    "            these_columns += [f\"{pad_title}{hitmap_title}\"]\n",
    "\n",
    "            probability = event_loss_probabilities[pad_type][hitmap_key][hitmap_type][f'prob_timeStep0']\n",
    "            length      = event_loss_probabilities[pad_type][hitmap_key][hitmap_type]['length']\n",
    "\n",
    "            this_row += [numpy.interp(0.1, probability, length)]\n",
    "\n",
    "    if columns == []:\n",
    "        columns = these_columns\n",
    "    if these_columns != columns:\n",
    "        print(\"There is a problem with the ordering\")\n",
    "\n",
    "    table += [this_row]\n",
    "    rows += [f\"{angle_dir} {angle}urad {int(beta*100)}cm\"]\n",
    "\n",
    "df = pandas.DataFrame(table, columns = columns, index=rows)\n",
    "print(df)"
   ]
  },
  {
   "cell_type": "markdown",
   "metadata": {},
   "source": [
    "Units above in $\\mu m$"
   ]
  },
  {
   "cell_type": "markdown",
   "metadata": {},
   "source": [
    "#### Loss Probability for different pad sizes with 25 ns deadtime"
   ]
  },
  {
   "cell_type": "code",
   "execution_count": null,
   "metadata": {},
   "outputs": [],
   "source": [
    "table2 = []\n",
    "table3 = []\n",
    "table4 = []\n",
    "rows = []\n",
    "columns = []\n",
    "for angle_dir, angle, beta in angle_beta:\n",
    "    hitmap_key = f\"{angle_dir}-{angle}urad-{int(beta*100)}cm\"\n",
    "    do_continue = False\n",
    "    for pad_type in occupancy_graphs:\n",
    "        if hitmap_key not in occupancy_graphs[pad_type]:\n",
    "            do_continue = True\n",
    "            break\n",
    "    if do_continue:\n",
    "        continue\n",
    "\n",
    "    these_columns = []\n",
    "    this_row2 = []\n",
    "    this_row3 = []\n",
    "    this_row4 = []\n",
    "    for pad_type in event_loss_probabilities:\n",
    "        pad_title = \"Square\"\n",
    "        if pad_type == \"rectangular\":\n",
    "            pad_title = \"Rect\"\n",
    "\n",
    "        for hitmap_type in event_loss_probabilities[pad_type][hitmap_key]:\n",
    "            hitmap_title = \"\"\n",
    "            if hitmap_type == 'background':\n",
    "                hitmap_title = f\" w/ Bkg\"\n",
    "\n",
    "            these_columns += [f\"{pad_title}{hitmap_title}\"]\n",
    "\n",
    "            probability = event_loss_probabilities[pad_type][hitmap_key][hitmap_type][f'prob_timeStep0']\n",
    "            length      = event_loss_probabilities[pad_type][hitmap_key][hitmap_type]['length']\n",
    "\n",
    "            this_row2 += [numpy.interp(1300/2, length, probability)]\n",
    "            this_row3 += [numpy.interp(1300/3, length, probability)]\n",
    "            this_row4 += [numpy.interp(1300/4, length, probability)]\n",
    "\n",
    "    if columns == []:\n",
    "        columns = these_columns\n",
    "    if these_columns != columns:\n",
    "        print(\"There is a problem with the ordering\")\n",
    "\n",
    "    table2 += [this_row2]\n",
    "    table3 += [this_row3]\n",
    "    table4 += [this_row4]\n",
    "    rows += [f\"{angle_dir} {angle}urad {int(beta*100)}cm\"]\n",
    "\n",
    "df2 = pandas.DataFrame(table2, columns = columns, index=rows)\n",
    "df3 = pandas.DataFrame(table3, columns = columns, index=rows)\n",
    "df4 = pandas.DataFrame(table4, columns = columns, index=rows)\n",
    "\n",
    "print(f\"Pad dimension 1/2 of nominal ({1.3/2})\")\n",
    "print(df2)\n",
    "print()\n",
    "\n",
    "print(f\"Pad dimension 1/3 of nominal ({1.3/3})\")\n",
    "print(df3)\n",
    "print()\n",
    "\n",
    "print(f\"Pad dimension 1/4 of nominal ({1.3/4})\")\n",
    "print(df4)\n",
    "print()"
   ]
  },
  {
   "cell_type": "markdown",
   "metadata": {},
   "source": [
    "## Vertical Shifts needed over time"
   ]
  },
  {
   "cell_type": "markdown",
   "metadata": {},
   "source": [
    "Assuming 1 year of HL-LHC is $300 fb^{-1}$ and LGAD limit of 2e15 neq/cm^2"
   ]
  },
  {
   "cell_type": "code",
   "execution_count": null,
   "metadata": {},
   "outputs": [],
   "source": [
    "lgad_limit = 2e15\n",
    "luminosity = 300"
   ]
  },
  {
   "cell_type": "markdown",
   "metadata": {},
   "source": [
    "### Vertical Crossing Angle, 250 urad"
   ]
  },
  {
   "cell_type": "markdown",
   "metadata": {},
   "source": [
    "#### Vertical crossing angle, 250 urad; 50 cm $\\beta^*$; no Background"
   ]
  },
  {
   "cell_type": "code",
   "execution_count": null,
   "metadata": {},
   "outputs": [],
   "source": [
    "hitmap_id = \"vertical-250urad-50cm\"\n",
    "if hitmap_id in hitmaps:\n",
    "    canv, persistance = hitmaps[hitmap_id].plotShifts(\n",
    "        integratedLuminosity=luminosity,\n",
    "        thresholdFlux=2*lgad_limit,\n",
    "        plotPadCols=3,\n",
    "        maxNumShifts=9,\n",
    "    )\n",
    "    canv.Draw()"
   ]
  },
  {
   "cell_type": "markdown",
   "metadata": {},
   "source": [
    "#### Vertical crossing angle, 250 urad; 50 cm $\\beta^*$; with Background"
   ]
  },
  {
   "cell_type": "code",
   "execution_count": null,
   "metadata": {},
   "outputs": [],
   "source": [
    "hitmap_id = \"vertical-250urad-50cm-background\"\n",
    "if hitmap_id in hitmaps:\n",
    "    canv, persistance = hitmaps[hitmap_id].plotShifts(\n",
    "        integratedLuminosity=luminosity,\n",
    "        thresholdFlux=2*lgad_limit,\n",
    "        plotPadCols=3,\n",
    "        maxNumShifts=9,\n",
    "    )\n",
    "    canv.Draw()"
   ]
  },
  {
   "cell_type": "markdown",
   "metadata": {},
   "source": [
    "#### Vertical crossing angle, 250 urad; 20 cm $\\beta^*$; no Background"
   ]
  },
  {
   "cell_type": "code",
   "execution_count": null,
   "metadata": {},
   "outputs": [],
   "source": [
    "hitmap_id = \"vertical-250urad-20cm\"\n",
    "if hitmap_id in hitmaps:\n",
    "    canv, persistance = hitmaps[hitmap_id].plotShifts(\n",
    "        integratedLuminosity=luminosity,\n",
    "        thresholdFlux=2*lgad_limit,\n",
    "        plotPadCols=3,\n",
    "        maxNumShifts=9,\n",
    "    )\n",
    "    canv.Draw()"
   ]
  },
  {
   "cell_type": "markdown",
   "metadata": {},
   "source": [
    "#### Vertical crossing angle, 250 urad; 20 cm $\\beta^*$; with Background"
   ]
  },
  {
   "cell_type": "code",
   "execution_count": null,
   "metadata": {},
   "outputs": [],
   "source": [
    "hitmap_id = \"vertical-250urad-20cm-background\"\n",
    "if hitmap_id in hitmaps:\n",
    "    canv, persistance = hitmaps[hitmap_id].plotShifts(\n",
    "        integratedLuminosity=luminosity,\n",
    "        thresholdFlux=2*lgad_limit,\n",
    "        plotPadCols=3,\n",
    "        maxNumShifts=9,\n",
    "    )\n",
    "    canv.Draw()"
   ]
  },
  {
   "cell_type": "markdown",
   "metadata": {},
   "source": [
    "### Vertical Crossing Angle, 125 urad"
   ]
  },
  {
   "cell_type": "markdown",
   "metadata": {},
   "source": [
    "#### Vertical crossing angle, 125 urad; 50 cm $\\beta^*$; no Background"
   ]
  },
  {
   "cell_type": "code",
   "execution_count": null,
   "metadata": {},
   "outputs": [],
   "source": [
    "hitmap_id = \"vertical-125urad-50cm\"\n",
    "if hitmap_id in hitmaps:\n",
    "    canv, persistance = hitmaps[hitmap_id].plotShifts(\n",
    "        integratedLuminosity=luminosity,\n",
    "        thresholdFlux=2*lgad_limit,\n",
    "        plotPadCols=3,\n",
    "        maxNumShifts=9,\n",
    "    )\n",
    "    canv.Draw()"
   ]
  },
  {
   "cell_type": "markdown",
   "metadata": {},
   "source": [
    "#### Vertical crossing angle, 125 urad; 50 cm $\\beta^*$; with Background"
   ]
  },
  {
   "cell_type": "code",
   "execution_count": null,
   "metadata": {},
   "outputs": [],
   "source": [
    "hitmap_id = \"vertical-125urad-50cm-background\"\n",
    "if hitmap_id in hitmaps:\n",
    "    canv, persistance = hitmaps[hitmap_id].plotShifts(\n",
    "        integratedLuminosity=luminosity,\n",
    "        thresholdFlux=2*lgad_limit,\n",
    "        plotPadCols=3,\n",
    "        maxNumShifts=9,\n",
    "    )\n",
    "    canv.Draw()"
   ]
  },
  {
   "cell_type": "markdown",
   "metadata": {},
   "source": [
    "#### Vertical crossing angle, 125 urad; 20 cm $\\beta^*$; no Background"
   ]
  },
  {
   "cell_type": "code",
   "execution_count": null,
   "metadata": {},
   "outputs": [],
   "source": [
    "hitmap_id = \"vertical-125urad-20cm\"\n",
    "if hitmap_id in hitmaps:\n",
    "    canv, persistance = hitmaps[hitmap_id].plotShifts(\n",
    "        integratedLuminosity=luminosity,\n",
    "        thresholdFlux=2*lgad_limit,\n",
    "        plotPadCols=3,\n",
    "        maxNumShifts=9,\n",
    "    )\n",
    "    canv.Draw()"
   ]
  },
  {
   "cell_type": "markdown",
   "metadata": {},
   "source": [
    "#### Vertical crossing angle, 125 urad; 20 cm $\\beta^*$; with Background"
   ]
  },
  {
   "cell_type": "code",
   "execution_count": null,
   "metadata": {},
   "outputs": [],
   "source": [
    "hitmap_id = \"vertical-125urad-20cm-background\"\n",
    "if hitmap_id in hitmaps:\n",
    "    canv, persistance = hitmaps[hitmap_id].plotShifts(\n",
    "        integratedLuminosity=luminosity,\n",
    "        thresholdFlux=2*lgad_limit,\n",
    "        plotPadCols=3,\n",
    "        maxNumShifts=9,\n",
    "    )\n",
    "    canv.Draw()"
   ]
  },
  {
   "cell_type": "markdown",
   "metadata": {},
   "source": [
    "### Horizontal Crossing Angle, 250 urad"
   ]
  },
  {
   "cell_type": "markdown",
   "metadata": {},
   "source": [
    "#### Horizontal crossing angle, 250 urad; 50 cm $\\beta^*$; no Background"
   ]
  },
  {
   "cell_type": "code",
   "execution_count": null,
   "metadata": {},
   "outputs": [],
   "source": [
    "hitmap_id = \"horizontal-250urad-50cm\"\n",
    "if hitmap_id in hitmaps:\n",
    "    canv, persistance = hitmaps[hitmap_id].plotShifts(\n",
    "        integratedLuminosity=luminosity,\n",
    "        thresholdFlux=2*lgad_limit,\n",
    "        plotPadCols=3,\n",
    "        maxNumShifts=9,\n",
    "    )\n",
    "    canv.Draw()"
   ]
  },
  {
   "cell_type": "markdown",
   "metadata": {},
   "source": [
    "#### Horizontal crossing angle, 250 urad; 50 cm $\\beta^*$; with Background"
   ]
  },
  {
   "cell_type": "code",
   "execution_count": null,
   "metadata": {},
   "outputs": [],
   "source": [
    "hitmap_id = \"horizontal-250urad-50cm-background\"\n",
    "if hitmap_id in hitmaps:\n",
    "    canv, persistance = hitmaps[hitmap_id].plotShifts(\n",
    "        integratedLuminosity=luminosity,\n",
    "        thresholdFlux=2*lgad_limit,\n",
    "        plotPadCols=3,\n",
    "        maxNumShifts=9,\n",
    "    )\n",
    "    canv.Draw()"
   ]
  },
  {
   "cell_type": "markdown",
   "metadata": {},
   "source": [
    "#### Horizontal crossing angle, 250 urad; 15 cm $\\beta^*$; no Background"
   ]
  },
  {
   "cell_type": "code",
   "execution_count": null,
   "metadata": {},
   "outputs": [],
   "source": [
    "hitmap_id = \"horizontal-250urad-15cm\"\n",
    "if hitmap_id in hitmaps:\n",
    "    canv, persistance = hitmaps[hitmap_id].plotShifts(\n",
    "        integratedLuminosity=luminosity,\n",
    "        thresholdFlux=2*lgad_limit,\n",
    "        plotPadCols=3,\n",
    "        maxNumShifts=9,\n",
    "    )\n",
    "    canv.Draw()"
   ]
  },
  {
   "cell_type": "markdown",
   "metadata": {},
   "source": [
    "#### Horizontal crossing angle, 250 urad; 15 cm $\\beta^*$; with Background"
   ]
  },
  {
   "cell_type": "code",
   "execution_count": null,
   "metadata": {},
   "outputs": [],
   "source": [
    "hitmap_id = \"horizontal-250urad-15cm-background\"\n",
    "if hitmap_id in hitmaps:\n",
    "    canv, persistance = hitmaps[hitmap_id].plotShifts(\n",
    "        integratedLuminosity=luminosity,\n",
    "        thresholdFlux=2*lgad_limit,\n",
    "        plotPadCols=3,\n",
    "        maxNumShifts=9,\n",
    "    )\n",
    "    canv.Draw()"
   ]
  },
  {
   "cell_type": "markdown",
   "metadata": {},
   "source": [
    "### Horizontal Crossing Angle, 125 urad"
   ]
  },
  {
   "cell_type": "markdown",
   "metadata": {},
   "source": [
    "#### Horizontal crossing angle, 125 urad; 50 cm $\\beta^*$; no Background"
   ]
  },
  {
   "cell_type": "code",
   "execution_count": null,
   "metadata": {},
   "outputs": [],
   "source": [
    "hitmap_id = \"horizontal-125urad-50cm\"\n",
    "if hitmap_id in hitmaps:\n",
    "    canv, persistance = hitmaps[hitmap_id].plotShifts(\n",
    "        integratedLuminosity=luminosity,\n",
    "        thresholdFlux=2*lgad_limit,\n",
    "        plotPadCols=3,\n",
    "        maxNumShifts=9,\n",
    "    )\n",
    "    canv.Draw()"
   ]
  },
  {
   "cell_type": "markdown",
   "metadata": {},
   "source": [
    "#### Horizontal crossing angle, 125 urad; 50 cm $\\beta^*$; with Background"
   ]
  },
  {
   "cell_type": "code",
   "execution_count": null,
   "metadata": {},
   "outputs": [],
   "source": [
    "hitmap_id = \"horizontal-125urad-50cm-background\"\n",
    "if hitmap_id in hitmaps:\n",
    "    canv, persistance = hitmaps[hitmap_id].plotShifts(\n",
    "        integratedLuminosity=luminosity,\n",
    "        thresholdFlux=2*lgad_limit,\n",
    "        plotPadCols=3,\n",
    "        maxNumShifts=9,\n",
    "    )\n",
    "    canv.Draw()"
   ]
  },
  {
   "cell_type": "markdown",
   "metadata": {},
   "source": [
    "#### Horizontal crossing angle, 125 urad; 15 cm $\\beta^*$; no Background"
   ]
  },
  {
   "cell_type": "code",
   "execution_count": null,
   "metadata": {},
   "outputs": [],
   "source": [
    "hitmap_id = \"horizontal-125urad-15cm\"\n",
    "if hitmap_id in hitmaps:\n",
    "    canv, persistance = hitmaps[hitmap_id].plotShifts(\n",
    "        integratedLuminosity=luminosity,\n",
    "        thresholdFlux=2*lgad_limit,\n",
    "        plotPadCols=3,\n",
    "        maxNumShifts=9,\n",
    "    )\n",
    "    canv.Draw()"
   ]
  },
  {
   "cell_type": "markdown",
   "metadata": {},
   "source": [
    "#### Horizontal crossing angle, 125 urad; 15 cm $\\beta^*$; with Background"
   ]
  },
  {
   "cell_type": "code",
   "execution_count": null,
   "metadata": {},
   "outputs": [],
   "source": [
    "hitmap_id = \"horizontal-125urad-15cm-background\"\n",
    "if hitmap_id in hitmaps:\n",
    "    canv, persistance = hitmaps[hitmap_id].plotShifts(\n",
    "        integratedLuminosity=luminosity,\n",
    "        thresholdFlux=2*lgad_limit,\n",
    "        plotPadCols=3,\n",
    "        maxNumShifts=9,\n",
    "    )\n",
    "    canv.Draw()"
   ]
  },
  {
   "cell_type": "markdown",
   "metadata": {},
   "source": [
    "### Needed Shifts"
   ]
  },
  {
   "cell_type": "code",
   "execution_count": null,
   "metadata": {},
   "outputs": [],
   "source": [
    "needed_shifts = Helper20240606.getNeededShifts(station)\n",
    "for key in needed_shifts:\n",
    "    print(f\"{key} - {needed_shifts[key][0]} shifts over {needed_shifts[key][1]} mm\")"
   ]
  },
  {
   "cell_type": "markdown",
   "metadata": {},
   "source": [
    "### Compute positions with shifts"
   ]
  },
  {
   "cell_type": "code",
   "execution_count": null,
   "metadata": {},
   "outputs": [],
   "source": [
    "yOffsets = {}\n",
    "for angle_dir in [\"vertical\", \"horizontal\"]:\n",
    "    yPositions = []\n",
    "    for angle in [125, 250]:\n",
    "        position_key = f\"{angle_dir}-{angle}urad\"\n",
    "\n",
    "        _, startPositionY = adjusted_positions[position_key]\n",
    "        yPositions += [startPositionY]\n",
    "\n",
    "        yCenters = Helper20240606.computeYCenters234(startPositionY, angle_dir, ySensorSize)\n",
    "        yOffsets[position_key] = Helper20240606.computeShifts(yCenters, needed_shifts[position_key])\n",
    "\n",
    "    positionY = max(yPositions)\n",
    "    yCenters = Helper20240606.computeYCenters234(positionY, angle_dir, ySensorSize)\n",
    "    yOffsets[angle_dir] = Helper20240606.computeShifts(yCenters, needed_shifts[angle_dir])\n",
    "\n",
    "print(yOffsets)"
   ]
  },
  {
   "cell_type": "markdown",
   "metadata": {},
   "source": [
    "### Sensor Positions on Hitmap with shifts"
   ]
  },
  {
   "cell_type": "code",
   "execution_count": null,
   "metadata": {},
   "outputs": [],
   "source": [
    "shift_str = \"{angle_dir}\"\n",
    "#shift_str = \"{angle_dir}-{angle}urad\""
   ]
  },
  {
   "cell_type": "code",
   "execution_count": null,
   "metadata": {},
   "outputs": [],
   "source": [
    "def plotShiftsOnFluxmap(angle_dir, angle, beta):\n",
    "    hitmap_key = f\"{angle_dir}-{angle}urad-{int(beta*100)}cm\"\n",
    "    return Helper20240606.plotShiftsOnFluxmap(\n",
    "        sensor = sensor,\n",
    "        positions = yOffsets[shift_str.format(angle_dir = angle_dir, angle = angle, beta = beta)],\n",
    "        hitmap = hitmaps[hitmap_key],\n",
    "        histogram = hitmap_histograms[hitmap_key][\"physics\"],\n",
    "        base_name = hitmap_key,\n",
    "        title = f\"{angle_dir} ${angle} \\\\mu\\\\text{{rad}}$ - $\\\\beta^* = {int(beta*100)} \\\\text{{cm}}$\",\n",
    "    )"
   ]
  },
  {
   "cell_type": "markdown",
   "metadata": {},
   "source": [
    "#### Vertical crossing angle, 250 urad"
   ]
  },
  {
   "cell_type": "markdown",
   "metadata": {},
   "source": [
    "##### Vertical crossing angle, 250 urad; 50 cm $\\beta^*$"
   ]
  },
  {
   "cell_type": "code",
   "execution_count": null,
   "metadata": {},
   "outputs": [],
   "source": [
    "canvas, persistance = plotShiftsOnFluxmap(\"vertical\", 250, 0.50)\n",
    "\n",
    "canvas.Draw()"
   ]
  },
  {
   "cell_type": "markdown",
   "metadata": {},
   "source": [
    "##### Vertical crossing angle, 250 urad; 20 cm $\\beta^*$"
   ]
  },
  {
   "cell_type": "code",
   "execution_count": null,
   "metadata": {},
   "outputs": [],
   "source": [
    "canvas, persistance = plotShiftsOnFluxmap(\"vertical\", 250, 0.20)\n",
    "\n",
    "canvas.Draw()"
   ]
  },
  {
   "cell_type": "markdown",
   "metadata": {},
   "source": [
    "#### Vertical crossing angle, 125 urad"
   ]
  },
  {
   "cell_type": "markdown",
   "metadata": {},
   "source": [
    "##### Vertical crossing angle, 125 urad; 50 cm $\\beta^*$"
   ]
  },
  {
   "cell_type": "code",
   "execution_count": null,
   "metadata": {},
   "outputs": [],
   "source": [
    "canvas, persistance = plotShiftsOnFluxmap(\"vertical\", 125, 0.50)\n",
    "\n",
    "canvas.Draw()"
   ]
  },
  {
   "cell_type": "markdown",
   "metadata": {},
   "source": [
    "##### Vertical crossing angle, 125 urad; 20 cm $\\beta^*$"
   ]
  },
  {
   "cell_type": "code",
   "execution_count": null,
   "metadata": {},
   "outputs": [],
   "source": [
    "canvas, persistance = plotShiftsOnFluxmap(\"vertical\", 125, 0.20)\n",
    "\n",
    "canvas.Draw()"
   ]
  },
  {
   "cell_type": "markdown",
   "metadata": {},
   "source": [
    "#### Horizontal crossing angle, 250 urad"
   ]
  },
  {
   "cell_type": "markdown",
   "metadata": {},
   "source": [
    "##### Horizontal crossing angle, 250 urad; 50 cm $\\beta^*$"
   ]
  },
  {
   "cell_type": "code",
   "execution_count": null,
   "metadata": {},
   "outputs": [],
   "source": [
    "canvas, persistance = plotShiftsOnFluxmap(\"horizontal\", 250, 0.50)\n",
    "\n",
    "canvas.Draw()"
   ]
  },
  {
   "cell_type": "markdown",
   "metadata": {},
   "source": [
    "##### Horizontal crossing angle, 250 urad; 15 cm $\\beta^*$"
   ]
  },
  {
   "cell_type": "code",
   "execution_count": null,
   "metadata": {},
   "outputs": [],
   "source": [
    "canvas, persistance = plotShiftsOnFluxmap(\"horizontal\", 250, 0.15)\n",
    "\n",
    "canvas.Draw()"
   ]
  },
  {
   "cell_type": "markdown",
   "metadata": {},
   "source": [
    "#### Horizontal crossing angle, 125 urad"
   ]
  },
  {
   "cell_type": "markdown",
   "metadata": {},
   "source": [
    "##### Horizontal crossing angle, 125 urad; 50 cm $\\beta^*$"
   ]
  },
  {
   "cell_type": "code",
   "execution_count": null,
   "metadata": {},
   "outputs": [],
   "source": [
    "canvas, persistance = plotShiftsOnFluxmap(\"horizontal\", 125, 0.50)\n",
    "\n",
    "canvas.Draw()"
   ]
  },
  {
   "cell_type": "markdown",
   "metadata": {},
   "source": [
    "##### Horizontal crossing angle, 125 urad; 15 cm $\\beta^*$"
   ]
  },
  {
   "cell_type": "code",
   "execution_count": null,
   "metadata": {},
   "outputs": [],
   "source": [
    "canvas, persistance = plotShiftsOnFluxmap(\"horizontal\", 125, 0.15)\n",
    "\n",
    "canvas.Draw()"
   ]
  },
  {
   "cell_type": "markdown",
   "metadata": {},
   "source": [
    "## Sensor Occupancy and Loss Probability"
   ]
  },
  {
   "cell_type": "code",
   "execution_count": null,
   "metadata": {},
   "outputs": [],
   "source": [
    "coverage_shifts = 4\n",
    "coverage_shift_step = 1.3/4\n",
    "coverage_positions = {}\n",
    "\n",
    "for angle_dir, angle, beta in angle_beta:\n",
    "    hitmap_key = f\"{angle_dir}-{angle}urad-{int(beta*100)}cm\"\n",
    "    table_data = []\n",
    "    rows = []\n",
    "    cols = [\"Dose\", \"Occ\", \"Loss p\", \"Pad\", \"Dose w/ Bckg\", \"Occ w/ Bckg\", \"Loss p w/ Bckg\", \"Pad w/ Bckg\"]\n",
    "\n",
    "    hitmap      = hitmaps[hitmap_key]\n",
    "    hitmap_bckg = hitmaps[hitmap_key + \"-background\"]\n",
    "\n",
    "    if hitmap_key not in coverage_positions:\n",
    "        coverage_positions[hitmap_key] = []\n",
    "        center_position_y = yOffsets[shift_str.format(angle_dir = angle_dir, angle = angle, beta = beta)][0][0]\n",
    "        center_position_x = hitmap.detectorEdge * 1000 + xSensorSize/2\n",
    "        center_position_y = adjusted_positions[f\"{angle_dir}-{angle}urad\"][1]\n",
    "        for step in range(coverage_shifts):\n",
    "            coverage_positions[hitmap_key] += [(center_position_x, center_position_y + step*coverage_shift_step)]\n",
    "\n",
    "    for step in range(coverage_shifts):\n",
    "        current_position = [coverage_positions[hitmap_key][step]]\n",
    "        sensor.setShifts(current_position)\n",
    "\n",
    "        # Calculations without Background\n",
    "        sensor.calculateFlux(hitmap)\n",
    "        dose      = sensor.maxDoseEOL(integratedLuminosity=1, usePadSpacing=False)\n",
    "        occupancies, pads = sensor.findMaxOccupancy()\n",
    "        occupancy = occupancies[0]\n",
    "        pad = pads[0]\n",
    "        loss_prob = pps_hitmaps.calcEventLossProb(0, occupancy)\n",
    "\n",
    "        # Calculations with Background\n",
    "        sensor.calculateFlux(hitmap_bckg)\n",
    "        dose_bckg      = sensor.maxDoseEOL(integratedLuminosity=1, usePadSpacing=False)\n",
    "        occupancies_bckg, pads_bckg = sensor.findMaxOccupancy()\n",
    "        occupancy_bckg = occupancies_bckg[0]\n",
    "        pad_bckg = pads_bckg[0]\n",
    "        loss_prob_bckg = pps_hitmaps.calcEventLossProb(0, occupancy_bckg)\n",
    "\n",
    "        rows += [f\"Offset {step}\"]\n",
    "        table_data += [[dose, occupancy, loss_prob, pad, dose_bckg, occupancy_bckg, loss_prob_bckg, pad_bckg]]\n",
    "\n",
    "    df = pandas.DataFrame(table_data, columns = cols, index=rows)\n",
    "    print(f\"{angle_dir} {angle} urad - {int(beta*100)} cm:\")\n",
    "    print(df)\n",
    "    print()"
   ]
  },
  {
   "cell_type": "code",
   "execution_count": null,
   "metadata": {},
   "outputs": [],
   "source": [
    "def plotMaps(angle_dir, angle, beta):\n",
    "    hitmap_key = f\"{angle_dir}-{angle}urad-{int(beta*100)}cm\"\n",
    "    hitmap = hitmaps[hitmap_key + \"-background\"]\n",
    "\n",
    "    coverage_shifts = 4\n",
    "    coverage_shift_step = 1.3/4\n",
    "\n",
    "    canvas = []\n",
    "    persistance = []\n",
    "\n",
    "    positions = yOffsets[shift_str.format(angle_dir = angle_dir, angle = angle, beta = beta)]\n",
    "    edge = hitmap.detectorEdge * 1000 # Convert to mm for drawing\n",
    "    offsetX = edge + xSensorSize/2\n",
    "    for sensor_idx in range(len(positions)):\n",
    "        offsetY = positions[sensor_idx][0]\n",
    "\n",
    "        coverage_positions = [\n",
    "            (offsetX, offsetY + i*coverage_shift_step)\n",
    "            for i in range(coverage_shifts)\n",
    "            ]\n",
    "\n",
    "        sensor.setShifts(coverage_positions)\n",
    "        sensor.calculateFlux(hitmap)\n",
    "\n",
    "        c, p = sensor.plotSensorQuantity(\"occupancy\")\n",
    "        c.SetName(c.GetName() + f\"_sensor{sensor_idx}\")\n",
    "        canvas.append(c)\n",
    "        persistance.append(p)\n",
    "\n",
    "        c, p = sensor.plotSensorQuantity(\"loss_probability\")\n",
    "        c.SetName(c.GetName() + f\"_sensor{sensor_idx}\")\n",
    "        canvas.append(c)\n",
    "        persistance.append(p)\n",
    "\n",
    "    return canvas, persistance"
   ]
  },
  {
   "cell_type": "markdown",
   "metadata": {},
   "source": [
    "### Vertical crossing angle, $250 \\, \\mu rad$"
   ]
  },
  {
   "cell_type": "markdown",
   "metadata": {},
   "source": [
    "#### Vertical crossing angle, $250 \\, \\mu rad$; $50 \\, cm \\; \\beta^*$"
   ]
  },
  {
   "cell_type": "code",
   "execution_count": null,
   "metadata": {},
   "outputs": [],
   "source": [
    "canvas, persistance = plotMaps(\"vertical\", 250, 0.50)\n",
    "\n",
    "for c in canvas:\n",
    "    c.Draw()"
   ]
  },
  {
   "cell_type": "markdown",
   "metadata": {},
   "source": [
    "#### Vertical crossing angle, $250 \\, \\mu rad$; $20 \\, cm \\; \\beta^*$"
   ]
  },
  {
   "cell_type": "code",
   "execution_count": null,
   "metadata": {},
   "outputs": [],
   "source": [
    "canvas, persistance = plotMaps(\"vertical\", 250, 0.20)\n",
    "\n",
    "for c in canvas:\n",
    "    c.Draw()"
   ]
  },
  {
   "cell_type": "markdown",
   "metadata": {},
   "source": [
    "### Vertical crossing angle, $125 \\, \\mu rad$"
   ]
  },
  {
   "cell_type": "markdown",
   "metadata": {},
   "source": [
    "#### Vertical crossing angle, $125 \\, \\mu rad$; $50 \\, cm \\; \\beta^*$"
   ]
  },
  {
   "cell_type": "code",
   "execution_count": null,
   "metadata": {},
   "outputs": [],
   "source": [
    "canvas, persistance = plotMaps(\"vertical\", 125, 0.50)\n",
    "\n",
    "for c in canvas:\n",
    "    c.Draw()"
   ]
  },
  {
   "cell_type": "markdown",
   "metadata": {},
   "source": [
    "#### Vertical crossing angle, $125 \\, \\mu rad$; $20 \\, cm \\; \\beta^*$"
   ]
  },
  {
   "cell_type": "code",
   "execution_count": null,
   "metadata": {},
   "outputs": [],
   "source": [
    "canvas, persistance = plotMaps(\"vertical\", 125, 0.20)\n",
    "\n",
    "for c in canvas:\n",
    "    c.Draw()"
   ]
  },
  {
   "cell_type": "markdown",
   "metadata": {},
   "source": [
    "### Horizontal crossing angle, $250 \\, \\mu rad$"
   ]
  },
  {
   "cell_type": "markdown",
   "metadata": {},
   "source": [
    "#### Horizontal crossing angle, $250 \\, \\mu rad$; $50 \\, cm \\; \\beta^*$"
   ]
  },
  {
   "cell_type": "code",
   "execution_count": null,
   "metadata": {},
   "outputs": [],
   "source": [
    "canvas, persistance = plotMaps(\"horizontal\", 250, 0.50)\n",
    "\n",
    "for c in canvas:\n",
    "    c.Draw()"
   ]
  },
  {
   "cell_type": "markdown",
   "metadata": {},
   "source": [
    "#### Horizontal crossing angle, $250 \\, \\mu rad$; $15 \\, cm \\; \\beta^*$"
   ]
  },
  {
   "cell_type": "code",
   "execution_count": null,
   "metadata": {},
   "outputs": [],
   "source": [
    "canvas, persistance = plotMaps(\"horizontal\", 250, 0.15)\n",
    "\n",
    "for c in canvas:\n",
    "    c.Draw()"
   ]
  },
  {
   "cell_type": "markdown",
   "metadata": {},
   "source": [
    "### Horizontal crossing angle, $125 \\, \\mu rad$"
   ]
  },
  {
   "cell_type": "markdown",
   "metadata": {},
   "source": [
    "#### Horizontal crossing angle, $125 \\, \\mu rad$; $50 \\, cm \\; \\beta^*$"
   ]
  },
  {
   "cell_type": "code",
   "execution_count": null,
   "metadata": {},
   "outputs": [],
   "source": [
    "canvas, persistance = plotMaps(\"horizontal\", 125, 0.50)\n",
    "\n",
    "for c in canvas:\n",
    "    c.Draw()"
   ]
  },
  {
   "cell_type": "markdown",
   "metadata": {},
   "source": [
    "#### Horizontal crossing angle, $125 \\, \\mu rad$; $15 \\, cm \\; \\beta^*$"
   ]
  },
  {
   "cell_type": "code",
   "execution_count": null,
   "metadata": {},
   "outputs": [],
   "source": [
    "canvas, persistance = plotMaps(\"horizontal\", 125, 0.15)\n",
    "\n",
    "for c in canvas:\n",
    "    c.Draw()"
   ]
  },
  {
   "cell_type": "markdown",
   "metadata": {},
   "source": [
    "## Next"
   ]
  },
  {
   "cell_type": "code",
   "execution_count": null,
   "metadata": {},
   "outputs": [],
   "source": []
  }
 ],
 "metadata": {
  "kernelspec": {
   "display_name": "Python 3",
   "language": "python",
   "name": "python3"
  },
  "language_info": {
   "codemirror_mode": {
    "name": "ipython",
    "version": 3
   },
   "file_extension": ".py",
   "mimetype": "text/x-python",
   "name": "python",
   "nbconvert_exporter": "python",
   "pygments_lexer": "ipython3",
   "version": "3.11.6"
  }
 },
 "nbformat": 4,
 "nbformat_minor": 2
}
