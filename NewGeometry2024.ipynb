{
 "cells": [
  {
   "attachments": {},
   "cell_type": "markdown",
   "metadata": {},
   "source": [
    "# PPS2 New Geometry 2024"
   ]
  },
  {
   "attachments": {},
   "cell_type": "markdown",
   "metadata": {},
   "source": [
    "### Import Libraries"
   ]
  },
  {
   "cell_type": "code",
   "execution_count": null,
   "metadata": {},
   "outputs": [],
   "source": [
    "import ROOT\n",
    "import pps_hitmaps\n",
    "from array import array\n",
    "import pandas\n",
    "import numpy\n",
    "from math import ceil"
   ]
  },
  {
   "attachments": {},
   "cell_type": "markdown",
   "metadata": {},
   "source": [
    "## Example Sensor Layout"
   ]
  },
  {
   "attachments": {},
   "cell_type": "markdown",
   "metadata": {},
   "source": [
    "### Original (Square Pads; ETL Design)"
   ]
  },
  {
   "cell_type": "code",
   "execution_count": null,
   "metadata": {},
   "outputs": [],
   "source": [
    "original_sensor = pps_hitmaps.RealisticETLSensor()\n",
    "original_sensor_ti = pps_hitmaps.RealisticETLSensor(PadSpacing=0.01)\n",
    "fig = original_sensor.preview()"
   ]
  },
  {
   "attachments": {},
   "cell_type": "markdown",
   "metadata": {},
   "source": [
    "### Hybrid (Needs Interposer)"
   ]
  },
  {
   "cell_type": "code",
   "execution_count": null,
   "metadata": {},
   "outputs": [],
   "source": [
    "hybrid_sensor = pps_hitmaps.PPSHybrid7Sensor()\n",
    "hybrid_sensor_ti = pps_hitmaps.PPSHybrid7Sensor(PadSpacing=0.01)\n",
    "fig = hybrid_sensor.preview()"
   ]
  },
  {
   "attachments": {},
   "cell_type": "markdown",
   "metadata": {},
   "source": [
    "### New (Rectangular Pads with Gaps)"
   ]
  },
  {
   "cell_type": "code",
   "execution_count": null,
   "metadata": {},
   "outputs": [],
   "source": [
    "new_sensor1 = pps_hitmaps.RectangularPadSensor()\n",
    "new_sensor1_ti = pps_hitmaps.RectangularPadSensor(PadSpacing=0.01)\n",
    "fig = new_sensor1.preview()"
   ]
  },
  {
   "cell_type": "code",
   "execution_count": null,
   "metadata": {},
   "outputs": [],
   "source": [
    "new_sensor2 = pps_hitmaps.RectangularPadSensor(NumSmallerCols = 16)\n",
    "new_sensor2_ti = pps_hitmaps.RectangularPadSensor(NumSmallerCols = 16, PadSpacing=0.01)\n",
    "fig = new_sensor2.preview()"
   ]
  },
  {
   "cell_type": "markdown",
   "metadata": {},
   "source": [
    "### New (Rectangular Pads with Gaps)\n",
    "Vertical orientation for alignment with ETROC diagrams"
   ]
  },
  {
   "cell_type": "code",
   "execution_count": null,
   "metadata": {},
   "outputs": [],
   "source": [
    "new_sensor3 = pps_hitmaps.RectangularPadSensorVertical(NumSmallerCols = 16)\n",
    "new_sensor3_ti = pps_hitmaps.RectangularPadSensorVertical(NumSmallerCols = 16, PadSpacing=0.01)\n",
    "fig = new_sensor3.preview()"
   ]
  },
  {
   "attachments": {},
   "cell_type": "markdown",
   "metadata": {},
   "source": [
    "## Load the hitmaps and make sure everything is ok"
   ]
  },
  {
   "cell_type": "code",
   "execution_count": null,
   "metadata": {},
   "outputs": [],
   "source": [
    "backgroundFlux = 5*10**12\n",
    "backgroundTitle = \"5E12 p/cm^2\"\n",
    "noBackgroundFlux = 200  # This is needed because when making the sensor los probability maps, we were running into numerican stability issues, giving weird results. Adding this small numbers, makes the behaviour consistent\n",
    "noBackgroundFlux = 0\n",
    "\n",
    "hitmaps = {\n",
    "    \"196-physics\":            pps_hitmaps.PPSHitmap(\"MarioHitmaps/map196-physics.out\", \"196\", 10, verbose=True, addBackgroundFlux = noBackgroundFlux),\n",
    "    \"196-physics-background\": pps_hitmaps.PPSHitmap(\"MarioHitmaps/map196-physics.out\", \"196\", 10, verbose=True, addBackgroundFlux = backgroundFlux),\n",
    "    \"220-physics\":            pps_hitmaps.PPSHitmap(\"MarioHitmaps/map220-physics.out\", \"220\", 4.25, verbose=True, addBackgroundFlux = noBackgroundFlux),\n",
    "    \"220-physics-background\": pps_hitmaps.PPSHitmap(\"MarioHitmaps/map220-physics.out\", \"220\", 4.25, verbose=True, addBackgroundFlux = backgroundFlux),\n",
    "    \"234-physics\":            pps_hitmaps.PPSHitmap(\"MarioHitmaps/map234-physics.out\", \"234\", 1.25, yStep=0.000025, xStep=0.000025, verbose=True, addBackgroundFlux = noBackgroundFlux),\n",
    "    \"234-physics-background\": pps_hitmaps.PPSHitmap(\"MarioHitmaps/map234-physics.out\", \"234\", 1.25, yStep=0.000025, xStep=0.000025, verbose=True, addBackgroundFlux = backgroundFlux),\n",
    "    \"420-physics\":            pps_hitmaps.PPSHitmap(\"MarioHitmaps/map420-physics.out\", \"420\", 6.6, yMin=-0.025, yMax=0.025, xMax=0.025, verbose=True, addBackgroundFlux = noBackgroundFlux),\n",
    "    \"420-physics-background\": pps_hitmaps.PPSHitmap(\"MarioHitmaps/map420-physics.out\", \"420\", 6.6, yMin=-0.025, yMax=0.025, xMax=0.025, verbose=True, addBackgroundFlux = backgroundFlux),\n",
    "}\n",
    "\n",
    "test_hitmap = hitmaps[\"196-physics\"]\n",
    "\n",
    "print(\"Validating the hitmap files:\")\n",
    "for map in hitmaps:\n",
    "    print(\"  - Map {}\".format(map))\n",
    "    hitmaps[map].validate()\n"
   ]
  },
  {
   "attachments": {},
   "cell_type": "markdown",
   "metadata": {},
   "source": [
    "## Fluxmaps"
   ]
  },
  {
   "attachments": {},
   "cell_type": "markdown",
   "metadata": {},
   "source": [
    "### Create Histograms"
   ]
  },
  {
   "cell_type": "code",
   "execution_count": null,
   "metadata": {},
   "outputs": [],
   "source": [
    "hitmap_histograms = {}\n",
    "\n",
    "for station in [\"196\", \"220\", \"234\", \"420\"]:\n",
    "    hitmapStr = \"{}-physics\".format(station)\n",
    "    if hitmapStr in hitmaps:\n",
    "        hitmap_histograms[station] = {\n",
    "            \"physics\": hitmaps[hitmapStr].getHisto(\"station{}-physics\".format(station), \"Station {}\".format(station))\n",
    "        }\n",
    "\n",
    "        hitmapStr = \"{}-physics-background\".format(station)\n",
    "        if hitmapStr in hitmaps:\n",
    "            hitmap_histograms[station][\"background\"] = hitmaps[hitmapStr].getHisto(\"station{}-physics-background\".format(station), f\"Station {station} with {backgroundTitle} Background\")"
   ]
  },
  {
   "attachments": {},
   "cell_type": "markdown",
   "metadata": {},
   "source": [
    "### Plot Histograms"
   ]
  },
  {
   "cell_type": "code",
   "execution_count": null,
   "metadata": {},
   "outputs": [],
   "source": [
    "canv = ROOT.TCanvas(\"physics_detectorEdge\", \"physics_detectorEdge\", 1200, 1200)\n",
    "canv.Divide(2,2)\n",
    "\n",
    "idx = 0\n",
    "line = {}\n",
    "for station in [\"196\", \"220\", \"234\", \"420\"]:\n",
    "    idx += 1\n",
    "    pad = canv.cd(idx)\n",
    "\n",
    "    if station not in hitmap_histograms:\n",
    "        continue\n",
    "    if \"physics\" not in hitmap_histograms[station]:\n",
    "        continue\n",
    "    hitmapStr = \"{}-physics\".format(station)\n",
    "\n",
    "    pad.SetTicks()\n",
    "    pad.SetLogz()\n",
    "    pad.SetLeftMargin(0.11)\n",
    "    pad.SetRightMargin(0.16)\n",
    "    pad.SetTopMargin(0.07)\n",
    "    pad.SetBottomMargin(0.14)\n",
    "\n",
    "    hitmap_histograms[station][\"physics\"].Draw(\"colz\")\n",
    "\n",
    "    edge = hitmaps[hitmapStr].detectorEdge * 1000 # Convert to mm for drawing\n",
    "    yMin = hitmaps[hitmapStr].yMin * 1000         # Convert to mm for drawing\n",
    "    yMax = hitmaps[hitmapStr].yMax * 1000         # Convert to mm for drawing\n",
    "    line[station] = ROOT.TLine(edge,yMin,edge,yMax)\n",
    "    line[station].SetLineColor(ROOT.kRed)\n",
    "    line[station].Draw(\"same\")\n",
    "canv.Draw()"
   ]
  },
  {
   "cell_type": "code",
   "execution_count": null,
   "metadata": {},
   "outputs": [],
   "source": [
    "canv = ROOT.TCanvas(\"background_effect\", \"background_effect\", 1200, 4*600)\n",
    "canv.Divide(2,4)\n",
    "\n",
    "idx = 0\n",
    "line = {}\n",
    "for station in [\"196\", \"220\", \"234\", \"420\"]:\n",
    "    idx += 1\n",
    "\n",
    "    if station not in hitmap_histograms:\n",
    "        continue\n",
    "    if \"physics\" not in hitmap_histograms[station]:\n",
    "        continue\n",
    "    if \"background\" not in hitmap_histograms[station]:\n",
    "        continue\n",
    "\n",
    "    hitmapStr = \"{}-physics\".format(station)\n",
    "    edge = hitmaps[hitmapStr].detectorEdge * 1000 # Convert to mm for drawing\n",
    "    yMin = hitmaps[hitmapStr].yMin * 1000         # Convert to mm for drawing\n",
    "    yMax = hitmaps[hitmapStr].yMax * 1000         # Convert to mm for drawing\n",
    "    line[station] = ROOT.TLine(edge,yMin,edge,yMax)\n",
    "    line[station].SetLineColor(ROOT.kRed)\n",
    "\n",
    "    pad = canv.cd((idx-1)*2+1)\n",
    "    pad.SetTicks()\n",
    "    pad.SetLogz()\n",
    "    pad.SetLeftMargin(0.11)\n",
    "    pad.SetRightMargin(0.16)\n",
    "    pad.SetTopMargin(0.07)\n",
    "    pad.SetBottomMargin(0.14)\n",
    "    hitmap_histograms[station][\"physics\"].Draw(\"colz\")\n",
    "    line[station].Draw(\"same\")\n",
    "\n",
    "    pad = canv.cd((idx-1)*2+2)\n",
    "    pad.SetTicks()\n",
    "    pad.SetLogz()\n",
    "    pad.SetLeftMargin(0.11)\n",
    "    pad.SetRightMargin(0.16)\n",
    "    pad.SetTopMargin(0.07)\n",
    "    pad.SetBottomMargin(0.14)\n",
    "    hitmap_histograms[station][\"background\"].SetMinimum(backgroundFlux*0.8)\n",
    "    hitmap_histograms[station][\"background\"].Draw(\"colz\")\n",
    "    line[station].Draw(\"same\")\n",
    "canv.Draw()"
   ]
  },
  {
   "attachments": {},
   "cell_type": "markdown",
   "metadata": {},
   "source": [
    "### Overlaid Sensors"
   ]
  },
  {
   "attachments": {},
   "cell_type": "markdown",
   "metadata": {},
   "source": [
    "#### Sensor Positions"
   ]
  },
  {
   "cell_type": "code",
   "execution_count": null,
   "metadata": {},
   "outputs": [],
   "source": [
    "sensorPositions = {\n",
    "    \"196\": [\n",
    "        [(20.61, -15.05)],\n",
    "    ],\n",
    "    \"220\": [\n",
    "        [(14.86, -10.2)],\n",
    "    ],\n",
    "    \"234\": [\n",
    "        [(11.86, -3.5)],\n",
    "    ],\n",
    "    \"420\": [\n",
    "        [(17.21,  0.25)],\n",
    "    ],\n",
    "}\n",
    "\n",
    "xPos196 = sensorPositions['196'][0][0][0]\n",
    "yPos196 = sensorPositions['196'][0][0][1]\n",
    "ySensorSize = original_sensor.maxY - original_sensor.minY\n",
    "doublePositions = {\n",
    "    \"196\": [\n",
    "        [(xPos196, yPos196 - ySensorSize/2), (xPos196, yPos196 + ySensorSize/2)]\n",
    "    ]\n",
    "}"
   ]
  },
  {
   "attachments": {},
   "cell_type": "markdown",
   "metadata": {},
   "source": [
    "#### Original"
   ]
  },
  {
   "cell_type": "code",
   "execution_count": null,
   "metadata": {},
   "outputs": [],
   "source": [
    "ROOT.gStyle.SetPalette()\n",
    "\n",
    "canv = ROOT.TCanvas(\"sensorPositionOriginal\", \"sensorPositionOriginal\", 2600, 2600)\n",
    "canv.Divide(2,2)\n",
    "\n",
    "sensorLines = {}\n",
    "\n",
    "sensor = original_sensor\n",
    "\n",
    "idx = 0\n",
    "line = {}\n",
    "for station in [\"196\", \"220\", \"234\", \"420\"]:\n",
    "    hitmapStr = \"{}-physics\".format(station)\n",
    "    if hitmapStr not in hitmaps:\n",
    "        continue\n",
    "\n",
    "    idx += 1\n",
    "    pad = canv.cd(idx)\n",
    "\n",
    "    pad.SetTicks()\n",
    "    pad.SetLogz()\n",
    "    pad.SetLeftMargin(0.11)\n",
    "    pad.SetRightMargin(0.16)\n",
    "    pad.SetTopMargin(0.07)\n",
    "    pad.SetBottomMargin(0.14)\n",
    "\n",
    "    hitmap_histograms[station][\"physics\"].Draw(\"colz\")\n",
    "\n",
    "    edge = hitmaps[hitmapStr].detectorEdge * 1000 # Convert to mm for drawing\n",
    "    yMin = hitmaps[hitmapStr].yMin * 1000         # Convert to mm for drawing\n",
    "    yMax = hitmaps[hitmapStr].yMax * 1000         # Convert to mm for drawing\n",
    "    line[station] = ROOT.TLine(edge,yMin,edge,yMax)\n",
    "    line[station].SetLineColor(ROOT.kRed)\n",
    "    line[station].Draw(\"same\")\n",
    "\n",
    "    #offsetX = hitmaps[hitmapStr].detectorEdge * 1000 - sensor.minX\n",
    "    #for xIdx in hitmaps[hitmapStr].ridge:\n",
    "    #    if hitmaps[hitmapStr].ridge[xIdx]['x'] >= hitmaps[hitmapStr].detectorEdge:\n",
    "    #        offsetY = hitmaps[hitmapStr].ridge[xIdx]['y']*1000\n",
    "    #        break\n",
    "\n",
    "    offsetX,offsetY = sensorPositions[station][0][0]\n",
    "\n",
    "    sensorLines[station] = {}\n",
    "    sensorLines[station][\"Left\"]   = ROOT.TLine( sensor.minX + offsetX, sensor.minY + offsetY,\n",
    "                                                 sensor.minX + offsetX, sensor.maxY + offsetY)\n",
    "    sensorLines[station][\"Right\"]  = ROOT.TLine( sensor.maxX + offsetX, sensor.minY + offsetY,\n",
    "                                                 sensor.maxX + offsetX, sensor.maxY + offsetY)\n",
    "    sensorLines[station][\"Top\"]    = ROOT.TLine( sensor.minX + offsetX, sensor.minY + offsetY,\n",
    "                                                 sensor.maxX + offsetX, sensor.minY + offsetY)\n",
    "    sensorLines[station][\"Bottom\"] = ROOT.TLine( sensor.minX + offsetX, sensor.maxY + offsetY,\n",
    "                                                 sensor.maxX + offsetX, sensor.maxY + offsetY)\n",
    "    for key in sensorLines[station]:\n",
    "        sensorLines[station][key].SetLineColor(ROOT.kRed)\n",
    "\n",
    "    padID = 0\n",
    "    for pad in sensor.padVec:\n",
    "        minX = pad.minX\n",
    "        maxX = pad.maxX\n",
    "        minY = pad.minY\n",
    "        maxY = pad.maxY\n",
    "\n",
    "        sensorLines[station][f\"pad{padID}_Left\"]   = ROOT.TLine( minX + offsetX, minY + offsetY,\n",
    "                                                                 minX + offsetX, maxY + offsetY)\n",
    "        sensorLines[station][f\"pad{padID}_Right\"]  = ROOT.TLine( maxX + offsetX, minY + offsetY,\n",
    "                                                                 maxX + offsetX, maxY + offsetY)\n",
    "        sensorLines[station][f\"pad{padID}_Top\"]    = ROOT.TLine( minX + offsetX, minY + offsetY,\n",
    "                                                                 maxX + offsetX, minY + offsetY)\n",
    "        sensorLines[station][f\"pad{padID}_Bottom\"] = ROOT.TLine( minX + offsetX, maxY + offsetY,\n",
    "                                                                 maxX + offsetX, maxY + offsetY)\n",
    "\n",
    "        sensorLines[station][f\"pad{padID}_Left\"].SetLineColor(ROOT.kBlue)\n",
    "        sensorLines[station][f\"pad{padID}_Right\"].SetLineColor(ROOT.kBlue)\n",
    "        sensorLines[station][f\"pad{padID}_Top\"].SetLineColor(ROOT.kBlue)\n",
    "        sensorLines[station][f\"pad{padID}_Bottom\"].SetLineColor(ROOT.kBlue)\n",
    "\n",
    "        padID += 1\n",
    "\n",
    "    for key in sensorLines[station]:\n",
    "        sensorLines[station][key].Draw(\"same\")\n",
    "\n",
    "canv.Draw()"
   ]
  },
  {
   "attachments": {},
   "cell_type": "markdown",
   "metadata": {},
   "source": [
    "#### Hybrid"
   ]
  },
  {
   "cell_type": "code",
   "execution_count": null,
   "metadata": {},
   "outputs": [],
   "source": [
    "ROOT.gStyle.SetPalette()\n",
    "\n",
    "canv = ROOT.TCanvas(\"sensorPositionHybrid\", \"sensorPositionHybrid\", 2600, 2600)\n",
    "canv.Divide(2,2)\n",
    "\n",
    "sensorLines = {}\n",
    "\n",
    "sensor = hybrid_sensor\n",
    "\n",
    "idx = 0\n",
    "line = {}\n",
    "for station in [\"196\", \"220\", \"234\", \"420\"]:\n",
    "    hitmapStr = \"{}-physics\".format(station)\n",
    "    if hitmapStr not in hitmaps:\n",
    "        continue\n",
    "\n",
    "    idx += 1\n",
    "    pad = canv.cd(idx)\n",
    "\n",
    "    pad.SetTicks()\n",
    "    pad.SetLogz()\n",
    "    pad.SetLeftMargin(0.11)\n",
    "    pad.SetRightMargin(0.16)\n",
    "    pad.SetTopMargin(0.07)\n",
    "    pad.SetBottomMargin(0.14)\n",
    "\n",
    "    hitmap_histograms[station][\"physics\"].Draw(\"colz\")\n",
    "\n",
    "    edge = hitmaps[hitmapStr].detectorEdge * 1000 # Convert to mm for drawing\n",
    "    yMin = hitmaps[hitmapStr].yMin * 1000         # Convert to mm for drawing\n",
    "    yMax = hitmaps[hitmapStr].yMax * 1000         # Convert to mm for drawing\n",
    "    line[station] = ROOT.TLine(edge,yMin,edge,yMax)\n",
    "    line[station].SetLineColor(ROOT.kRed)\n",
    "    line[station].Draw(\"same\")\n",
    "\n",
    "    #offsetX = hitmaps[hitmapStr].detectorEdge * 1000 - sensor.minX\n",
    "    #for xIdx in hitmaps[hitmapStr].ridge:\n",
    "    #    if hitmaps[hitmapStr].ridge[xIdx]['x'] >= hitmaps[hitmapStr].detectorEdge:\n",
    "    #        offsetY = hitmaps[hitmapStr].ridge[xIdx]['y']*1000\n",
    "    #        break\n",
    "\n",
    "    offsetX,offsetY = sensorPositions[station][0][0]\n",
    "\n",
    "    sensorLines[station] = {}\n",
    "    sensorLines[station][\"Left\"]   = ROOT.TLine( sensor.minX + offsetX, sensor.minY + offsetY,\n",
    "                                                 sensor.minX + offsetX, sensor.maxY + offsetY)\n",
    "    sensorLines[station][\"Right\"]  = ROOT.TLine( sensor.maxX + offsetX, sensor.minY + offsetY,\n",
    "                                                 sensor.maxX + offsetX, sensor.maxY + offsetY)\n",
    "    sensorLines[station][\"Top\"]    = ROOT.TLine( sensor.minX + offsetX, sensor.minY + offsetY,\n",
    "                                                 sensor.maxX + offsetX, sensor.minY + offsetY)\n",
    "    sensorLines[station][\"Bottom\"] = ROOT.TLine( sensor.minX + offsetX, sensor.maxY + offsetY,\n",
    "                                                 sensor.maxX + offsetX, sensor.maxY + offsetY)\n",
    "    for key in sensorLines[station]:\n",
    "        sensorLines[station][key].SetLineColor(ROOT.kRed)\n",
    "\n",
    "    padID = 0\n",
    "    for pad in sensor.padVec:\n",
    "        minX = pad.minX\n",
    "        maxX = pad.maxX\n",
    "        minY = pad.minY\n",
    "        maxY = pad.maxY\n",
    "\n",
    "        sensorLines[station][f\"pad{padID}_Left\"]   = ROOT.TLine( minX + offsetX, minY + offsetY,\n",
    "                                                                 minX + offsetX, maxY + offsetY)\n",
    "        sensorLines[station][f\"pad{padID}_Right\"]  = ROOT.TLine( maxX + offsetX, minY + offsetY,\n",
    "                                                                 maxX + offsetX, maxY + offsetY)\n",
    "        sensorLines[station][f\"pad{padID}_Top\"]    = ROOT.TLine( minX + offsetX, minY + offsetY,\n",
    "                                                                 maxX + offsetX, minY + offsetY)\n",
    "        sensorLines[station][f\"pad{padID}_Bottom\"] = ROOT.TLine( minX + offsetX, maxY + offsetY,\n",
    "                                                                 maxX + offsetX, maxY + offsetY)\n",
    "\n",
    "        sensorLines[station][f\"pad{padID}_Left\"].SetLineColor(ROOT.kBlue)\n",
    "        sensorLines[station][f\"pad{padID}_Right\"].SetLineColor(ROOT.kBlue)\n",
    "        sensorLines[station][f\"pad{padID}_Top\"].SetLineColor(ROOT.kBlue)\n",
    "        sensorLines[station][f\"pad{padID}_Bottom\"].SetLineColor(ROOT.kBlue)\n",
    "\n",
    "        padID += 1\n",
    "\n",
    "    for key in sensorLines[station]:\n",
    "        sensorLines[station][key].Draw(\"same\")\n",
    "\n",
    "canv.Draw()"
   ]
  },
  {
   "attachments": {},
   "cell_type": "markdown",
   "metadata": {},
   "source": [
    "#### New"
   ]
  },
  {
   "cell_type": "code",
   "execution_count": null,
   "metadata": {},
   "outputs": [],
   "source": [
    "ROOT.gStyle.SetPalette()\n",
    "\n",
    "canv = ROOT.TCanvas(\"sensorPositionNew\", \"sensorPositionNew\", 2600, 2600)\n",
    "canv.Divide(2,2)\n",
    "\n",
    "sensorLines = {}\n",
    "\n",
    "sensor = new_sensor2_ti\n",
    "\n",
    "idx = 0\n",
    "line = {}\n",
    "for station in [\"196\", \"220\", \"234\", \"420\"]:\n",
    "    hitmapStr = \"{}-physics\".format(station)\n",
    "    if hitmapStr not in hitmaps:\n",
    "        continue\n",
    "\n",
    "    idx += 1\n",
    "    pad = canv.cd(idx)\n",
    "\n",
    "    pad.SetTicks()\n",
    "    pad.SetLogz()\n",
    "    pad.SetLeftMargin(0.11)\n",
    "    pad.SetRightMargin(0.16)\n",
    "    pad.SetTopMargin(0.07)\n",
    "    pad.SetBottomMargin(0.14)\n",
    "\n",
    "    hitmap_histograms[station][\"physics\"].Draw(\"colz\")\n",
    "\n",
    "    edge = hitmaps[hitmapStr].detectorEdge * 1000 # Convert to mm for drawing\n",
    "    yMin = hitmaps[hitmapStr].yMin * 1000         # Convert to mm for drawing\n",
    "    yMax = hitmaps[hitmapStr].yMax * 1000         # Convert to mm for drawing\n",
    "    line[station] = ROOT.TLine(edge,yMin,edge,yMax)\n",
    "    line[station].SetLineColor(ROOT.kRed)\n",
    "    line[station].Draw(\"same\")\n",
    "\n",
    "    #offsetX = hitmaps[hitmapStr].detectorEdge * 1000 - sensor.minX\n",
    "    #for xIdx in hitmaps[hitmapStr].ridge:\n",
    "    #    if hitmaps[hitmapStr].ridge[xIdx]['x'] >= hitmaps[hitmapStr].detectorEdge:\n",
    "    #        offsetY = hitmaps[hitmapStr].ridge[xIdx]['y']*1000\n",
    "    #        break\n",
    "\n",
    "    offsetX,offsetY = sensorPositions[station][0][0]\n",
    "\n",
    "    sensorLines[station] = {}\n",
    "    sensorLines[station][\"Left\"]   = ROOT.TLine( sensor.minX + offsetX, sensor.minY + offsetY,\n",
    "                                                 sensor.minX + offsetX, sensor.maxY + offsetY)\n",
    "    sensorLines[station][\"Right\"]  = ROOT.TLine( sensor.maxX + offsetX, sensor.minY + offsetY,\n",
    "                                                 sensor.maxX + offsetX, sensor.maxY + offsetY)\n",
    "    sensorLines[station][\"Top\"]    = ROOT.TLine( sensor.minX + offsetX, sensor.minY + offsetY,\n",
    "                                                 sensor.maxX + offsetX, sensor.minY + offsetY)\n",
    "    sensorLines[station][\"Bottom\"] = ROOT.TLine( sensor.minX + offsetX, sensor.maxY + offsetY,\n",
    "                                                 sensor.maxX + offsetX, sensor.maxY + offsetY)\n",
    "    for key in sensorLines[station]:\n",
    "        sensorLines[station][key].SetLineColor(ROOT.kRed)\n",
    "\n",
    "    padID = 0\n",
    "    for pad in sensor.padVec:\n",
    "        minX = pad.minX\n",
    "        maxX = pad.maxX\n",
    "        minY = pad.minY\n",
    "        maxY = pad.maxY\n",
    "\n",
    "        sensorLines[station][f\"pad{padID}_Left\"]   = ROOT.TLine( minX + offsetX, minY + offsetY,\n",
    "                                                                 minX + offsetX, maxY + offsetY)\n",
    "        sensorLines[station][f\"pad{padID}_Right\"]  = ROOT.TLine( maxX + offsetX, minY + offsetY,\n",
    "                                                                 maxX + offsetX, maxY + offsetY)\n",
    "        sensorLines[station][f\"pad{padID}_Top\"]    = ROOT.TLine( minX + offsetX, minY + offsetY,\n",
    "                                                                 maxX + offsetX, minY + offsetY)\n",
    "        sensorLines[station][f\"pad{padID}_Bottom\"] = ROOT.TLine( minX + offsetX, maxY + offsetY,\n",
    "                                                                 maxX + offsetX, maxY + offsetY)\n",
    "\n",
    "        sensorLines[station][f\"pad{padID}_Left\"].SetLineColor(ROOT.kBlue)\n",
    "        sensorLines[station][f\"pad{padID}_Right\"].SetLineColor(ROOT.kBlue)\n",
    "        sensorLines[station][f\"pad{padID}_Top\"].SetLineColor(ROOT.kBlue)\n",
    "        sensorLines[station][f\"pad{padID}_Bottom\"].SetLineColor(ROOT.kBlue)\n",
    "\n",
    "        padID += 1\n",
    "\n",
    "    for key in sensorLines[station]:\n",
    "        sensorLines[station][key].Draw(\"same\")\n",
    "\n",
    "canv.Draw()"
   ]
  },
  {
   "attachments": {},
   "cell_type": "markdown",
   "metadata": {},
   "source": [
    "#### Double Positions"
   ]
  },
  {
   "cell_type": "code",
   "execution_count": null,
   "metadata": {},
   "outputs": [],
   "source": [
    "ROOT.gStyle.SetPalette()\n",
    "\n",
    "canv = ROOT.TCanvas(\"doubleSensorPosition\", \"doubleSensorPosition\", 2600, 2600)\n",
    "canv.Divide(2,2)\n",
    "\n",
    "sensorLines = {}\n",
    "\n",
    "sensor = original_sensor\n",
    "\n",
    "idx = 0\n",
    "line = {}\n",
    "for station in [\"196\", \"220\", \"234\", \"420\"]:\n",
    "    hitmapStr = \"{}-physics\".format(station)\n",
    "    if hitmapStr not in hitmaps:\n",
    "        continue\n",
    "\n",
    "    idx += 1\n",
    "    pad = canv.cd(idx)\n",
    "\n",
    "    pad.SetTicks()\n",
    "    pad.SetLogz()\n",
    "    pad.SetLeftMargin(0.11)\n",
    "    pad.SetRightMargin(0.16)\n",
    "    pad.SetTopMargin(0.07)\n",
    "    pad.SetBottomMargin(0.14)\n",
    "\n",
    "    if station not in doublePositions:\n",
    "        continue\n",
    "\n",
    "    hitmap_histograms[station][\"physics\"].Draw(\"colz\")\n",
    "\n",
    "    edge = hitmaps[hitmapStr].detectorEdge * 1000 # Convert to mm for drawing\n",
    "    yMin = hitmaps[hitmapStr].yMin * 1000         # Convert to mm for drawing\n",
    "    yMax = hitmaps[hitmapStr].yMax * 1000         # Convert to mm for drawing\n",
    "    line[station] = ROOT.TLine(edge,yMin,edge,yMax)\n",
    "    line[station].SetLineColor(ROOT.kRed)\n",
    "    line[station].Draw(\"same\")\n",
    "\n",
    "    #offsetX = hitmaps[hitmapStr].detectorEdge * 1000 - sensor.minX\n",
    "    #for xIdx in hitmaps[hitmapStr].ridge:\n",
    "    #    if hitmaps[hitmapStr].ridge[xIdx]['x'] >= hitmaps[hitmapStr].detectorEdge:\n",
    "    #        offsetY = hitmaps[hitmapStr].ridge[xIdx]['y']*1000\n",
    "    #        break\n",
    "\n",
    "    sensorLines[station] = {}\n",
    "    pos_idx = -1\n",
    "    for position in doublePositions[station][0]:\n",
    "        pos_idx += 1\n",
    "        offsetX,offsetY = position\n",
    "\n",
    "        sensorLines[station][f\"Left_Pos{pos_idx}\"]   = ROOT.TLine( sensor.minX + offsetX, sensor.minY + offsetY,\n",
    "                                                                   sensor.minX + offsetX, sensor.maxY + offsetY)\n",
    "        sensorLines[station][f\"Right_Pos{pos_idx}\"]  = ROOT.TLine( sensor.maxX + offsetX, sensor.minY + offsetY,\n",
    "                                                                   sensor.maxX + offsetX, sensor.maxY + offsetY)\n",
    "        sensorLines[station][f\"Top_Pos{pos_idx}\"]    = ROOT.TLine( sensor.minX + offsetX, sensor.minY + offsetY,\n",
    "                                                                   sensor.maxX + offsetX, sensor.minY + offsetY)\n",
    "        sensorLines[station][f\"Bottom_Pos{pos_idx}\"] = ROOT.TLine( sensor.minX + offsetX, sensor.maxY + offsetY,\n",
    "                                                                   sensor.maxX + offsetX, sensor.maxY + offsetY)\n",
    "\n",
    "        sensorLines[station][f\"Left_Pos{pos_idx}\"].SetLineColor(ROOT.kRed)\n",
    "        sensorLines[station][f\"Right_Pos{pos_idx}\"].SetLineColor(ROOT.kRed)\n",
    "        sensorLines[station][f\"Top_Pos{pos_idx}\"].SetLineColor(ROOT.kRed)\n",
    "        sensorLines[station][f\"Bottom_Pos{pos_idx}\"].SetLineColor(ROOT.kRed)\n",
    "\n",
    "        padID = 0\n",
    "        for pad in sensor.padVec:\n",
    "            minX = pad.minX\n",
    "            maxX = pad.maxX\n",
    "            minY = pad.minY\n",
    "            maxY = pad.maxY\n",
    "\n",
    "            sensorLines[station][f\"pad{padID}_Left_Pos{pos_idx}\"]   = ROOT.TLine( minX + offsetX, minY + offsetY,\n",
    "                                                                                  minX + offsetX, maxY + offsetY)\n",
    "            sensorLines[station][f\"pad{padID}_Right_Pos{pos_idx}\"]  = ROOT.TLine( maxX + offsetX, minY + offsetY,\n",
    "                                                                                  maxX + offsetX, maxY + offsetY)\n",
    "            sensorLines[station][f\"pad{padID}_Top_Pos{pos_idx}\"]    = ROOT.TLine( minX + offsetX, minY + offsetY,\n",
    "                                                                                  maxX + offsetX, minY + offsetY)\n",
    "            sensorLines[station][f\"pad{padID}_Bottom_Pos{pos_idx}\"] = ROOT.TLine( minX + offsetX, maxY + offsetY,\n",
    "                                                                                  maxX + offsetX, maxY + offsetY)\n",
    "\n",
    "            sensorLines[station][f\"pad{padID}_Left_Pos{pos_idx}\"].SetLineColor(ROOT.kBlue)\n",
    "            sensorLines[station][f\"pad{padID}_Right_Pos{pos_idx}\"].SetLineColor(ROOT.kBlue)\n",
    "            sensorLines[station][f\"pad{padID}_Top_Pos{pos_idx}\"].SetLineColor(ROOT.kBlue)\n",
    "            sensorLines[station][f\"pad{padID}_Bottom_Pos{pos_idx}\"].SetLineColor(ROOT.kBlue)\n",
    "\n",
    "            padID += 1\n",
    "\n",
    "    for key in sensorLines[station]:\n",
    "        sensorLines[station][key].Draw(\"same\")\n",
    "\n",
    "canv.Draw()"
   ]
  },
  {
   "attachments": {},
   "cell_type": "markdown",
   "metadata": {},
   "source": [
    "## Occupancy Plots"
   ]
  },
  {
   "attachments": {},
   "cell_type": "markdown",
   "metadata": {},
   "source": [
    "### Get Square Pad Occupancy and plot it"
   ]
  },
  {
   "cell_type": "code",
   "execution_count": null,
   "metadata": {},
   "outputs": [],
   "source": [
    "square_occupancy_graphs = {}\n",
    "\n",
    "for station in [\"196\", \"220\", \"234\", \"420\"]:\n",
    "    hitmapStr = \"{}-physics\".format(station)\n",
    "    if hitmapStr in hitmaps:\n",
    "        square_occupancy_graphs[station] = {\n",
    "            \"physics\": hitmaps[hitmapStr].squarePadOccupancy()\n",
    "        }\n",
    "\n",
    "        hitmapStr = \"{}-physics-background\".format(station)\n",
    "        if hitmapStr in hitmaps:\n",
    "            square_occupancy_graphs[station][\"background\"] = hitmaps[hitmapStr].squarePadOccupancy()"
   ]
  },
  {
   "cell_type": "code",
   "execution_count": null,
   "metadata": {},
   "outputs": [],
   "source": [
    "for station in [\"196\", \"220\", \"234\", \"420\"]:\n",
    "    if station not in square_occupancy_graphs:\n",
    "        continue\n",
    "    if 'physics' not in square_occupancy_graphs[station]:\n",
    "        continue\n",
    "    if 'background' not in square_occupancy_graphs[station]:\n",
    "        continue\n",
    "\n",
    "    if \"canv\" not in square_occupancy_graphs[station]:\n",
    "        square_occupancy_graphs[station][\"canv\"] = ROOT.TCanvas(f\"square_occupancy_vs_padSize_{station}\", f\"Station {station} - Occupancy vs Pad Size\", 1200, 600)\n",
    "        square_occupancy_graphs[station][\"canv\"].Divide(2,1)\n",
    "\n",
    "        idx = 0\n",
    "        for hitmap_type in ['physics', 'background']:\n",
    "            idx += 1\n",
    "            pad = square_occupancy_graphs[station][\"canv\"].cd(idx)\n",
    "            pad.SetLogx()\n",
    "            pad.SetLogy()\n",
    "            pad.SetTicks()\n",
    "\n",
    "            title = f\"Station {station}\"\n",
    "            if hitmap_type == 'background':\n",
    "                title = f\"Station {station} with {backgroundTitle} Background\"\n",
    "\n",
    "            if \"frame\" not in square_occupancy_graphs[station][hitmap_type]:\n",
    "                square_occupancy_graphs[station][hitmap_type][\"frame\"] = ROOT.TH2D(f\"frame_square_{station}_{hitmap_type}\", title, 100, 10, 10000, 100, 1.0E-5, 1)\n",
    "                square_occupancy_graphs[station][hitmap_type][\"frame\"].SetStats(False)\n",
    "                square_occupancy_graphs[station][hitmap_type][\"frame\"].GetXaxis().SetTitle(\"Pad Size [#mum]\")\n",
    "                square_occupancy_graphs[station][hitmap_type][\"frame\"].GetYaxis().SetTitle(\"#mu\")\n",
    "\n",
    "            square_occupancy_graphs[station][hitmap_type][\"frame\"].Draw()\n",
    "\n",
    "            square_occupancy_graphs[station][hitmap_type][\"uniform\"].Draw(\"l same\")\n",
    "            square_occupancy_graphs[station][hitmap_type][\"integrate\"].Draw(\"l same\")\n",
    "            square_occupancy_graphs[station][hitmap_type][\"points\"].SetMarkerStyle(20)\n",
    "            square_occupancy_graphs[station][hitmap_type][\"points\"].Draw(\"p same\")\n",
    "\n",
    "    square_occupancy_graphs[station][\"canv\"].Draw()"
   ]
  },
  {
   "attachments": {},
   "cell_type": "markdown",
   "metadata": {},
   "source": [
    "### Get Rectangular Pad Occupancy and plot it"
   ]
  },
  {
   "cell_type": "code",
   "execution_count": null,
   "metadata": {},
   "outputs": [],
   "source": [
    "rect_occupancy_graphs = {}\n",
    "\n",
    "for station in [\"196\", \"220\", \"234\", \"420\"]:\n",
    "    hitmapStr = \"{}-physics\".format(station)\n",
    "    if hitmapStr in hitmaps:\n",
    "        rect_occupancy_graphs[station] = {\n",
    "            \"physics\": hitmaps[hitmapStr].rectangularPadOccupancy(xLen=1.3e-3)\n",
    "        }\n",
    "\n",
    "        hitmapStr = \"{}-physics-background\".format(station)\n",
    "        if hitmapStr in hitmaps:\n",
    "            rect_occupancy_graphs[station][\"background\"] = hitmaps[hitmapStr].rectangularPadOccupancy(xLen=1.3e-3)"
   ]
  },
  {
   "cell_type": "code",
   "execution_count": null,
   "metadata": {},
   "outputs": [],
   "source": [
    "for station in [\"196\", \"220\", \"234\", \"420\"]:\n",
    "    if station not in rect_occupancy_graphs:\n",
    "        continue\n",
    "    if 'physics' not in rect_occupancy_graphs[station]:\n",
    "        continue\n",
    "    if 'background' not in rect_occupancy_graphs[station]:\n",
    "        continue\n",
    "\n",
    "    if \"canv\" not in rect_occupancy_graphs[station]:\n",
    "        rect_occupancy_graphs[station][\"canv\"] = ROOT.TCanvas(f\"rect_occupancy_vs_padSize_{station}\", f\"Station {station} - Occupancy vs Pad Size\", 1200, 600)\n",
    "        rect_occupancy_graphs[station][\"canv\"].Divide(2,1)\n",
    "\n",
    "        idx = 0\n",
    "        for hitmap_type in ['physics', 'background']:\n",
    "            idx += 1\n",
    "            pad = rect_occupancy_graphs[station][\"canv\"].cd(idx)\n",
    "            pad.SetLogx()\n",
    "            pad.SetLogy()\n",
    "            pad.SetTicks()\n",
    "\n",
    "            title = f\"Station {station}\"\n",
    "            if hitmap_type == 'background':\n",
    "                title = f\"Station {station} with {backgroundTitle} Background\"\n",
    "\n",
    "            if \"frame\" not in rect_occupancy_graphs[station][hitmap_type]:\n",
    "                rect_occupancy_graphs[station][hitmap_type][\"frame\"] = ROOT.TH2D(f\"frame_rect_{station}_{hitmap_type}\", title, 100, 10, 10000, 100, 1.0E-5, 1)\n",
    "                rect_occupancy_graphs[station][hitmap_type][\"frame\"].SetStats(False)\n",
    "                rect_occupancy_graphs[station][hitmap_type][\"frame\"].GetXaxis().SetTitle(\"Pad Width [#mum]\")\n",
    "                rect_occupancy_graphs[station][hitmap_type][\"frame\"].GetYaxis().SetTitle(\"#mu\")\n",
    "\n",
    "            rect_occupancy_graphs[station][hitmap_type][\"frame\"].Draw()\n",
    "\n",
    "            rect_occupancy_graphs[station][hitmap_type][\"uniform\"].Draw(\"l same\")\n",
    "            rect_occupancy_graphs[station][hitmap_type][\"integrate\"].Draw(\"l same\")\n",
    "            rect_occupancy_graphs[station][hitmap_type][\"points\"].SetMarkerStyle(20)\n",
    "            rect_occupancy_graphs[station][hitmap_type][\"points\"].Draw(\"p same\")\n",
    "\n",
    "    rect_occupancy_graphs[station][\"canv\"].Draw()"
   ]
  },
  {
   "cell_type": "code",
   "execution_count": null,
   "metadata": {},
   "outputs": [],
   "source": [
    "occupancy_graphs = {\n",
    "    'square': square_occupancy_graphs,\n",
    "    'rectangular': rect_occupancy_graphs,\n",
    "}"
   ]
  },
  {
   "attachments": {},
   "cell_type": "markdown",
   "metadata": {},
   "source": [
    "## Event Loss Probabilities"
   ]
  },
  {
   "attachments": {},
   "cell_type": "markdown",
   "metadata": {},
   "source": [
    "### Convert Occupancy to Event Loss Probabilities"
   ]
  },
  {
   "cell_type": "code",
   "execution_count": null,
   "metadata": {},
   "outputs": [],
   "source": [
    "event_loss_probabilities = {}\n",
    "\n",
    "for pad_type in occupancy_graphs:\n",
    "    if pad_type not in event_loss_probabilities:\n",
    "        event_loss_probabilities[pad_type] = {}\n",
    "\n",
    "    for station in occupancy_graphs[pad_type]:\n",
    "        if station not in event_loss_probabilities[pad_type]:\n",
    "            event_loss_probabilities[pad_type][station] = {}\n",
    "\n",
    "        for hitmap_type in occupancy_graphs[pad_type][station]:\n",
    "            if hitmap_type == \"canv\":\n",
    "                continue\n",
    "            event_loss_probabilities[pad_type][station][hitmap_type] = pps_hitmaps.occupancyGraphToEventLossProbability(\n",
    "                occupancy_graphs[pad_type][station][hitmap_type]['integrate']\n",
    "            )"
   ]
  },
  {
   "attachments": {},
   "cell_type": "markdown",
   "metadata": {},
   "source": [
    "### Plot Event Loss Probability vs Pad Dimensions"
   ]
  },
  {
   "cell_type": "code",
   "execution_count": null,
   "metadata": {},
   "outputs": [],
   "source": [
    "prob_vs_dim_canvas = {}\n",
    "prob_vs_dim_objs = {}\n",
    "\n",
    "drawTimeSteps = [0, 1, 3, 7, 39, 399]\n",
    "\n",
    "for station in [\"196\", \"220\", \"234\", \"420\"]:\n",
    "    do_continue = False\n",
    "    for pad_type in occupancy_graphs:\n",
    "        if station not in occupancy_graphs[pad_type]:\n",
    "            do_continue = True\n",
    "            break\n",
    "    if do_continue:\n",
    "        continue\n",
    "\n",
    "    if station not in prob_vs_dim_objs:\n",
    "        prob_vs_dim_objs[station] = {}\n",
    "\n",
    "    canv = ROOT.TCanvas(f\"probability_vs_dimension_{station}\", f\"Station {station} - Event Loss Probability vs Pad Dimensions\", 1200, 1200)\n",
    "    canv.Divide(2,2)\n",
    "\n",
    "    idx = 0\n",
    "    for pad_type in event_loss_probabilities:\n",
    "        pad_title = \"Square Pad\"\n",
    "        x_title = \"Pad Size [#mum]\"\n",
    "        if pad_type == \"rectangular\":\n",
    "            pad_title = \"Rectangular Pad\"\n",
    "            x_title = \"Pad Width [#mum]\"\n",
    "\n",
    "        if pad_type not in prob_vs_dim_objs[station]:\n",
    "            prob_vs_dim_objs[station][pad_type] = {}\n",
    "\n",
    "        for hitmap_type in event_loss_probabilities[pad_type][station]:\n",
    "            hitmap_title = \"\"\n",
    "            if hitmap_type == 'background':\n",
    "                hitmap_title = f\" with {backgroundTitle} Background\"\n",
    "\n",
    "            if hitmap_type not in prob_vs_dim_objs[station][pad_type]:\n",
    "                prob_vs_dim_objs[station][pad_type][hitmap_type] = {}\n",
    "\n",
    "            frame = ROOT.TH2D(f\"frame_{station}_{pad_type}_{hitmap_type}\", f\"Station {station} {pad_title}{hitmap_title}\", 100, 10, 10000, 100, 0.001, 1.1)\n",
    "            frame.SetStats(False)\n",
    "            frame.GetXaxis().SetTitle(x_title)\n",
    "            frame.GetYaxis().SetTitle(\"Event Loss Probability\")\n",
    "\n",
    "            legend = ROOT.TLegend(0.65,0.1,0.9,0.45)\n",
    "\n",
    "            prob_vs_dim_objs[station][pad_type][hitmap_type]['frame'] = frame\n",
    "            prob_vs_dim_objs[station][pad_type][hitmap_type]['legend'] = legend\n",
    "\n",
    "            idx += 1\n",
    "            pad = canv.cd(idx)\n",
    "            pad.SetLogx()\n",
    "            pad.SetLogy()\n",
    "            pad.SetTicks()\n",
    "\n",
    "            frame.Draw()\n",
    "\n",
    "            colorOffset = 0\n",
    "            for timeStep in drawTimeSteps:\n",
    "                probability = event_loss_probabilities[pad_type][station][hitmap_type][f'prob_timeStep{timeStep}']\n",
    "                length      = event_loss_probabilities[pad_type][station][hitmap_type]['length']\n",
    "\n",
    "                x, y = array( 'd' ), array( 'd' )\n",
    "                for ibin in range(len(length)):\n",
    "                    x.append(length[ibin])\n",
    "                    y.append(probability[ibin])\n",
    "                graph = ROOT.TGraph(len(length), x, y)\n",
    "\n",
    "                graph.SetLineColor(ROOT.kAzure + colorOffset)\n",
    "                graph.Draw(\"l same\")\n",
    "                legend.AddEntry(graph, \"#tau #leq {} ns\".format((timeStep+1)*25), \"l\")\n",
    "                colorOffset += 3\n",
    "\n",
    "                prob_vs_dim_objs[station][pad_type][hitmap_type][f'graph_timeStep{timeStep}'] = graph\n",
    "\n",
    "            legend.Draw()\n",
    "\n",
    "    canv.Draw()\n",
    "    prob_vs_dim_canvas[station] = canv"
   ]
  },
  {
   "attachments": {},
   "cell_type": "markdown",
   "metadata": {},
   "source": [
    "### Reference Points for Pad Sizing"
   ]
  },
  {
   "attachments": {},
   "cell_type": "markdown",
   "metadata": {},
   "source": [
    "#### Pad Size Needed for 10% efficiency with 25 ns deadtime"
   ]
  },
  {
   "cell_type": "code",
   "execution_count": null,
   "metadata": {},
   "outputs": [],
   "source": [
    "table = []\n",
    "rows = []\n",
    "columns = []\n",
    "for station in [\"196\", \"220\", \"234\", \"420\"]:\n",
    "    do_continue = False\n",
    "    for pad_type in occupancy_graphs:\n",
    "        if station not in occupancy_graphs[pad_type]:\n",
    "            do_continue = True\n",
    "            break\n",
    "    if do_continue:\n",
    "        continue\n",
    "\n",
    "    these_columns = []\n",
    "    this_row = []\n",
    "    for pad_type in event_loss_probabilities:\n",
    "        pad_title = \"Square\"\n",
    "        if pad_type == \"rectangular\":\n",
    "            pad_title = \"Rect\"\n",
    "\n",
    "        for hitmap_type in event_loss_probabilities[pad_type][station]:\n",
    "            hitmap_title = \"\"\n",
    "            if hitmap_type == 'background':\n",
    "                hitmap_title = f\" w/ Bkg\"\n",
    "\n",
    "            these_columns += [f\"{pad_title}{hitmap_title}\"]\n",
    "\n",
    "            probability = event_loss_probabilities[pad_type][station][hitmap_type][f'prob_timeStep0']\n",
    "            length      = event_loss_probabilities[pad_type][station][hitmap_type]['length']\n",
    "\n",
    "            this_row += [numpy.interp(0.1, probability, length)]\n",
    "\n",
    "    if columns == []:\n",
    "        columns = these_columns\n",
    "    if these_columns != columns:\n",
    "        print(\"There is a problem with the ordering\")\n",
    "\n",
    "    table += [this_row]\n",
    "    rows += [station]\n",
    "\n",
    "df = pandas.DataFrame(table, columns = columns, index=rows)\n",
    "print(df)"
   ]
  },
  {
   "attachments": {},
   "cell_type": "markdown",
   "metadata": {},
   "source": [
    "Units above in $\\mu m$"
   ]
  },
  {
   "attachments": {},
   "cell_type": "markdown",
   "metadata": {},
   "source": [
    "#### Loss Probability for different pad sizes with 25 ns deadtime"
   ]
  },
  {
   "cell_type": "code",
   "execution_count": null,
   "metadata": {},
   "outputs": [],
   "source": [
    "table2 = []\n",
    "table3 = []\n",
    "table4 = []\n",
    "rows = []\n",
    "columns = []\n",
    "for station in [\"196\", \"220\", \"234\", \"420\"]:\n",
    "    do_continue = False\n",
    "    for pad_type in occupancy_graphs:\n",
    "        if station not in occupancy_graphs[pad_type]:\n",
    "            do_continue = True\n",
    "            break\n",
    "    if do_continue:\n",
    "        continue\n",
    "\n",
    "    these_columns = []\n",
    "    this_row2 = []\n",
    "    this_row3 = []\n",
    "    this_row4 = []\n",
    "    for pad_type in event_loss_probabilities:\n",
    "        pad_title = \"Square\"\n",
    "        if pad_type == \"rectangular\":\n",
    "            pad_title = \"Rect\"\n",
    "\n",
    "        for hitmap_type in event_loss_probabilities[pad_type][station]:\n",
    "            hitmap_title = \"\"\n",
    "            if hitmap_type == 'background':\n",
    "                hitmap_title = f\" w/ Bkg\"\n",
    "\n",
    "            these_columns += [f\"{pad_title}{hitmap_title}\"]\n",
    "\n",
    "            probability = event_loss_probabilities[pad_type][station][hitmap_type][f'prob_timeStep0']\n",
    "            length      = event_loss_probabilities[pad_type][station][hitmap_type]['length']\n",
    "\n",
    "            this_row2 += [numpy.interp(1300/2, length, probability)]\n",
    "            this_row3 += [numpy.interp(1300/3, length, probability)]\n",
    "            this_row4 += [numpy.interp(1300/4, length, probability)]\n",
    "\n",
    "    if columns == []:\n",
    "        columns = these_columns\n",
    "    if these_columns != columns:\n",
    "        print(\"There is a problem with the ordering\")\n",
    "\n",
    "    table2 += [this_row2]\n",
    "    table3 += [this_row3]\n",
    "    table4 += [this_row4]\n",
    "    rows += [station]\n",
    "\n",
    "df2 = pandas.DataFrame(table2, columns = columns, index=rows)\n",
    "df3 = pandas.DataFrame(table3, columns = columns, index=rows)\n",
    "df4 = pandas.DataFrame(table4, columns = columns, index=rows)\n",
    "\n",
    "print(f\"Pad dimension 1/2 of nominal ({1.3/2})\")\n",
    "print(df2)\n",
    "print()\n",
    "\n",
    "print(f\"Pad dimension 1/3 of nominal ({1.3/3})\")\n",
    "print(df3)\n",
    "print()\n",
    "\n",
    "print(f\"Pad dimension 1/4 of nominal ({1.3/4})\")\n",
    "print(df4)\n",
    "print()"
   ]
  },
  {
   "attachments": {},
   "cell_type": "markdown",
   "metadata": {},
   "source": [
    "## Vertical Shifts needed over time"
   ]
  },
  {
   "attachments": {},
   "cell_type": "markdown",
   "metadata": {},
   "source": [
    "Assuming 1 year of HL-LHC is $300 fb^{-1}$ and LGAD limit of 2e15 neq/cm^2"
   ]
  },
  {
   "cell_type": "code",
   "execution_count": null,
   "metadata": {},
   "outputs": [],
   "source": [
    "lgad_limit = 2e15\n",
    "luminosity = 300"
   ]
  },
  {
   "attachments": {},
   "cell_type": "markdown",
   "metadata": {},
   "source": [
    "### Station 196, no Background"
   ]
  },
  {
   "cell_type": "code",
   "execution_count": null,
   "metadata": {},
   "outputs": [],
   "source": [
    "hitmap_id = \"196-physics\"\n",
    "if hitmap_id in hitmaps:\n",
    "    canv, persistance = hitmaps[hitmap_id].plotShifts(\n",
    "        integratedLuminosity=luminosity,\n",
    "        thresholdFlux=2*lgad_limit,\n",
    "        plotPadCols=3,\n",
    "        #plotPadCols=3,\n",
    "        maxNumShifts=4,\n",
    "    )\n",
    "    canv.Draw()"
   ]
  },
  {
   "attachments": {},
   "cell_type": "markdown",
   "metadata": {},
   "source": [
    "### Station 196 with Background"
   ]
  },
  {
   "cell_type": "code",
   "execution_count": null,
   "metadata": {},
   "outputs": [],
   "source": [
    "hitmap_id = \"196-physics-background\"\n",
    "if hitmap_id in hitmaps:\n",
    "    canv, persistance = hitmaps[hitmap_id].plotShifts(\n",
    "        integratedLuminosity=luminosity,\n",
    "        thresholdFlux=2*lgad_limit,\n",
    "        plotPadCols=3,\n",
    "        #plotPadCols=3,\n",
    "        maxNumShifts=4,\n",
    "    )\n",
    "    canv.Draw()"
   ]
  },
  {
   "attachments": {},
   "cell_type": "markdown",
   "metadata": {},
   "source": [
    "### Station 220, no Background"
   ]
  },
  {
   "cell_type": "code",
   "execution_count": null,
   "metadata": {},
   "outputs": [],
   "source": [
    "hitmap_id = \"220-physics\"\n",
    "if hitmap_id in hitmaps:\n",
    "    canv, persistance = hitmaps[hitmap_id].plotShifts(\n",
    "        integratedLuminosity=luminosity,\n",
    "        thresholdFlux=2*lgad_limit,\n",
    "        plotPadCols=3,\n",
    "        #plotPadCols=3,\n",
    "        maxNumShifts=4,\n",
    "    )\n",
    "    canv.Draw()"
   ]
  },
  {
   "attachments": {},
   "cell_type": "markdown",
   "metadata": {},
   "source": [
    "### Station 220 with Background"
   ]
  },
  {
   "cell_type": "code",
   "execution_count": null,
   "metadata": {},
   "outputs": [],
   "source": [
    "hitmap_id = \"220-physics-background\"\n",
    "if hitmap_id in hitmaps:\n",
    "    canv, persistance = hitmaps[hitmap_id].plotShifts(\n",
    "        integratedLuminosity=luminosity,\n",
    "        thresholdFlux=2*lgad_limit,\n",
    "        plotPadCols=3,\n",
    "        #plotPadCols=3,\n",
    "        maxNumShifts=4,\n",
    "    )\n",
    "    canv.Draw()"
   ]
  },
  {
   "attachments": {},
   "cell_type": "markdown",
   "metadata": {},
   "source": [
    "### Station 234, no Background"
   ]
  },
  {
   "cell_type": "code",
   "execution_count": null,
   "metadata": {},
   "outputs": [],
   "source": [
    "hitmap_id = \"234-physics\"\n",
    "if hitmap_id in hitmaps:\n",
    "    canv, persistance = hitmaps[hitmap_id].plotShifts(\n",
    "        integratedLuminosity=luminosity,\n",
    "        thresholdFlux=2*lgad_limit,\n",
    "        plotPadCols=3,\n",
    "        #plotPadCols=3,\n",
    "        maxNumShifts=12,\n",
    "    )\n",
    "    canv.Draw()"
   ]
  },
  {
   "attachments": {},
   "cell_type": "markdown",
   "metadata": {},
   "source": [
    "### Station 234 with Background"
   ]
  },
  {
   "cell_type": "code",
   "execution_count": null,
   "metadata": {},
   "outputs": [],
   "source": [
    "hitmap_id = \"234-physics-background\"\n",
    "if hitmap_id in hitmaps:\n",
    "    canv, persistance = hitmaps[hitmap_id].plotShifts(\n",
    "        integratedLuminosity=luminosity,\n",
    "        thresholdFlux=2*lgad_limit,\n",
    "        plotPadCols=3,\n",
    "        #plotPadCols=3,\n",
    "        maxNumShifts=12,\n",
    "    )\n",
    "    canv.Draw()"
   ]
  },
  {
   "attachments": {},
   "cell_type": "markdown",
   "metadata": {},
   "source": [
    "### Station 420, no Background"
   ]
  },
  {
   "cell_type": "code",
   "execution_count": null,
   "metadata": {},
   "outputs": [],
   "source": [
    "hitmap_id = \"420-physics\"\n",
    "if hitmap_id in hitmaps:\n",
    "    canv, persistance = hitmaps[hitmap_id].plotShifts(\n",
    "        integratedLuminosity=luminosity,\n",
    "        thresholdFlux=2*lgad_limit,\n",
    "        plotPadCols=3,\n",
    "        #plotPadCols=3,\n",
    "        maxNumShifts=4,\n",
    "    )\n",
    "    canv.Draw()"
   ]
  },
  {
   "attachments": {},
   "cell_type": "markdown",
   "metadata": {},
   "source": [
    "### Station 420 with Background"
   ]
  },
  {
   "cell_type": "code",
   "execution_count": null,
   "metadata": {},
   "outputs": [],
   "source": [
    "hitmap_id = \"420-physics-background\"\n",
    "if hitmap_id in hitmaps:\n",
    "    canv, persistance = hitmaps[hitmap_id].plotShifts(\n",
    "        integratedLuminosity=luminosity,\n",
    "        thresholdFlux=2*lgad_limit,\n",
    "        plotPadCols=3,\n",
    "        #plotPadCols=3,\n",
    "        maxNumShifts=5,\n",
    "    )\n",
    "    canv.Draw()"
   ]
  },
  {
   "attachments": {},
   "cell_type": "markdown",
   "metadata": {},
   "source": [
    "### Needed Shifts"
   ]
  },
  {
   "cell_type": "code",
   "execution_count": null,
   "metadata": {},
   "outputs": [],
   "source": [
    "needed_shifts = {\n",
    "    '196': (0, None),   # No shift needed\n",
    "    '220': (2, 1.3*2),  # Each shift by 1 standard pad, i.e. 1.3 mm\n",
    "    '234': (10, 1.3*5), # Each shift by 1/2 standard pad, i.e. 0.625 mm\n",
    "    '420': (4, 1.3*4),  # Each shift by 1 standard pad, i.e. 1.3 mm\n",
    "}"
   ]
  },
  {
   "attachments": {},
   "cell_type": "markdown",
   "metadata": {},
   "source": [
    "### Compute positions with shifts"
   ]
  },
  {
   "cell_type": "code",
   "execution_count": null,
   "metadata": {},
   "outputs": [],
   "source": [
    "for station in needed_shifts:\n",
    "    if station not in sensorPositions:\n",
    "        continue\n",
    "    num_shifts, total_shift = needed_shifts[station]\n",
    "    if num_shifts == 0 or total_shift is None:\n",
    "        continue\n",
    "\n",
    "    center_position_x, center_position_y = sensorPositions[station][0][0]\n",
    "\n",
    "    positions = []\n",
    "\n",
    "    start_position_y = center_position_y - total_shift/2\n",
    "    step_y = total_shift/num_shifts\n",
    "    for idx in range(num_shifts + 1):\n",
    "        positions += [(center_position_x, start_position_y + step_y*idx)]\n",
    "\n",
    "    sensorPositions[station] += [positions]"
   ]
  },
  {
   "attachments": {},
   "cell_type": "markdown",
   "metadata": {},
   "source": [
    "### Sensor Positions on Hitmap with shifts"
   ]
  },
  {
   "attachments": {},
   "cell_type": "markdown",
   "metadata": {},
   "source": [
    "#### Station 196"
   ]
  },
  {
   "cell_type": "code",
   "execution_count": null,
   "metadata": {},
   "outputs": [],
   "source": [
    "station = '196'\n",
    "sensor = original_sensor\n",
    "\n",
    "ROOT.gStyle.SetPalette()\n",
    "\n",
    "positions = sensorPositions[station][-1]\n",
    "num_pos = len(positions)\n",
    "\n",
    "if num_pos <= 3:\n",
    "    xPads = num_pos\n",
    "    yPads = 1\n",
    "elif num_pos <= 4:\n",
    "    xPads = 2\n",
    "    yPads = 2\n",
    "elif num_pos <= 9:\n",
    "    xPads = 3\n",
    "    yPads = ceil(num_pos/3)\n",
    "else:\n",
    "    xPads = 4\n",
    "    yPads = ceil(num_pos/4)\n",
    "\n",
    "canv = ROOT.TCanvas(f\"sensorPositionShifts{station}\", f\"sensorPositionShifts{station}\", xPads*1300, yPads*1300)\n",
    "canv.Divide(xPads,yPads)\n",
    "\n",
    "hitmapStr = \"{}-physics\".format(station)\n",
    "edge = hitmaps[hitmapStr].detectorEdge * 1000 # Convert to mm for drawing\n",
    "yMin = hitmaps[hitmapStr].yMin * 1000         # Convert to mm for drawing\n",
    "yMax = hitmaps[hitmapStr].yMax * 1000         # Convert to mm for drawing\n",
    "edgeLine = ROOT.TLine(edge,yMin,edge,yMax)\n",
    "edgeLine.SetLineColor(ROOT.kRed)\n",
    "\n",
    "idx = 0\n",
    "sensorLines = {}\n",
    "for offsetX, offsetY in positions:\n",
    "    idx += 1\n",
    "    pad = canv.cd(idx)\n",
    "\n",
    "    pad.SetTicks()\n",
    "    pad.SetLogz()\n",
    "    pad.SetLeftMargin(0.11)\n",
    "    pad.SetRightMargin(0.16)\n",
    "    pad.SetTopMargin(0.07)\n",
    "    pad.SetBottomMargin(0.14)\n",
    "\n",
    "    hitmap_histograms[station][\"physics\"].Draw(\"colz\")\n",
    "    edgeLine.Draw(\"same\")\n",
    "\n",
    "    sensorLines[idx] = {}\n",
    "    sensorLines[idx][\"Left\"]   = ROOT.TLine( sensor.minX + offsetX, sensor.minY + offsetY,\n",
    "                                             sensor.minX + offsetX, sensor.maxY + offsetY)\n",
    "    sensorLines[idx][\"Right\"]  = ROOT.TLine( sensor.maxX + offsetX, sensor.minY + offsetY,\n",
    "                                             sensor.maxX + offsetX, sensor.maxY + offsetY)\n",
    "    sensorLines[idx][\"Top\"]    = ROOT.TLine( sensor.minX + offsetX, sensor.minY + offsetY,\n",
    "                                             sensor.maxX + offsetX, sensor.minY + offsetY)\n",
    "    sensorLines[idx][\"Bottom\"] = ROOT.TLine( sensor.minX + offsetX, sensor.maxY + offsetY,\n",
    "                                             sensor.maxX + offsetX, sensor.maxY + offsetY)\n",
    "    for key in sensorLines[idx]:\n",
    "        sensorLines[idx][key].SetLineColor(ROOT.kRed)\n",
    "\n",
    "    padID = 0\n",
    "    for pad in sensor.padVec:\n",
    "        minX = pad.minX\n",
    "        maxX = pad.maxX\n",
    "        minY = pad.minY\n",
    "        maxY = pad.maxY\n",
    "\n",
    "        sensorLines[idx][f\"pad{padID}_Left\"]   = ROOT.TLine( minX + offsetX, minY + offsetY,\n",
    "                                                             minX + offsetX, maxY + offsetY)\n",
    "        sensorLines[idx][f\"pad{padID}_Right\"]  = ROOT.TLine( maxX + offsetX, minY + offsetY,\n",
    "                                                             maxX + offsetX, maxY + offsetY)\n",
    "        sensorLines[idx][f\"pad{padID}_Top\"]    = ROOT.TLine( minX + offsetX, minY + offsetY,\n",
    "                                                             maxX + offsetX, minY + offsetY)\n",
    "        sensorLines[idx][f\"pad{padID}_Bottom\"] = ROOT.TLine( minX + offsetX, maxY + offsetY,\n",
    "                                                             maxX + offsetX, maxY + offsetY)\n",
    "\n",
    "        sensorLines[idx][f\"pad{padID}_Left\"].SetLineColor(ROOT.kBlue)\n",
    "        sensorLines[idx][f\"pad{padID}_Right\"].SetLineColor(ROOT.kBlue)\n",
    "        sensorLines[idx][f\"pad{padID}_Top\"].SetLineColor(ROOT.kBlue)\n",
    "        sensorLines[idx][f\"pad{padID}_Bottom\"].SetLineColor(ROOT.kBlue)\n",
    "\n",
    "        padID += 1\n",
    "\n",
    "    for key in sensorLines[idx]:\n",
    "        sensorLines[idx][key].Draw(\"same\")\n",
    "\n",
    "canv.Draw()\n"
   ]
  },
  {
   "attachments": {},
   "cell_type": "markdown",
   "metadata": {},
   "source": [
    "#### Station 220"
   ]
  },
  {
   "cell_type": "code",
   "execution_count": null,
   "metadata": {},
   "outputs": [],
   "source": [
    "station = '220'\n",
    "sensor = original_sensor\n",
    "\n",
    "ROOT.gStyle.SetPalette()\n",
    "\n",
    "positions = sensorPositions[station][-1]\n",
    "num_pos = len(positions)\n",
    "\n",
    "if num_pos <= 3:\n",
    "    xPads = num_pos\n",
    "    yPads = 1\n",
    "elif num_pos <= 4:\n",
    "    xPads = 2\n",
    "    yPads = 2\n",
    "elif num_pos <= 9:\n",
    "    xPads = 3\n",
    "    yPads = ceil(num_pos/3)\n",
    "else:\n",
    "    xPads = 4\n",
    "    yPads = ceil(num_pos/4)\n",
    "\n",
    "canv = ROOT.TCanvas(f\"sensorPositionShifts{station}\", f\"sensorPositionShifts{station}\", xPads*1300, yPads*1300)\n",
    "canv.Divide(xPads,yPads)\n",
    "\n",
    "hitmapStr = \"{}-physics\".format(station)\n",
    "edge = hitmaps[hitmapStr].detectorEdge * 1000 # Convert to mm for drawing\n",
    "yMin = hitmaps[hitmapStr].yMin * 1000         # Convert to mm for drawing\n",
    "yMax = hitmaps[hitmapStr].yMax * 1000         # Convert to mm for drawing\n",
    "edgeLine = ROOT.TLine(edge,yMin,edge,yMax)\n",
    "edgeLine.SetLineColor(ROOT.kRed)\n",
    "\n",
    "idx = 0\n",
    "sensorLines = {}\n",
    "for offsetX, offsetY in positions:\n",
    "    idx += 1\n",
    "    pad = canv.cd(idx)\n",
    "\n",
    "    pad.SetTicks()\n",
    "    pad.SetLogz()\n",
    "    pad.SetLeftMargin(0.11)\n",
    "    pad.SetRightMargin(0.16)\n",
    "    pad.SetTopMargin(0.07)\n",
    "    pad.SetBottomMargin(0.14)\n",
    "\n",
    "    hitmap_histograms[station][\"physics\"].Draw(\"colz\")\n",
    "    edgeLine.Draw(\"same\")\n",
    "\n",
    "    sensorLines[idx] = {}\n",
    "    sensorLines[idx][\"Left\"]   = ROOT.TLine( sensor.minX + offsetX, sensor.minY + offsetY,\n",
    "                                             sensor.minX + offsetX, sensor.maxY + offsetY)\n",
    "    sensorLines[idx][\"Right\"]  = ROOT.TLine( sensor.maxX + offsetX, sensor.minY + offsetY,\n",
    "                                             sensor.maxX + offsetX, sensor.maxY + offsetY)\n",
    "    sensorLines[idx][\"Top\"]    = ROOT.TLine( sensor.minX + offsetX, sensor.minY + offsetY,\n",
    "                                             sensor.maxX + offsetX, sensor.minY + offsetY)\n",
    "    sensorLines[idx][\"Bottom\"] = ROOT.TLine( sensor.minX + offsetX, sensor.maxY + offsetY,\n",
    "                                             sensor.maxX + offsetX, sensor.maxY + offsetY)\n",
    "    for key in sensorLines[idx]:\n",
    "        sensorLines[idx][key].SetLineColor(ROOT.kRed)\n",
    "\n",
    "    padID = 0\n",
    "    for pad in sensor.padVec:\n",
    "        minX = pad.minX\n",
    "        maxX = pad.maxX\n",
    "        minY = pad.minY\n",
    "        maxY = pad.maxY\n",
    "\n",
    "        sensorLines[idx][f\"pad{padID}_Left\"]   = ROOT.TLine( minX + offsetX, minY + offsetY,\n",
    "                                                             minX + offsetX, maxY + offsetY)\n",
    "        sensorLines[idx][f\"pad{padID}_Right\"]  = ROOT.TLine( maxX + offsetX, minY + offsetY,\n",
    "                                                             maxX + offsetX, maxY + offsetY)\n",
    "        sensorLines[idx][f\"pad{padID}_Top\"]    = ROOT.TLine( minX + offsetX, minY + offsetY,\n",
    "                                                             maxX + offsetX, minY + offsetY)\n",
    "        sensorLines[idx][f\"pad{padID}_Bottom\"] = ROOT.TLine( minX + offsetX, maxY + offsetY,\n",
    "                                                             maxX + offsetX, maxY + offsetY)\n",
    "\n",
    "        sensorLines[idx][f\"pad{padID}_Left\"].SetLineColor(ROOT.kBlue)\n",
    "        sensorLines[idx][f\"pad{padID}_Right\"].SetLineColor(ROOT.kBlue)\n",
    "        sensorLines[idx][f\"pad{padID}_Top\"].SetLineColor(ROOT.kBlue)\n",
    "        sensorLines[idx][f\"pad{padID}_Bottom\"].SetLineColor(ROOT.kBlue)\n",
    "\n",
    "        padID += 1\n",
    "\n",
    "    for key in sensorLines[idx]:\n",
    "        sensorLines[idx][key].Draw(\"same\")\n",
    "\n",
    "canv.Draw()\n"
   ]
  },
  {
   "attachments": {},
   "cell_type": "markdown",
   "metadata": {},
   "source": [
    "#### Station 234"
   ]
  },
  {
   "cell_type": "code",
   "execution_count": null,
   "metadata": {},
   "outputs": [],
   "source": [
    "station = '234'\n",
    "sensor = original_sensor\n",
    "\n",
    "ROOT.gStyle.SetPalette()\n",
    "\n",
    "positions = sensorPositions[station][-1]\n",
    "num_pos = len(positions)\n",
    "\n",
    "if num_pos <= 3:\n",
    "    xPads = num_pos\n",
    "    yPads = 1\n",
    "elif num_pos <= 4:\n",
    "    xPads = 2\n",
    "    yPads = 2\n",
    "elif num_pos <= 9:\n",
    "    xPads = 3\n",
    "    yPads = ceil(num_pos/3)\n",
    "else:\n",
    "    xPads = 4\n",
    "    yPads = ceil(num_pos/4)\n",
    "\n",
    "canv = ROOT.TCanvas(f\"sensorPositionShifts{station}\", f\"sensorPositionShifts{station}\", xPads*1300, yPads*1300)\n",
    "canv.Divide(xPads,yPads)\n",
    "\n",
    "hitmapStr = \"{}-physics\".format(station)\n",
    "edge = hitmaps[hitmapStr].detectorEdge * 1000 # Convert to mm for drawing\n",
    "yMin = hitmaps[hitmapStr].yMin * 1000         # Convert to mm for drawing\n",
    "yMax = hitmaps[hitmapStr].yMax * 1000         # Convert to mm for drawing\n",
    "edgeLine = ROOT.TLine(edge,yMin,edge,yMax)\n",
    "edgeLine.SetLineColor(ROOT.kRed)\n",
    "\n",
    "idx = 0\n",
    "sensorLines = {}\n",
    "for offsetX, offsetY in positions:\n",
    "    idx += 1\n",
    "    pad = canv.cd(idx)\n",
    "\n",
    "    pad.SetTicks()\n",
    "    pad.SetLogz()\n",
    "    pad.SetLeftMargin(0.11)\n",
    "    pad.SetRightMargin(0.16)\n",
    "    pad.SetTopMargin(0.07)\n",
    "    pad.SetBottomMargin(0.14)\n",
    "\n",
    "    hitmap_histograms[station][\"physics\"].Draw(\"colz\")\n",
    "    edgeLine.Draw(\"same\")\n",
    "\n",
    "    sensorLines[idx] = {}\n",
    "    sensorLines[idx][\"Left\"]   = ROOT.TLine( sensor.minX + offsetX, sensor.minY + offsetY,\n",
    "                                             sensor.minX + offsetX, sensor.maxY + offsetY)\n",
    "    sensorLines[idx][\"Right\"]  = ROOT.TLine( sensor.maxX + offsetX, sensor.minY + offsetY,\n",
    "                                             sensor.maxX + offsetX, sensor.maxY + offsetY)\n",
    "    sensorLines[idx][\"Top\"]    = ROOT.TLine( sensor.minX + offsetX, sensor.minY + offsetY,\n",
    "                                             sensor.maxX + offsetX, sensor.minY + offsetY)\n",
    "    sensorLines[idx][\"Bottom\"] = ROOT.TLine( sensor.minX + offsetX, sensor.maxY + offsetY,\n",
    "                                             sensor.maxX + offsetX, sensor.maxY + offsetY)\n",
    "    for key in sensorLines[idx]:\n",
    "        sensorLines[idx][key].SetLineColor(ROOT.kRed)\n",
    "\n",
    "    padID = 0\n",
    "    for pad in sensor.padVec:\n",
    "        minX = pad.minX\n",
    "        maxX = pad.maxX\n",
    "        minY = pad.minY\n",
    "        maxY = pad.maxY\n",
    "\n",
    "        sensorLines[idx][f\"pad{padID}_Left\"]   = ROOT.TLine( minX + offsetX, minY + offsetY,\n",
    "                                                             minX + offsetX, maxY + offsetY)\n",
    "        sensorLines[idx][f\"pad{padID}_Right\"]  = ROOT.TLine( maxX + offsetX, minY + offsetY,\n",
    "                                                             maxX + offsetX, maxY + offsetY)\n",
    "        sensorLines[idx][f\"pad{padID}_Top\"]    = ROOT.TLine( minX + offsetX, minY + offsetY,\n",
    "                                                             maxX + offsetX, minY + offsetY)\n",
    "        sensorLines[idx][f\"pad{padID}_Bottom\"] = ROOT.TLine( minX + offsetX, maxY + offsetY,\n",
    "                                                             maxX + offsetX, maxY + offsetY)\n",
    "\n",
    "        sensorLines[idx][f\"pad{padID}_Left\"].SetLineColor(ROOT.kBlue)\n",
    "        sensorLines[idx][f\"pad{padID}_Right\"].SetLineColor(ROOT.kBlue)\n",
    "        sensorLines[idx][f\"pad{padID}_Top\"].SetLineColor(ROOT.kBlue)\n",
    "        sensorLines[idx][f\"pad{padID}_Bottom\"].SetLineColor(ROOT.kBlue)\n",
    "\n",
    "        padID += 1\n",
    "\n",
    "    for key in sensorLines[idx]:\n",
    "        sensorLines[idx][key].Draw(\"same\")\n",
    "\n",
    "canv.Draw()\n"
   ]
  },
  {
   "attachments": {},
   "cell_type": "markdown",
   "metadata": {},
   "source": [
    "#### Station 420"
   ]
  },
  {
   "cell_type": "code",
   "execution_count": null,
   "metadata": {},
   "outputs": [],
   "source": [
    "station = '420'\n",
    "sensor = original_sensor\n",
    "\n",
    "ROOT.gStyle.SetPalette()\n",
    "\n",
    "positions = sensorPositions[station][-1]\n",
    "num_pos = len(positions)\n",
    "\n",
    "if num_pos <= 3:\n",
    "    xPads = num_pos\n",
    "    yPads = 1\n",
    "elif num_pos <= 4:\n",
    "    xPads = 2\n",
    "    yPads = 2\n",
    "elif num_pos <= 9:\n",
    "    xPads = 3\n",
    "    yPads = ceil(num_pos/3)\n",
    "else:\n",
    "    xPads = 4\n",
    "    yPads = ceil(num_pos/4)\n",
    "\n",
    "canv = ROOT.TCanvas(f\"sensorPositionShifts{station}\", f\"sensorPositionShifts{station}\", xPads*1300, yPads*1300)\n",
    "canv.Divide(xPads,yPads)\n",
    "\n",
    "hitmapStr = \"{}-physics\".format(station)\n",
    "edge = hitmaps[hitmapStr].detectorEdge * 1000 # Convert to mm for drawing\n",
    "yMin = hitmaps[hitmapStr].yMin * 1000         # Convert to mm for drawing\n",
    "yMax = hitmaps[hitmapStr].yMax * 1000         # Convert to mm for drawing\n",
    "edgeLine = ROOT.TLine(edge,yMin,edge,yMax)\n",
    "edgeLine.SetLineColor(ROOT.kRed)\n",
    "\n",
    "idx = 0\n",
    "sensorLines = {}\n",
    "for offsetX, offsetY in positions:\n",
    "    idx += 1\n",
    "    pad = canv.cd(idx)\n",
    "\n",
    "    pad.SetTicks()\n",
    "    pad.SetLogz()\n",
    "    pad.SetLeftMargin(0.11)\n",
    "    pad.SetRightMargin(0.16)\n",
    "    pad.SetTopMargin(0.07)\n",
    "    pad.SetBottomMargin(0.14)\n",
    "\n",
    "    hitmap_histograms[station][\"physics\"].Draw(\"colz\")\n",
    "    edgeLine.Draw(\"same\")\n",
    "\n",
    "    sensorLines[idx] = {}\n",
    "    sensorLines[idx][\"Left\"]   = ROOT.TLine( sensor.minX + offsetX, sensor.minY + offsetY,\n",
    "                                             sensor.minX + offsetX, sensor.maxY + offsetY)\n",
    "    sensorLines[idx][\"Right\"]  = ROOT.TLine( sensor.maxX + offsetX, sensor.minY + offsetY,\n",
    "                                             sensor.maxX + offsetX, sensor.maxY + offsetY)\n",
    "    sensorLines[idx][\"Top\"]    = ROOT.TLine( sensor.minX + offsetX, sensor.minY + offsetY,\n",
    "                                             sensor.maxX + offsetX, sensor.minY + offsetY)\n",
    "    sensorLines[idx][\"Bottom\"] = ROOT.TLine( sensor.minX + offsetX, sensor.maxY + offsetY,\n",
    "                                             sensor.maxX + offsetX, sensor.maxY + offsetY)\n",
    "    for key in sensorLines[idx]:\n",
    "        sensorLines[idx][key].SetLineColor(ROOT.kRed)\n",
    "\n",
    "    padID = 0\n",
    "    for pad in sensor.padVec:\n",
    "        minX = pad.minX\n",
    "        maxX = pad.maxX\n",
    "        minY = pad.minY\n",
    "        maxY = pad.maxY\n",
    "\n",
    "        sensorLines[idx][f\"pad{padID}_Left\"]   = ROOT.TLine( minX + offsetX, minY + offsetY,\n",
    "                                                             minX + offsetX, maxY + offsetY)\n",
    "        sensorLines[idx][f\"pad{padID}_Right\"]  = ROOT.TLine( maxX + offsetX, minY + offsetY,\n",
    "                                                             maxX + offsetX, maxY + offsetY)\n",
    "        sensorLines[idx][f\"pad{padID}_Top\"]    = ROOT.TLine( minX + offsetX, minY + offsetY,\n",
    "                                                             maxX + offsetX, minY + offsetY)\n",
    "        sensorLines[idx][f\"pad{padID}_Bottom\"] = ROOT.TLine( minX + offsetX, maxY + offsetY,\n",
    "                                                             maxX + offsetX, maxY + offsetY)\n",
    "\n",
    "        sensorLines[idx][f\"pad{padID}_Left\"].SetLineColor(ROOT.kBlue)\n",
    "        sensorLines[idx][f\"pad{padID}_Right\"].SetLineColor(ROOT.kBlue)\n",
    "        sensorLines[idx][f\"pad{padID}_Top\"].SetLineColor(ROOT.kBlue)\n",
    "        sensorLines[idx][f\"pad{padID}_Bottom\"].SetLineColor(ROOT.kBlue)\n",
    "\n",
    "        padID += 1\n",
    "\n",
    "    for key in sensorLines[idx]:\n",
    "        sensorLines[idx][key].Draw(\"same\")\n",
    "\n",
    "canv.Draw()\n"
   ]
  },
  {
   "attachments": {},
   "cell_type": "markdown",
   "metadata": {},
   "source": [
    "## Sensor Maximum Occupancy and Loss Probability"
   ]
  },
  {
   "cell_type": "code",
   "execution_count": null,
   "metadata": {},
   "outputs": [],
   "source": [
    "sensors = {\n",
    "    \"ETL\": original_sensor,\n",
    "    \"ETL_TI\": original_sensor_ti,\n",
    "    \"Hybrid\": hybrid_sensor_ti,\n",
    "    \"Rect\": new_sensor1_ti,\n",
    "    \"RectFull\": new_sensor2_ti,\n",
    "}"
   ]
  },
  {
   "attachments": {},
   "cell_type": "markdown",
   "metadata": {},
   "source": [
    "### Station 196"
   ]
  },
  {
   "cell_type": "code",
   "execution_count": null,
   "metadata": {},
   "outputs": [],
   "source": [
    "station = '196'\n",
    "\n",
    "center_position_x, center_position_y = sensorPositions[station][0][0]\n",
    "\n",
    "coverage_shifts = 4\n",
    "coverage_shift_step = 1.3/4\n",
    "coverage_positions = []\n",
    "for step in range(coverage_shifts):\n",
    "    coverage_positions += [(center_position_x, center_position_y + step*coverage_shift_step)]\n",
    "\n",
    "hitmap      = hitmaps[\"{}-physics\".format(station)]\n",
    "hitmap_bckg = hitmaps[\"{}-physics-background\".format(station)]\n",
    "\n",
    "for sensor_name in sensors:\n",
    "    sensor = sensors[sensor_name]\n",
    "    table_data = []\n",
    "    rows = []\n",
    "    cols = [\"Dose\", \"Occ\", \"Loss p\", \"Pad\", \"Dose w/ Bckg\", \"Occ w/ Bckg\", \"Loss p w/ Bckg\", \"Pad w/ Bckg\"]\n",
    "    for step in range(coverage_shifts):\n",
    "        current_position = [(center_position_x, center_position_y + step*coverage_shift_step)]\n",
    "        sensor.setShifts(current_position)\n",
    "\n",
    "        # Calculations without Background\n",
    "        sensor.calculateFlux(hitmap)\n",
    "        dose      = sensor.maxDoseEOL(integratedLuminosity=1, usePadSpacing=False)\n",
    "        occupancies, pads = sensor.findMaxOccupancy()\n",
    "        occupancy = occupancies[0]\n",
    "        pad = pads[0]\n",
    "        loss_prob = pps_hitmaps.calcEventLossProb(0, occupancy)\n",
    "\n",
    "        # Calculations with Background\n",
    "        sensor.calculateFlux(hitmap_bckg)\n",
    "        dose_bckg      = sensor.maxDoseEOL(integratedLuminosity=1, usePadSpacing=False)\n",
    "        occupancies_bckg, pads_bckg = sensor.findMaxOccupancy()\n",
    "        occupancy_bckg = occupancies_bckg[0]\n",
    "        pad_bckg = pads_bckg[0]\n",
    "        loss_prob_bckg = pps_hitmaps.calcEventLossProb(0, occupancy_bckg)\n",
    "\n",
    "        rows += [f\"Offset {step}\"]\n",
    "        table_data += [[dose, occupancy, loss_prob, pad, dose_bckg, occupancy_bckg, loss_prob_bckg, pad_bckg]]\n",
    "\n",
    "    df = pandas.DataFrame(table_data, columns = cols, index=rows)\n",
    "    print(f\"Sensor {sensor_name}:\")\n",
    "    print(df)\n",
    "    print()"
   ]
  },
  {
   "attachments": {},
   "cell_type": "markdown",
   "metadata": {},
   "source": [
    "#### ETL Sensor"
   ]
  },
  {
   "cell_type": "code",
   "execution_count": null,
   "metadata": {},
   "outputs": [],
   "source": [
    "sensor = sensors[\"ETL\"]\n",
    "\n",
    "sensor.setShifts(coverage_positions)\n",
    "sensor.calculateFlux(hitmap)"
   ]
  },
  {
   "cell_type": "code",
   "execution_count": null,
   "metadata": {},
   "outputs": [],
   "source": [
    "canv, persistance = sensor.plotSensorQuantity(\"flux\")\n",
    "canv.Draw()"
   ]
  },
  {
   "cell_type": "code",
   "execution_count": null,
   "metadata": {},
   "outputs": [],
   "source": [
    "canv, persistance = sensor.plotSensorQuantity(\"occupancy\")\n",
    "canv.Draw()"
   ]
  },
  {
   "cell_type": "code",
   "execution_count": null,
   "metadata": {},
   "outputs": [],
   "source": [
    "sensor.calculateFlux(hitmap_bckg)"
   ]
  },
  {
   "cell_type": "code",
   "execution_count": null,
   "metadata": {},
   "outputs": [],
   "source": [
    "canv, persistance = sensor.plotSensorQuantity(\"flux\")\n",
    "canv.Draw()"
   ]
  },
  {
   "cell_type": "code",
   "execution_count": null,
   "metadata": {},
   "outputs": [],
   "source": [
    "canv, persistance = sensor.plotSensorQuantity(\"occupancy\")\n",
    "canv.Draw()"
   ]
  },
  {
   "cell_type": "code",
   "execution_count": null,
   "metadata": {},
   "outputs": [],
   "source": [
    "canv, persistance = sensor.plotSensorQuantity(\"loss_probability\")\n",
    "canv.Draw()"
   ]
  },
  {
   "attachments": {},
   "cell_type": "markdown",
   "metadata": {},
   "source": [
    "#### Trench Isolated ETL Sensor"
   ]
  },
  {
   "cell_type": "code",
   "execution_count": null,
   "metadata": {},
   "outputs": [],
   "source": [
    "sensor = sensors[\"ETL_TI\"]\n",
    "\n",
    "sensor.setShifts(coverage_positions)\n",
    "sensor.calculateFlux(hitmap)"
   ]
  },
  {
   "cell_type": "code",
   "execution_count": null,
   "metadata": {},
   "outputs": [],
   "source": [
    "canv, persistance = sensor.plotSensorQuantity(\"flux\")\n",
    "canv.Draw()"
   ]
  },
  {
   "cell_type": "code",
   "execution_count": null,
   "metadata": {},
   "outputs": [],
   "source": [
    "canv, persistance = sensor.plotSensorQuantity(\"occupancy\")\n",
    "canv.Draw()"
   ]
  },
  {
   "cell_type": "code",
   "execution_count": null,
   "metadata": {},
   "outputs": [],
   "source": [
    "sensor.calculateFlux(hitmap_bckg)"
   ]
  },
  {
   "cell_type": "code",
   "execution_count": null,
   "metadata": {},
   "outputs": [],
   "source": [
    "canv, persistance = sensor.plotSensorQuantity(\"flux\")\n",
    "canv.Draw()"
   ]
  },
  {
   "cell_type": "code",
   "execution_count": null,
   "metadata": {},
   "outputs": [],
   "source": [
    "canv, persistance = sensor.plotSensorQuantity(\"occupancy\")\n",
    "canv.Draw()"
   ]
  },
  {
   "cell_type": "code",
   "execution_count": null,
   "metadata": {},
   "outputs": [],
   "source": [
    "canv, persistance = sensor.plotSensorQuantity(\"loss_probability\")\n",
    "canv.Draw()"
   ]
  },
  {
   "attachments": {},
   "cell_type": "markdown",
   "metadata": {},
   "source": [
    "#### Hybrid Sensor"
   ]
  },
  {
   "cell_type": "code",
   "execution_count": null,
   "metadata": {},
   "outputs": [],
   "source": [
    "sensor = sensors[\"Hybrid\"]\n",
    "\n",
    "sensor.setShifts(coverage_positions)\n",
    "sensor.calculateFlux(hitmap)"
   ]
  },
  {
   "cell_type": "code",
   "execution_count": null,
   "metadata": {},
   "outputs": [],
   "source": [
    "canv, persistance = sensor.plotSensorQuantity(\"flux\")\n",
    "canv.Draw()"
   ]
  },
  {
   "cell_type": "code",
   "execution_count": null,
   "metadata": {},
   "outputs": [],
   "source": [
    "canv, persistance = sensor.plotSensorQuantity(\"occupancy\")\n",
    "canv.Draw()"
   ]
  },
  {
   "cell_type": "code",
   "execution_count": null,
   "metadata": {},
   "outputs": [],
   "source": [
    "sensor.calculateFlux(hitmap_bckg)"
   ]
  },
  {
   "cell_type": "code",
   "execution_count": null,
   "metadata": {},
   "outputs": [],
   "source": [
    "canv, persistance = sensor.plotSensorQuantity(\"flux\")\n",
    "canv.Draw()"
   ]
  },
  {
   "cell_type": "code",
   "execution_count": null,
   "metadata": {},
   "outputs": [],
   "source": [
    "canv, persistance = sensor.plotSensorQuantity(\"occupancy\")\n",
    "canv.Draw()"
   ]
  },
  {
   "cell_type": "code",
   "execution_count": null,
   "metadata": {},
   "outputs": [],
   "source": [
    "canv, persistance = sensor.plotSensorQuantity(\"loss_probability\")\n",
    "canv.Draw()"
   ]
  },
  {
   "attachments": {},
   "cell_type": "markdown",
   "metadata": {},
   "source": [
    "#### Rectangular Sensor"
   ]
  },
  {
   "cell_type": "code",
   "execution_count": null,
   "metadata": {},
   "outputs": [],
   "source": [
    "sensor = sensors[\"Rect\"]\n",
    "\n",
    "sensor.setShifts(coverage_positions)\n",
    "sensor.calculateFlux(hitmap)"
   ]
  },
  {
   "cell_type": "code",
   "execution_count": null,
   "metadata": {},
   "outputs": [],
   "source": [
    "canv, persistance = sensor.plotSensorQuantity(\"flux\")\n",
    "canv.Draw()"
   ]
  },
  {
   "cell_type": "code",
   "execution_count": null,
   "metadata": {},
   "outputs": [],
   "source": [
    "canv, persistance = sensor.plotSensorQuantity(\"occupancy\")\n",
    "canv.Draw()"
   ]
  },
  {
   "cell_type": "code",
   "execution_count": null,
   "metadata": {},
   "outputs": [],
   "source": [
    "sensor.calculateFlux(hitmap_bckg)"
   ]
  },
  {
   "cell_type": "code",
   "execution_count": null,
   "metadata": {},
   "outputs": [],
   "source": [
    "canv, persistance = sensor.plotSensorQuantity(\"flux\")\n",
    "canv.Draw()"
   ]
  },
  {
   "cell_type": "code",
   "execution_count": null,
   "metadata": {},
   "outputs": [],
   "source": [
    "canv, persistance = sensor.plotSensorQuantity(\"occupancy\")\n",
    "canv.Draw()"
   ]
  },
  {
   "cell_type": "code",
   "execution_count": null,
   "metadata": {},
   "outputs": [],
   "source": [
    "canv, persistance = sensor.plotSensorQuantity(\"loss_probability\")\n",
    "canv.Draw()"
   ]
  },
  {
   "attachments": {},
   "cell_type": "markdown",
   "metadata": {},
   "source": [
    "#### Full Rectangular Sensor"
   ]
  },
  {
   "cell_type": "code",
   "execution_count": null,
   "metadata": {},
   "outputs": [],
   "source": [
    "sensor = sensors[\"RectFull\"]\n",
    "\n",
    "sensor.setShifts(coverage_positions)\n",
    "sensor.calculateFlux(hitmap)"
   ]
  },
  {
   "cell_type": "code",
   "execution_count": null,
   "metadata": {},
   "outputs": [],
   "source": [
    "canv, persistance = sensor.plotSensorQuantity(\"flux\")\n",
    "canv.Draw()"
   ]
  },
  {
   "cell_type": "code",
   "execution_count": null,
   "metadata": {},
   "outputs": [],
   "source": [
    "canv, persistance = sensor.plotSensorQuantity(\"occupancy\")\n",
    "canv.Draw()"
   ]
  },
  {
   "cell_type": "code",
   "execution_count": null,
   "metadata": {},
   "outputs": [],
   "source": [
    "sensor.calculateFlux(hitmap_bckg)"
   ]
  },
  {
   "cell_type": "code",
   "execution_count": null,
   "metadata": {},
   "outputs": [],
   "source": [
    "canv, persistance = sensor.plotSensorQuantity(\"flux\")\n",
    "canv.Draw()"
   ]
  },
  {
   "cell_type": "code",
   "execution_count": null,
   "metadata": {},
   "outputs": [],
   "source": [
    "canv, persistance = sensor.plotSensorQuantity(\"occupancy\")\n",
    "canv.Draw()"
   ]
  },
  {
   "cell_type": "code",
   "execution_count": null,
   "metadata": {},
   "outputs": [],
   "source": [
    "canv, persistance = sensor.plotSensorQuantity(\"loss_probability\")\n",
    "canv.Draw()"
   ]
  },
  {
   "attachments": {},
   "cell_type": "markdown",
   "metadata": {},
   "source": [
    "### Station 220"
   ]
  },
  {
   "cell_type": "code",
   "execution_count": null,
   "metadata": {},
   "outputs": [],
   "source": [
    "station = '220'\n",
    "\n",
    "center_position_x, center_position_y = sensorPositions[station][0][0]\n",
    "\n",
    "coverage_shifts = 4\n",
    "coverage_shift_step = 1.3/4\n",
    "coverage_positions = []\n",
    "for step in range(coverage_shifts):\n",
    "    coverage_positions += [(center_position_x, center_position_y + step*coverage_shift_step)]\n",
    "\n",
    "hitmap      = hitmaps[\"{}-physics\".format(station)]\n",
    "hitmap_bckg = hitmaps[\"{}-physics-background\".format(station)]\n",
    "\n",
    "for sensor_name in sensors:\n",
    "    sensor = sensors[sensor_name]\n",
    "    table_data = []\n",
    "    rows = []\n",
    "    cols = [\"Dose\", \"Occ\", \"Loss p\", \"Pad\", \"Dose w/ Bckg\", \"Occ w/ Bckg\", \"Loss p w/ Bckg\", \"Pad w/ Bckg\"]\n",
    "    for step in range(coverage_shifts):\n",
    "        current_position = [(center_position_x, center_position_y + step*coverage_shift_step)]\n",
    "        sensor.setShifts(current_position)\n",
    "\n",
    "        # Calculations without Background\n",
    "        sensor.calculateFlux(hitmap)\n",
    "        dose      = sensor.maxDoseEOL(integratedLuminosity=1, usePadSpacing=False)\n",
    "        occupancies, pads = sensor.findMaxOccupancy()\n",
    "        occupancy = occupancies[0]\n",
    "        pad = pads[0]\n",
    "        loss_prob = pps_hitmaps.calcEventLossProb(0, occupancy)\n",
    "\n",
    "        # Calculations with Background\n",
    "        sensor.calculateFlux(hitmap_bckg)\n",
    "        dose_bckg      = sensor.maxDoseEOL(integratedLuminosity=1, usePadSpacing=False)\n",
    "        occupancies_bckg, pads_bckg = sensor.findMaxOccupancy()\n",
    "        occupancy_bckg = occupancies_bckg[0]\n",
    "        pad_bckg = pads_bckg[0]\n",
    "        loss_prob_bckg = pps_hitmaps.calcEventLossProb(0, occupancy_bckg)\n",
    "\n",
    "        rows += [f\"Offset {step}\"]\n",
    "        table_data += [[dose, occupancy, loss_prob, pad, dose_bckg, occupancy_bckg, loss_prob_bckg, pad_bckg]]\n",
    "\n",
    "    df = pandas.DataFrame(table_data, columns = cols, index=rows)\n",
    "    print(f\"Sensor {sensor_name}:\")\n",
    "    print(df)\n",
    "    print()"
   ]
  },
  {
   "attachments": {},
   "cell_type": "markdown",
   "metadata": {},
   "source": [
    "#### ETL Sensor"
   ]
  },
  {
   "cell_type": "code",
   "execution_count": null,
   "metadata": {},
   "outputs": [],
   "source": [
    "sensor = sensors[\"ETL\"]\n",
    "\n",
    "sensor.setShifts(coverage_positions)\n",
    "sensor.calculateFlux(hitmap)"
   ]
  },
  {
   "cell_type": "code",
   "execution_count": null,
   "metadata": {},
   "outputs": [],
   "source": [
    "canv, persistance = sensor.plotSensorQuantity(\"flux\")\n",
    "canv.Draw()"
   ]
  },
  {
   "cell_type": "code",
   "execution_count": null,
   "metadata": {},
   "outputs": [],
   "source": [
    "canv, persistance = sensor.plotSensorQuantity(\"occupancy\")\n",
    "canv.Draw()"
   ]
  },
  {
   "cell_type": "code",
   "execution_count": null,
   "metadata": {},
   "outputs": [],
   "source": [
    "sensor.calculateFlux(hitmap_bckg)"
   ]
  },
  {
   "cell_type": "code",
   "execution_count": null,
   "metadata": {},
   "outputs": [],
   "source": [
    "canv, persistance = sensor.plotSensorQuantity(\"flux\")\n",
    "canv.Draw()"
   ]
  },
  {
   "cell_type": "code",
   "execution_count": null,
   "metadata": {},
   "outputs": [],
   "source": [
    "canv, persistance = sensor.plotSensorQuantity(\"occupancy\")\n",
    "canv.Draw()"
   ]
  },
  {
   "cell_type": "code",
   "execution_count": null,
   "metadata": {},
   "outputs": [],
   "source": [
    "canv, persistance = sensor.plotSensorQuantity(\"loss_probability\")\n",
    "canv.Draw()"
   ]
  },
  {
   "attachments": {},
   "cell_type": "markdown",
   "metadata": {},
   "source": [
    "#### Trench Isolated ETL Sensor"
   ]
  },
  {
   "cell_type": "code",
   "execution_count": null,
   "metadata": {},
   "outputs": [],
   "source": [
    "sensor = sensors[\"ETL_TI\"]\n",
    "\n",
    "sensor.setShifts(coverage_positions)\n",
    "sensor.calculateFlux(hitmap)"
   ]
  },
  {
   "cell_type": "code",
   "execution_count": null,
   "metadata": {},
   "outputs": [],
   "source": [
    "canv, persistance = sensor.plotSensorQuantity(\"flux\")\n",
    "canv.Draw()"
   ]
  },
  {
   "cell_type": "code",
   "execution_count": null,
   "metadata": {},
   "outputs": [],
   "source": [
    "canv, persistance = sensor.plotSensorQuantity(\"occupancy\")\n",
    "canv.Draw()"
   ]
  },
  {
   "cell_type": "code",
   "execution_count": null,
   "metadata": {},
   "outputs": [],
   "source": [
    "sensor.calculateFlux(hitmap_bckg)"
   ]
  },
  {
   "cell_type": "code",
   "execution_count": null,
   "metadata": {},
   "outputs": [],
   "source": [
    "canv, persistance = sensor.plotSensorQuantity(\"flux\")\n",
    "canv.Draw()"
   ]
  },
  {
   "cell_type": "code",
   "execution_count": null,
   "metadata": {},
   "outputs": [],
   "source": [
    "canv, persistance = sensor.plotSensorQuantity(\"occupancy\")\n",
    "canv.Draw()"
   ]
  },
  {
   "cell_type": "code",
   "execution_count": null,
   "metadata": {},
   "outputs": [],
   "source": [
    "canv, persistance = sensor.plotSensorQuantity(\"loss_probability\")\n",
    "canv.Draw()"
   ]
  },
  {
   "attachments": {},
   "cell_type": "markdown",
   "metadata": {},
   "source": [
    "#### Hybrid Sensor"
   ]
  },
  {
   "cell_type": "code",
   "execution_count": null,
   "metadata": {},
   "outputs": [],
   "source": [
    "sensor = sensors[\"Hybrid\"]\n",
    "\n",
    "sensor.setShifts(coverage_positions)\n",
    "sensor.calculateFlux(hitmap)"
   ]
  },
  {
   "cell_type": "code",
   "execution_count": null,
   "metadata": {},
   "outputs": [],
   "source": [
    "canv, persistance = sensor.plotSensorQuantity(\"flux\")\n",
    "canv.Draw()"
   ]
  },
  {
   "cell_type": "code",
   "execution_count": null,
   "metadata": {},
   "outputs": [],
   "source": [
    "canv, persistance = sensor.plotSensorQuantity(\"occupancy\")\n",
    "canv.Draw()"
   ]
  },
  {
   "cell_type": "code",
   "execution_count": null,
   "metadata": {},
   "outputs": [],
   "source": [
    "sensor.calculateFlux(hitmap_bckg)"
   ]
  },
  {
   "cell_type": "code",
   "execution_count": null,
   "metadata": {},
   "outputs": [],
   "source": [
    "canv, persistance = sensor.plotSensorQuantity(\"flux\")\n",
    "canv.Draw()"
   ]
  },
  {
   "cell_type": "code",
   "execution_count": null,
   "metadata": {},
   "outputs": [],
   "source": [
    "canv, persistance = sensor.plotSensorQuantity(\"occupancy\")\n",
    "canv.Draw()"
   ]
  },
  {
   "cell_type": "code",
   "execution_count": null,
   "metadata": {},
   "outputs": [],
   "source": [
    "canv, persistance = sensor.plotSensorQuantity(\"loss_probability\")\n",
    "canv.Draw()"
   ]
  },
  {
   "attachments": {},
   "cell_type": "markdown",
   "metadata": {},
   "source": [
    "#### Rectangular Sensor"
   ]
  },
  {
   "cell_type": "code",
   "execution_count": null,
   "metadata": {},
   "outputs": [],
   "source": [
    "sensor = sensors[\"Rect\"]\n",
    "\n",
    "sensor.setShifts(coverage_positions)\n",
    "sensor.calculateFlux(hitmap)"
   ]
  },
  {
   "cell_type": "code",
   "execution_count": null,
   "metadata": {},
   "outputs": [],
   "source": [
    "canv, persistance = sensor.plotSensorQuantity(\"flux\")\n",
    "canv.Draw()"
   ]
  },
  {
   "cell_type": "code",
   "execution_count": null,
   "metadata": {},
   "outputs": [],
   "source": [
    "canv, persistance = sensor.plotSensorQuantity(\"occupancy\")\n",
    "canv.Draw()"
   ]
  },
  {
   "cell_type": "code",
   "execution_count": null,
   "metadata": {},
   "outputs": [],
   "source": [
    "sensor.calculateFlux(hitmap_bckg)"
   ]
  },
  {
   "cell_type": "code",
   "execution_count": null,
   "metadata": {},
   "outputs": [],
   "source": [
    "canv, persistance = sensor.plotSensorQuantity(\"flux\")\n",
    "canv.Draw()"
   ]
  },
  {
   "cell_type": "code",
   "execution_count": null,
   "metadata": {},
   "outputs": [],
   "source": [
    "canv, persistance = sensor.plotSensorQuantity(\"occupancy\")\n",
    "canv.Draw()"
   ]
  },
  {
   "cell_type": "code",
   "execution_count": null,
   "metadata": {},
   "outputs": [],
   "source": [
    "canv, persistance = sensor.plotSensorQuantity(\"loss_probability\")\n",
    "canv.Draw()"
   ]
  },
  {
   "attachments": {},
   "cell_type": "markdown",
   "metadata": {},
   "source": [
    "#### Full Rectangular Sensor"
   ]
  },
  {
   "cell_type": "code",
   "execution_count": null,
   "metadata": {},
   "outputs": [],
   "source": [
    "sensor = sensors[\"RectFull\"]\n",
    "\n",
    "sensor.setShifts(coverage_positions)\n",
    "sensor.calculateFlux(hitmap)"
   ]
  },
  {
   "cell_type": "code",
   "execution_count": null,
   "metadata": {},
   "outputs": [],
   "source": [
    "canv, persistance = sensor.plotSensorQuantity(\"flux\")\n",
    "canv.Draw()"
   ]
  },
  {
   "cell_type": "code",
   "execution_count": null,
   "metadata": {},
   "outputs": [],
   "source": [
    "canv, persistance = sensor.plotSensorQuantity(\"occupancy\")\n",
    "canv.Draw()"
   ]
  },
  {
   "cell_type": "code",
   "execution_count": null,
   "metadata": {},
   "outputs": [],
   "source": [
    "sensor.calculateFlux(hitmap_bckg)"
   ]
  },
  {
   "cell_type": "code",
   "execution_count": null,
   "metadata": {},
   "outputs": [],
   "source": [
    "canv, persistance = sensor.plotSensorQuantity(\"flux\")\n",
    "canv.Draw()"
   ]
  },
  {
   "cell_type": "code",
   "execution_count": null,
   "metadata": {},
   "outputs": [],
   "source": [
    "canv, persistance = sensor.plotSensorQuantity(\"occupancy\")\n",
    "canv.Draw()"
   ]
  },
  {
   "cell_type": "code",
   "execution_count": null,
   "metadata": {},
   "outputs": [],
   "source": [
    "canv, persistance = sensor.plotSensorQuantity(\"loss_probability\")\n",
    "canv.Draw()"
   ]
  },
  {
   "attachments": {},
   "cell_type": "markdown",
   "metadata": {},
   "source": [
    "### Station 234"
   ]
  },
  {
   "cell_type": "code",
   "execution_count": null,
   "metadata": {},
   "outputs": [],
   "source": [
    "station = '234'\n",
    "\n",
    "center_position_x, center_position_y = sensorPositions[station][0][0]\n",
    "\n",
    "coverage_shifts = 4\n",
    "coverage_shift_step = 1.3/4\n",
    "coverage_positions = []\n",
    "for step in range(coverage_shifts):\n",
    "    coverage_positions += [(center_position_x, center_position_y + step*coverage_shift_step)]\n",
    "\n",
    "hitmap      = hitmaps[\"{}-physics\".format(station)]\n",
    "hitmap_bckg = hitmaps[\"{}-physics-background\".format(station)]\n",
    "\n",
    "for sensor_name in sensors:\n",
    "    sensor = sensors[sensor_name]\n",
    "    table_data = []\n",
    "    rows = []\n",
    "    cols = [\"Dose\", \"Occ\", \"Loss p\", \"Pad\", \"Dose w/ Bckg\", \"Occ w/ Bckg\", \"Loss p w/ Bckg\", \"Pad w/ Bckg\"]\n",
    "    for step in range(coverage_shifts):\n",
    "        current_position = [(center_position_x, center_position_y + step*coverage_shift_step)]\n",
    "        sensor.setShifts(current_position)\n",
    "\n",
    "        # Calculations without Background\n",
    "        sensor.calculateFlux(hitmap)\n",
    "        dose      = sensor.maxDoseEOL(integratedLuminosity=1, usePadSpacing=False)\n",
    "        occupancies, pads = sensor.findMaxOccupancy()\n",
    "        occupancy = occupancies[0]\n",
    "        pad = pads[0]\n",
    "        loss_prob = pps_hitmaps.calcEventLossProb(0, occupancy)\n",
    "\n",
    "        # Calculations with Background\n",
    "        sensor.calculateFlux(hitmap_bckg)\n",
    "        dose_bckg      = sensor.maxDoseEOL(integratedLuminosity=1, usePadSpacing=False)\n",
    "        occupancies_bckg, pads_bckg = sensor.findMaxOccupancy()\n",
    "        occupancy_bckg = occupancies_bckg[0]\n",
    "        pad_bckg = pads_bckg[0]\n",
    "        loss_prob_bckg = pps_hitmaps.calcEventLossProb(0, occupancy_bckg)\n",
    "\n",
    "        rows += [f\"Offset {step}\"]\n",
    "        table_data += [[dose, occupancy, loss_prob, pad, dose_bckg, occupancy_bckg, loss_prob_bckg, pad_bckg]]\n",
    "\n",
    "    df = pandas.DataFrame(table_data, columns = cols, index=rows)\n",
    "    print(f\"Sensor {sensor_name}:\")\n",
    "    print(df)\n",
    "    print()"
   ]
  },
  {
   "attachments": {},
   "cell_type": "markdown",
   "metadata": {},
   "source": [
    "#### ETL Sensor"
   ]
  },
  {
   "cell_type": "code",
   "execution_count": null,
   "metadata": {},
   "outputs": [],
   "source": [
    "sensor = sensors[\"ETL\"]\n",
    "\n",
    "sensor.setShifts(coverage_positions)\n",
    "sensor.calculateFlux(hitmap)"
   ]
  },
  {
   "cell_type": "code",
   "execution_count": null,
   "metadata": {},
   "outputs": [],
   "source": [
    "canv, persistance = sensor.plotSensorQuantity(\"flux\")\n",
    "canv.Draw()"
   ]
  },
  {
   "cell_type": "code",
   "execution_count": null,
   "metadata": {},
   "outputs": [],
   "source": [
    "canv, persistance = sensor.plotSensorQuantity(\"occupancy\")\n",
    "canv.Draw()"
   ]
  },
  {
   "cell_type": "code",
   "execution_count": null,
   "metadata": {},
   "outputs": [],
   "source": [
    "sensor.calculateFlux(hitmap_bckg)"
   ]
  },
  {
   "cell_type": "code",
   "execution_count": null,
   "metadata": {},
   "outputs": [],
   "source": [
    "canv, persistance = sensor.plotSensorQuantity(\"flux\")\n",
    "canv.Draw()"
   ]
  },
  {
   "cell_type": "code",
   "execution_count": null,
   "metadata": {},
   "outputs": [],
   "source": [
    "canv, persistance = sensor.plotSensorQuantity(\"occupancy\")\n",
    "canv.Draw()"
   ]
  },
  {
   "cell_type": "code",
   "execution_count": null,
   "metadata": {},
   "outputs": [],
   "source": [
    "canv, persistance = sensor.plotSensorQuantity(\"loss_probability\")\n",
    "canv.Draw()"
   ]
  },
  {
   "attachments": {},
   "cell_type": "markdown",
   "metadata": {},
   "source": [
    "#### Trench Isolated ETL Sensor"
   ]
  },
  {
   "cell_type": "code",
   "execution_count": null,
   "metadata": {},
   "outputs": [],
   "source": [
    "sensor = sensors[\"ETL_TI\"]\n",
    "\n",
    "sensor.setShifts(coverage_positions)\n",
    "sensor.calculateFlux(hitmap)"
   ]
  },
  {
   "cell_type": "code",
   "execution_count": null,
   "metadata": {},
   "outputs": [],
   "source": [
    "canv, persistance = sensor.plotSensorQuantity(\"flux\")\n",
    "canv.Draw()"
   ]
  },
  {
   "cell_type": "code",
   "execution_count": null,
   "metadata": {},
   "outputs": [],
   "source": [
    "canv, persistance = sensor.plotSensorQuantity(\"occupancy\")\n",
    "canv.Draw()"
   ]
  },
  {
   "cell_type": "code",
   "execution_count": null,
   "metadata": {},
   "outputs": [],
   "source": [
    "sensor.calculateFlux(hitmap_bckg)"
   ]
  },
  {
   "cell_type": "code",
   "execution_count": null,
   "metadata": {},
   "outputs": [],
   "source": [
    "canv, persistance = sensor.plotSensorQuantity(\"flux\")\n",
    "canv.Draw()"
   ]
  },
  {
   "cell_type": "code",
   "execution_count": null,
   "metadata": {},
   "outputs": [],
   "source": [
    "canv, persistance = sensor.plotSensorQuantity(\"occupancy\")\n",
    "canv.Draw()"
   ]
  },
  {
   "cell_type": "code",
   "execution_count": null,
   "metadata": {},
   "outputs": [],
   "source": [
    "canv, persistance = sensor.plotSensorQuantity(\"loss_probability\")\n",
    "canv.Draw()"
   ]
  },
  {
   "attachments": {},
   "cell_type": "markdown",
   "metadata": {},
   "source": [
    "#### Hybrid Sensor"
   ]
  },
  {
   "cell_type": "code",
   "execution_count": null,
   "metadata": {},
   "outputs": [],
   "source": [
    "sensor = sensors[\"Hybrid\"]\n",
    "\n",
    "sensor.setShifts(coverage_positions)\n",
    "sensor.calculateFlux(hitmap)"
   ]
  },
  {
   "cell_type": "code",
   "execution_count": null,
   "metadata": {},
   "outputs": [],
   "source": [
    "canv, persistance = sensor.plotSensorQuantity(\"flux\")\n",
    "canv.Draw()"
   ]
  },
  {
   "cell_type": "code",
   "execution_count": null,
   "metadata": {},
   "outputs": [],
   "source": [
    "canv, persistance = sensor.plotSensorQuantity(\"occupancy\")\n",
    "canv.Draw()"
   ]
  },
  {
   "cell_type": "code",
   "execution_count": null,
   "metadata": {},
   "outputs": [],
   "source": [
    "sensor.calculateFlux(hitmap_bckg)"
   ]
  },
  {
   "cell_type": "code",
   "execution_count": null,
   "metadata": {},
   "outputs": [],
   "source": [
    "canv, persistance = sensor.plotSensorQuantity(\"flux\")\n",
    "canv.Draw()"
   ]
  },
  {
   "cell_type": "code",
   "execution_count": null,
   "metadata": {},
   "outputs": [],
   "source": [
    "canv, persistance = sensor.plotSensorQuantity(\"occupancy\")\n",
    "canv.Draw()"
   ]
  },
  {
   "cell_type": "code",
   "execution_count": null,
   "metadata": {},
   "outputs": [],
   "source": [
    "canv, persistance = sensor.plotSensorQuantity(\"loss_probability\")\n",
    "canv.Draw()"
   ]
  },
  {
   "attachments": {},
   "cell_type": "markdown",
   "metadata": {},
   "source": [
    "#### Rectangular Sensor"
   ]
  },
  {
   "cell_type": "code",
   "execution_count": null,
   "metadata": {},
   "outputs": [],
   "source": [
    "sensor = sensors[\"Rect\"]\n",
    "\n",
    "sensor.setShifts(coverage_positions)\n",
    "sensor.calculateFlux(hitmap)"
   ]
  },
  {
   "cell_type": "code",
   "execution_count": null,
   "metadata": {},
   "outputs": [],
   "source": [
    "canv, persistance = sensor.plotSensorQuantity(\"flux\")\n",
    "canv.Draw()"
   ]
  },
  {
   "cell_type": "code",
   "execution_count": null,
   "metadata": {},
   "outputs": [],
   "source": [
    "canv, persistance = sensor.plotSensorQuantity(\"occupancy\")\n",
    "canv.Draw()"
   ]
  },
  {
   "cell_type": "code",
   "execution_count": null,
   "metadata": {},
   "outputs": [],
   "source": [
    "sensor.calculateFlux(hitmap_bckg)"
   ]
  },
  {
   "cell_type": "code",
   "execution_count": null,
   "metadata": {},
   "outputs": [],
   "source": [
    "canv, persistance = sensor.plotSensorQuantity(\"flux\")\n",
    "canv.Draw()"
   ]
  },
  {
   "cell_type": "code",
   "execution_count": null,
   "metadata": {},
   "outputs": [],
   "source": [
    "canv, persistance = sensor.plotSensorQuantity(\"occupancy\")\n",
    "canv.Draw()"
   ]
  },
  {
   "cell_type": "code",
   "execution_count": null,
   "metadata": {},
   "outputs": [],
   "source": [
    "canv, persistance = sensor.plotSensorQuantity(\"loss_probability\")\n",
    "canv.Draw()"
   ]
  },
  {
   "attachments": {},
   "cell_type": "markdown",
   "metadata": {},
   "source": [
    "#### Full Rectangular Sensor"
   ]
  },
  {
   "cell_type": "code",
   "execution_count": null,
   "metadata": {},
   "outputs": [],
   "source": [
    "sensor = sensors[\"RectFull\"]\n",
    "\n",
    "sensor.setShifts(coverage_positions)\n",
    "sensor.calculateFlux(hitmap)"
   ]
  },
  {
   "cell_type": "code",
   "execution_count": null,
   "metadata": {},
   "outputs": [],
   "source": [
    "canv, persistance = sensor.plotSensorQuantity(\"flux\")\n",
    "canv.Draw()"
   ]
  },
  {
   "cell_type": "code",
   "execution_count": null,
   "metadata": {},
   "outputs": [],
   "source": [
    "canv, persistance = sensor.plotSensorQuantity(\"occupancy\")\n",
    "canv.Draw()"
   ]
  },
  {
   "cell_type": "code",
   "execution_count": null,
   "metadata": {},
   "outputs": [],
   "source": [
    "sensor.calculateFlux(hitmap_bckg)"
   ]
  },
  {
   "cell_type": "code",
   "execution_count": null,
   "metadata": {},
   "outputs": [],
   "source": [
    "canv, persistance = sensor.plotSensorQuantity(\"flux\")\n",
    "canv.Draw()"
   ]
  },
  {
   "cell_type": "code",
   "execution_count": null,
   "metadata": {},
   "outputs": [],
   "source": [
    "canv, persistance = sensor.plotSensorQuantity(\"occupancy\")\n",
    "canv.Draw()"
   ]
  },
  {
   "cell_type": "code",
   "execution_count": null,
   "metadata": {},
   "outputs": [],
   "source": [
    "canv, persistance = sensor.plotSensorQuantity(\"loss_probability\")\n",
    "canv.Draw()"
   ]
  },
  {
   "attachments": {},
   "cell_type": "markdown",
   "metadata": {},
   "source": [
    "### Station 420"
   ]
  },
  {
   "cell_type": "code",
   "execution_count": null,
   "metadata": {},
   "outputs": [],
   "source": [
    "station = '420'\n",
    "\n",
    "center_position_x, center_position_y = sensorPositions[station][0][0]\n",
    "\n",
    "coverage_shifts = 4\n",
    "coverage_shift_step = 1.3/4\n",
    "coverage_positions = []\n",
    "for step in range(coverage_shifts):\n",
    "    coverage_positions += [(center_position_x, center_position_y + step*coverage_shift_step)]\n",
    "\n",
    "hitmap      = hitmaps[\"{}-physics\".format(station)]\n",
    "hitmap_bckg = hitmaps[\"{}-physics-background\".format(station)]\n",
    "\n",
    "for sensor_name in sensors:\n",
    "    sensor = sensors[sensor_name]\n",
    "    table_data = []\n",
    "    rows = []\n",
    "    cols = [\"Dose\", \"Occ\", \"Loss p\", \"Pad\", \"Dose w/ Bckg\", \"Occ w/ Bckg\", \"Loss p w/ Bckg\", \"Pad w/ Bckg\"]\n",
    "    for step in range(coverage_shifts):\n",
    "        current_position = [(center_position_x, center_position_y + step*coverage_shift_step)]\n",
    "        sensor.setShifts(current_position)\n",
    "\n",
    "        # Calculations without Background\n",
    "        sensor.calculateFlux(hitmap)\n",
    "        dose      = sensor.maxDoseEOL(integratedLuminosity=1, usePadSpacing=False)\n",
    "        occupancies, pads = sensor.findMaxOccupancy()\n",
    "        occupancy = occupancies[0]\n",
    "        pad = pads[0]\n",
    "        loss_prob = pps_hitmaps.calcEventLossProb(0, occupancy)\n",
    "\n",
    "        # Calculations with Background\n",
    "        sensor.calculateFlux(hitmap_bckg)\n",
    "        dose_bckg      = sensor.maxDoseEOL(integratedLuminosity=1, usePadSpacing=False)\n",
    "        occupancies_bckg, pads_bckg = sensor.findMaxOccupancy()\n",
    "        occupancy_bckg = occupancies_bckg[0]\n",
    "        pad_bckg = pads_bckg[0]\n",
    "        loss_prob_bckg = pps_hitmaps.calcEventLossProb(0, occupancy_bckg)\n",
    "\n",
    "        rows += [f\"Offset {step}\"]\n",
    "        table_data += [[dose, occupancy, loss_prob, pad, dose_bckg, occupancy_bckg, loss_prob_bckg, pad_bckg]]\n",
    "\n",
    "    df = pandas.DataFrame(table_data, columns = cols, index=rows)\n",
    "    print(f\"Sensor {sensor_name}:\")\n",
    "    print(df)\n",
    "    print()"
   ]
  },
  {
   "attachments": {},
   "cell_type": "markdown",
   "metadata": {},
   "source": [
    "#### ETL Sensor"
   ]
  },
  {
   "cell_type": "code",
   "execution_count": null,
   "metadata": {},
   "outputs": [],
   "source": [
    "sensor = sensors[\"ETL\"]\n",
    "\n",
    "sensor.setShifts(coverage_positions)\n",
    "sensor.calculateFlux(hitmap)"
   ]
  },
  {
   "cell_type": "code",
   "execution_count": null,
   "metadata": {},
   "outputs": [],
   "source": [
    "canv, persistance = sensor.plotSensorQuantity(\"flux\")\n",
    "canv.Draw()"
   ]
  },
  {
   "cell_type": "code",
   "execution_count": null,
   "metadata": {},
   "outputs": [],
   "source": [
    "canv, persistance = sensor.plotSensorQuantity(\"occupancy\")\n",
    "canv.Draw()"
   ]
  },
  {
   "cell_type": "code",
   "execution_count": null,
   "metadata": {},
   "outputs": [],
   "source": [
    "sensor.calculateFlux(hitmap_bckg)"
   ]
  },
  {
   "cell_type": "code",
   "execution_count": null,
   "metadata": {},
   "outputs": [],
   "source": [
    "canv, persistance = sensor.plotSensorQuantity(\"flux\")\n",
    "canv.Draw()"
   ]
  },
  {
   "cell_type": "code",
   "execution_count": null,
   "metadata": {},
   "outputs": [],
   "source": [
    "canv, persistance = sensor.plotSensorQuantity(\"occupancy\")\n",
    "canv.Draw()"
   ]
  },
  {
   "cell_type": "code",
   "execution_count": null,
   "metadata": {},
   "outputs": [],
   "source": [
    "canv, persistance = sensor.plotSensorQuantity(\"loss_probability\")\n",
    "canv.Draw()"
   ]
  },
  {
   "attachments": {},
   "cell_type": "markdown",
   "metadata": {},
   "source": [
    "#### Trench Isolated ETL Sensor"
   ]
  },
  {
   "cell_type": "code",
   "execution_count": null,
   "metadata": {},
   "outputs": [],
   "source": [
    "sensor = sensors[\"ETL_TI\"]\n",
    "\n",
    "sensor.setShifts(coverage_positions)\n",
    "sensor.calculateFlux(hitmap)"
   ]
  },
  {
   "cell_type": "code",
   "execution_count": null,
   "metadata": {},
   "outputs": [],
   "source": [
    "canv, persistance = sensor.plotSensorQuantity(\"flux\")\n",
    "canv.Draw()"
   ]
  },
  {
   "cell_type": "code",
   "execution_count": null,
   "metadata": {},
   "outputs": [],
   "source": [
    "canv, persistance = sensor.plotSensorQuantity(\"occupancy\")\n",
    "canv.Draw()"
   ]
  },
  {
   "cell_type": "code",
   "execution_count": null,
   "metadata": {},
   "outputs": [],
   "source": [
    "sensor.calculateFlux(hitmap_bckg)"
   ]
  },
  {
   "cell_type": "code",
   "execution_count": null,
   "metadata": {},
   "outputs": [],
   "source": [
    "canv, persistance = sensor.plotSensorQuantity(\"flux\")\n",
    "canv.Draw()"
   ]
  },
  {
   "cell_type": "code",
   "execution_count": null,
   "metadata": {},
   "outputs": [],
   "source": [
    "canv, persistance = sensor.plotSensorQuantity(\"occupancy\")\n",
    "canv.Draw()"
   ]
  },
  {
   "cell_type": "code",
   "execution_count": null,
   "metadata": {},
   "outputs": [],
   "source": [
    "canv, persistance = sensor.plotSensorQuantity(\"loss_probability\")\n",
    "canv.Draw()"
   ]
  },
  {
   "attachments": {},
   "cell_type": "markdown",
   "metadata": {},
   "source": [
    "#### Hybrid Sensor"
   ]
  },
  {
   "cell_type": "code",
   "execution_count": null,
   "metadata": {},
   "outputs": [],
   "source": [
    "sensor = sensors[\"Hybrid\"]\n",
    "\n",
    "sensor.setShifts(coverage_positions)\n",
    "sensor.calculateFlux(hitmap)"
   ]
  },
  {
   "cell_type": "code",
   "execution_count": null,
   "metadata": {},
   "outputs": [],
   "source": [
    "canv, persistance = sensor.plotSensorQuantity(\"flux\")\n",
    "canv.Draw()"
   ]
  },
  {
   "cell_type": "code",
   "execution_count": null,
   "metadata": {},
   "outputs": [],
   "source": [
    "canv, persistance = sensor.plotSensorQuantity(\"occupancy\")\n",
    "canv.Draw()"
   ]
  },
  {
   "cell_type": "code",
   "execution_count": null,
   "metadata": {},
   "outputs": [],
   "source": [
    "sensor.calculateFlux(hitmap_bckg)"
   ]
  },
  {
   "cell_type": "code",
   "execution_count": null,
   "metadata": {},
   "outputs": [],
   "source": [
    "canv, persistance = sensor.plotSensorQuantity(\"flux\")\n",
    "canv.Draw()"
   ]
  },
  {
   "cell_type": "code",
   "execution_count": null,
   "metadata": {},
   "outputs": [],
   "source": [
    "canv, persistance = sensor.plotSensorQuantity(\"occupancy\")\n",
    "canv.Draw()"
   ]
  },
  {
   "cell_type": "code",
   "execution_count": null,
   "metadata": {},
   "outputs": [],
   "source": [
    "canv, persistance = sensor.plotSensorQuantity(\"loss_probability\")\n",
    "canv.Draw()"
   ]
  },
  {
   "attachments": {},
   "cell_type": "markdown",
   "metadata": {},
   "source": [
    "#### Rectangular Sensor"
   ]
  },
  {
   "cell_type": "code",
   "execution_count": null,
   "metadata": {},
   "outputs": [],
   "source": [
    "sensor = sensors[\"Rect\"]\n",
    "\n",
    "sensor.setShifts(coverage_positions)\n",
    "sensor.calculateFlux(hitmap)"
   ]
  },
  {
   "cell_type": "code",
   "execution_count": null,
   "metadata": {},
   "outputs": [],
   "source": [
    "canv, persistance = sensor.plotSensorQuantity(\"flux\")\n",
    "canv.Draw()"
   ]
  },
  {
   "cell_type": "code",
   "execution_count": null,
   "metadata": {},
   "outputs": [],
   "source": [
    "canv, persistance = sensor.plotSensorQuantity(\"occupancy\")\n",
    "canv.Draw()"
   ]
  },
  {
   "cell_type": "code",
   "execution_count": null,
   "metadata": {},
   "outputs": [],
   "source": [
    "sensor.calculateFlux(hitmap_bckg)"
   ]
  },
  {
   "cell_type": "code",
   "execution_count": null,
   "metadata": {},
   "outputs": [],
   "source": [
    "canv, persistance = sensor.plotSensorQuantity(\"flux\")\n",
    "canv.Draw()"
   ]
  },
  {
   "cell_type": "code",
   "execution_count": null,
   "metadata": {},
   "outputs": [],
   "source": [
    "canv, persistance = sensor.plotSensorQuantity(\"occupancy\")\n",
    "canv.Draw()"
   ]
  },
  {
   "cell_type": "code",
   "execution_count": null,
   "metadata": {},
   "outputs": [],
   "source": [
    "canv, persistance = sensor.plotSensorQuantity(\"loss_probability\")\n",
    "canv.Draw()"
   ]
  },
  {
   "attachments": {},
   "cell_type": "markdown",
   "metadata": {},
   "source": [
    "#### Full Rectangular Sensor"
   ]
  },
  {
   "cell_type": "code",
   "execution_count": null,
   "metadata": {},
   "outputs": [],
   "source": [
    "sensor = sensors[\"RectFull\"]\n",
    "\n",
    "sensor.setShifts(coverage_positions)\n",
    "sensor.calculateFlux(hitmap)"
   ]
  },
  {
   "cell_type": "code",
   "execution_count": null,
   "metadata": {},
   "outputs": [],
   "source": [
    "canv, persistance = sensor.plotSensorQuantity(\"flux\")\n",
    "canv.Draw()"
   ]
  },
  {
   "cell_type": "code",
   "execution_count": null,
   "metadata": {},
   "outputs": [],
   "source": [
    "canv, persistance = sensor.plotSensorQuantity(\"occupancy\")\n",
    "canv.Draw()"
   ]
  },
  {
   "cell_type": "code",
   "execution_count": null,
   "metadata": {},
   "outputs": [],
   "source": [
    "sensor.calculateFlux(hitmap_bckg)"
   ]
  },
  {
   "cell_type": "code",
   "execution_count": null,
   "metadata": {},
   "outputs": [],
   "source": [
    "canv, persistance = sensor.plotSensorQuantity(\"flux\")\n",
    "canv.Draw()"
   ]
  },
  {
   "cell_type": "code",
   "execution_count": null,
   "metadata": {},
   "outputs": [],
   "source": [
    "canv, persistance = sensor.plotSensorQuantity(\"occupancy\")\n",
    "canv.Draw()"
   ]
  },
  {
   "cell_type": "code",
   "execution_count": null,
   "metadata": {},
   "outputs": [],
   "source": [
    "canv, persistance = sensor.plotSensorQuantity(\"loss_probability\")\n",
    "canv.Draw()"
   ]
  },
  {
   "attachments": {},
   "cell_type": "markdown",
   "metadata": {},
   "source": [
    "## Placeholder"
   ]
  },
  {
   "cell_type": "code",
   "execution_count": null,
   "metadata": {},
   "outputs": [],
   "source": []
  },
  {
   "attachments": {},
   "cell_type": "markdown",
   "metadata": {},
   "source": [
    "# Testing"
   ]
  },
  {
   "cell_type": "code",
   "execution_count": null,
   "metadata": {},
   "outputs": [],
   "source": [
    "print(test_hitmap.peakUniformPadOccupancy(1.3*10**-3, 1.3*10**-3))\n",
    "\n",
    "print(test_hitmap.rectangularPadIntegrateScan(2,1e-6,1.3e-3,xLen=1.3e-3))\n",
    "print(test_hitmap.squarePadIntegrateScan(2,1e-6,1.3e-3))\n",
    "\n",
    "print(test_hitmap.rectangularPadPeakUniformScan(2,1e-6,1.3e-3,xLen=1.3e-3))\n",
    "print(test_hitmap.squarePadPeakUniformScan(2,1e-6,1.3e-3))"
   ]
  },
  {
   "cell_type": "code",
   "execution_count": null,
   "metadata": {},
   "outputs": [],
   "source": []
  }
 ],
 "metadata": {
  "kernelspec": {
   "display_name": "Python 3",
   "language": "python",
   "name": "python3"
  },
  "language_info": {
   "codemirror_mode": {
    "name": "ipython",
    "version": 3
   },
   "file_extension": ".py",
   "mimetype": "text/x-python",
   "name": "python",
   "nbconvert_exporter": "python",
   "pygments_lexer": "ipython3",
   "version": "3.undefined.undefined"
  },
  "orig_nbformat": 4,
  "vscode": {
   "interpreter": {
    "hash": "8a5edab282632443219e051e4ade2d1d5bbc671c781051bf1437897cbdfea0f1"
   }
  }
 },
 "nbformat": 4,
 "nbformat_minor": 2
}
