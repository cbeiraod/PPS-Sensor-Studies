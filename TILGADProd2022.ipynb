{
 "cells": [
  {
   "cell_type": "markdown",
   "metadata": {},
   "source": [
    "# 2022 Trench Isolated LGAD Production"
   ]
  },
  {
   "cell_type": "markdown",
   "metadata": {},
   "source": [
    "## Suggestions for Roberta"
   ]
  },
  {
   "cell_type": "code",
   "execution_count": null,
   "metadata": {},
   "outputs": [],
   "source": [
    "import pps_hitmaps\n",
    "\n",
    "#1.3mm pad size\n",
    "#30um interpad distance\n",
    "#300um guard ring\n",
    "sensor = pps_hitmaps.TIProduction1Sensor()\n",
    "\n",
    "fig = sensor.preview()\n"
   ]
  },
  {
   "cell_type": "code",
   "execution_count": null,
   "metadata": {},
   "outputs": [],
   "source": [
    "#1.3mm pad size\n",
    "#100um interpad distance\n",
    "#300um guard ring\n",
    "sensor = pps_hitmaps.TIProduction1Sensor(PadSpacing=0.1)\n",
    "\n",
    "fig = sensor.preview()"
   ]
  },
  {
   "cell_type": "code",
   "execution_count": null,
   "metadata": {},
   "outputs": [],
   "source": [
    "#1.3mm pad size\n",
    "#30um interpad distance\n",
    "#300um guard ring\n",
    "sensor = pps_hitmaps.TIProduction2Sensor()\n",
    "\n",
    "fig = sensor.preview(doSquare=True)"
   ]
  },
  {
   "cell_type": "code",
   "execution_count": null,
   "metadata": {},
   "outputs": [],
   "source": [
    "#1.3mm pad size\n",
    "#100um interpad distance\n",
    "#300um guard ring\n",
    "sensor = pps_hitmaps.TIProduction2Sensor(PadSpacing=0.1)\n",
    "\n",
    "fig = sensor.preview(doSquare=True)"
   ]
  },
  {
   "cell_type": "code",
   "execution_count": null,
   "metadata": {},
   "outputs": [],
   "source": [
    "#1.3mm pad size\n",
    "#30um interpad distance\n",
    "#300um guard ring\n",
    "sensor = pps_hitmaps.TIProduction3Sensor()\n",
    "\n",
    "fig = sensor.preview(doSquare=True)"
   ]
  },
  {
   "cell_type": "code",
   "execution_count": null,
   "metadata": {},
   "outputs": [],
   "source": [
    "#1.3mm pad size\n",
    "#100um interpad distance\n",
    "#300um guard ring\n",
    "sensor = pps_hitmaps.TIProduction3Sensor(PadSpacing=0.1)\n",
    "\n",
    "fig = sensor.preview(doSquare=True)"
   ]
  },
  {
   "cell_type": "code",
   "execution_count": null,
   "metadata": {},
   "outputs": [],
   "source": []
  }
 ],
 "metadata": {
  "kernelspec": {
   "display_name": "Python 3.10.8 ('venv': venv)",
   "language": "python",
   "name": "python3"
  },
  "language_info": {
   "codemirror_mode": {
    "name": "ipython",
    "version": 3
   },
   "file_extension": ".py",
   "mimetype": "text/x-python",
   "name": "python",
   "nbconvert_exporter": "python",
   "pygments_lexer": "ipython3",
   "version": "3.10.8"
  },
  "orig_nbformat": 4,
  "vscode": {
   "interpreter": {
    "hash": "e66d322f56446b28a108c3f6bd2b9cfbd52cc38ab8a46094350058f1f8e478f2"
   }
  }
 },
 "nbformat": 4,
 "nbformat_minor": 2
}
