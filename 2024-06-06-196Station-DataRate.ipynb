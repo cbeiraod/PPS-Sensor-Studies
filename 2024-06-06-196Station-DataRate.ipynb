{
 "cells": [
  {
   "cell_type": "markdown",
   "metadata": {},
   "source": [
    "# Data Rate estimates for Station 196"
   ]
  },
  {
   "cell_type": "markdown",
   "metadata": {},
   "source": [
    "## Import Libraries"
   ]
  },
  {
   "cell_type": "code",
   "execution_count": null,
   "metadata": {},
   "outputs": [],
   "source": [
    "import pps_hitmaps\n",
    "import ROOT\n",
    "import Helper20240606\n",
    "import pandas\n",
    "from math import factorial\n",
    "from math import exp"
   ]
  },
  {
   "cell_type": "markdown",
   "metadata": {},
   "source": [
    "## Get Sensor"
   ]
  },
  {
   "cell_type": "code",
   "execution_count": null,
   "metadata": {},
   "outputs": [],
   "source": [
    "new_sensor = pps_hitmaps.RectangularPadSensor(NumSmallerCols = 16)\n",
    "new_sensor_ti = pps_hitmaps.RectangularPadSensor(NumSmallerCols = 16, PadSpacing=0.01)\n",
    "sensor = new_sensor_ti\n",
    "fig = new_sensor.preview()"
   ]
  },
  {
   "cell_type": "markdown",
   "metadata": {},
   "source": [
    "## Load Hitmaps and check everything is ok"
   ]
  },
  {
   "cell_type": "code",
   "execution_count": null,
   "metadata": {},
   "outputs": [],
   "source": [
    "from pathlib import Path\n",
    "\n",
    "backgroundFlux = 5*10**12\n",
    "backgroundTitle = \"5E12 p/cm^2\"\n",
    "#noBackgroundFlux = 200  # This is needed because when making the sensor loss probability maps, we were running into numerican stability issues, giving weird results. Adding this small numbers, makes the behaviour consistent\n",
    "noBackgroundFlux = 0\n",
    "station = \"196\"\n",
    "\n",
    "hitmaps = Helper20240606.loadHitmaps(station, noBackgroundFlux, backgroundFlux)\n",
    "\n",
    "#test_hitmap = hitmaps[\"196-physics\"]\n",
    "\n",
    "print(\"Validating the hitmap files:\")\n",
    "for map in hitmaps:\n",
    "    print(\"  - Map {}\".format(map))\n",
    "    hitmaps[map].validate()"
   ]
  },
  {
   "cell_type": "markdown",
   "metadata": {},
   "source": [
    "## Create Fluxmap Histograms"
   ]
  },
  {
   "cell_type": "code",
   "execution_count": null,
   "metadata": {},
   "outputs": [],
   "source": [
    "hitmap_histograms = {}\n",
    "\n",
    "for angle_dir, angle, beta in Helper20240606.angle_beta:\n",
    "    hitmap_key = f\"{angle_dir}-{angle}urad-{int(beta*100)}cm\"\n",
    "\n",
    "    hitmap_histograms[hitmap_key] = {\n",
    "        \"physics\": hitmaps[hitmap_key].getHisto(\n",
    "            f\"station{station}-{angle_dir}-{angle}urad-{int(beta*100)}cm\",\n",
    "            f\"Station {station} - {angle_dir} crossing angle, {angle} urad; {int(beta*100)}cm Beta star\",\n",
    "                                                ),\n",
    "        \"background\": hitmaps[hitmap_key+\"-background\"].getHisto(\n",
    "            f\"station{station}-background-{angle_dir}-{angle}urad-{int(beta*100)}cm\",\n",
    "            f\"Station {station} with {backgroundTitle} Background - {angle_dir} crossing angle, {angle} urad; {int(beta*100)}cm Beta star\",\n",
    "                                                ),\n",
    "    }\n"
   ]
  },
  {
   "cell_type": "markdown",
   "metadata": {},
   "source": [
    "## Needed Shifts"
   ]
  },
  {
   "cell_type": "code",
   "execution_count": null,
   "metadata": {},
   "outputs": [],
   "source": [
    "needed_shifts = Helper20240606.getNeededShifts(station)\n",
    "for key in needed_shifts:\n",
    "    print(f\"{key} - {needed_shifts[key][0]} shifts over {needed_shifts[key][1]} mm\")"
   ]
  },
  {
   "cell_type": "markdown",
   "metadata": {},
   "source": [
    "### Compute positions with shifts"
   ]
  },
  {
   "cell_type": "code",
   "execution_count": null,
   "metadata": {},
   "outputs": [],
   "source": [
    "sensor = new_sensor_ti\n",
    "xSensorSize = sensor.maxX - sensor.minX\n",
    "ySensorSize = sensor.maxY - sensor.minY"
   ]
  },
  {
   "cell_type": "markdown",
   "metadata": {},
   "source": [
    "#### Nominal Positions"
   ]
  },
  {
   "cell_type": "code",
   "execution_count": null,
   "metadata": {},
   "outputs": [],
   "source": [
    "nominal_positions = Helper20240606.getNominalPositions(hitmaps, xSensorSize)\n",
    "for key in nominal_positions:\n",
    "    print(f\"{key}: {nominal_positions[key]}\")"
   ]
  },
  {
   "cell_type": "markdown",
   "metadata": {},
   "source": [
    "#### Adjusted Positions"
   ]
  },
  {
   "cell_type": "code",
   "execution_count": null,
   "metadata": {},
   "outputs": [],
   "source": [
    "adjusted_positions = Helper20240606.getAdjustedPositions(nominal_positions, station)\n",
    "for key in adjusted_positions:\n",
    "    print(f\"{key}: {adjusted_positions[key]}\")"
   ]
  },
  {
   "cell_type": "markdown",
   "metadata": {},
   "source": [
    "#### Shifts over Year"
   ]
  },
  {
   "cell_type": "code",
   "execution_count": null,
   "metadata": {},
   "outputs": [],
   "source": [
    "yOffsets = {}\n",
    "for angle_dir in [\"vertical\", \"horizontal\"]:\n",
    "    yPositions = []\n",
    "    for angle in [125, 250]:\n",
    "        position_key = f\"{angle_dir}-{angle}urad\"\n",
    "\n",
    "        _, startPositionY = adjusted_positions[position_key]\n",
    "        yPositions += [startPositionY]\n",
    "\n",
    "        yCenters = Helper20240606.computeYCenters196(startPositionY, angle_dir, ySensorSize)\n",
    "        yOffsets[position_key] = Helper20240606.computeShifts(yCenters, needed_shifts[position_key])\n",
    "\n",
    "    positionY = max(yPositions)\n",
    "    yCenters = Helper20240606.computeYCenters196(positionY, angle_dir, ySensorSize)\n",
    "    yOffsets[angle_dir] = Helper20240606.computeShifts(yCenters, needed_shifts[angle_dir])\n",
    "\n",
    "print(yOffsets)"
   ]
  },
  {
   "cell_type": "markdown",
   "metadata": {},
   "source": [
    "#### Positions to use"
   ]
  },
  {
   "cell_type": "code",
   "execution_count": null,
   "metadata": {},
   "outputs": [],
   "source": [
    "shift_str = \"{angle_dir}\"\n",
    "#shift_str = \"{angle_dir}-{angle}urad\""
   ]
  },
  {
   "cell_type": "markdown",
   "metadata": {},
   "source": [
    "#### Sensor Positions on Hitmap with shifts"
   ]
  },
  {
   "cell_type": "code",
   "execution_count": null,
   "metadata": {},
   "outputs": [],
   "source": [
    "c = []\n",
    "p = []\n",
    "\n",
    "for angle_dir, angle, beta in Helper20240606.angle_beta:\n",
    "    hitmap_key = f\"{angle_dir}-{angle}urad-{int(beta*100)}cm\"\n",
    "    c1, p1 = Helper20240606.plotShiftsOnFluxmap(\n",
    "        sensor = sensor,\n",
    "        positions = yOffsets[shift_str.format(angle_dir = angle_dir, angle = angle, beta = beta)],\n",
    "        hitmap = hitmaps[hitmap_key],\n",
    "        histogram = hitmap_histograms[hitmap_key][\"physics\"],\n",
    "        base_name = hitmap_key,\n",
    "        title = f\"{angle_dir} ${angle} \\\\mu\\\\text{{rad}}$ - $\\\\beta^* = {int(beta*100)} \\\\text{{cm}}$\",\n",
    "    )\n",
    "    c.append(c1)\n",
    "    p.append(p1)\n",
    "\n",
    "for canvas in c:\n",
    "    canvas.Draw()"
   ]
  },
  {
   "cell_type": "markdown",
   "metadata": {},
   "source": [
    "## Plot Pixel Occupancy in positions"
   ]
  },
  {
   "cell_type": "code",
   "execution_count": null,
   "metadata": {},
   "outputs": [],
   "source": [
    "def plotOccupancy(angle_dir, angle, beta, minV, maxV):\n",
    "    hitmap_key = f\"{angle_dir}-{angle}urad-{int(beta*100)}cm\"\n",
    "    return Helper20240606.plotOccupancy(\n",
    "        sensor = sensor,\n",
    "        positions = yOffsets[shift_str.format(angle_dir = angle_dir, angle = angle, beta = beta)],\n",
    "        hitmap = hitmaps[hitmap_key + \"-background\"],\n",
    "        name = f\"_{angle_dir}-{angle}urad-{int(beta*100)}cm\",\n",
    "        minV = minV,\n",
    "        maxV = maxV,\n",
    "    )\n"
   ]
  },
  {
   "cell_type": "markdown",
   "metadata": {},
   "source": [
    "### Vertical crossing angle, 250 urad; 50 cm $\\beta^*$"
   ]
  },
  {
   "cell_type": "code",
   "execution_count": null,
   "metadata": {},
   "outputs": [],
   "source": [
    "c, p = plotOccupancy(\"vertical\", 250, 0.50, minV = 0.0447, maxV = 0.061)\n",
    "\n",
    "c[0].Draw()\n",
    "c[1].Draw()"
   ]
  },
  {
   "cell_type": "markdown",
   "metadata": {},
   "source": [
    "### Vertical crossing angle, 250 urad; 20 cm $\\beta^*$"
   ]
  },
  {
   "cell_type": "code",
   "execution_count": null,
   "metadata": {},
   "outputs": [],
   "source": [
    "c, p = plotOccupancy(\"vertical\", 250, 0.20, minV = 0.0447, maxV = 0.058)\n",
    "\n",
    "c[0].Draw()\n",
    "c[1].Draw()"
   ]
  },
  {
   "cell_type": "markdown",
   "metadata": {},
   "source": [
    "### Vertical crossing angle, 125 urad; 50 cm $\\beta^*$"
   ]
  },
  {
   "cell_type": "code",
   "execution_count": null,
   "metadata": {},
   "outputs": [],
   "source": [
    "c, p = plotOccupancy(\"vertical\", 125, 0.50, minV = 0.0447, maxV = 0.064)\n",
    "\n",
    "c[0].Draw()\n",
    "c[1].Draw()"
   ]
  },
  {
   "cell_type": "markdown",
   "metadata": {},
   "source": [
    "### Vertical crossing angle, 125 urad; 20 cm $\\beta^*$"
   ]
  },
  {
   "cell_type": "code",
   "execution_count": null,
   "metadata": {},
   "outputs": [],
   "source": [
    "c, p = plotOccupancy(\"vertical\", 125, 0.20, minV = 0.0447, maxV = 0.061)\n",
    "\n",
    "c[0].Draw()\n",
    "c[1].Draw()"
   ]
  },
  {
   "cell_type": "markdown",
   "metadata": {},
   "source": [
    "### Horizontal crossing angle, 250 urad; 50 cm $\\beta^*$"
   ]
  },
  {
   "cell_type": "code",
   "execution_count": null,
   "metadata": {},
   "outputs": [],
   "source": [
    "c, p = plotOccupancy(\"horizontal\", 250, 0.50, minV = 0.0447, maxV = 0.0501)\n",
    "\n",
    "c[0].Draw()\n",
    "c[1].Draw()"
   ]
  },
  {
   "cell_type": "markdown",
   "metadata": {},
   "source": [
    "### Horizontal crossing angle, 250 urad; 15 cm $\\beta^*$"
   ]
  },
  {
   "cell_type": "code",
   "execution_count": null,
   "metadata": {},
   "outputs": [],
   "source": [
    "c, p = plotOccupancy(\"horizontal\", 250, 0.15, minV = 0.0447, maxV = 0.0494)\n",
    "\n",
    "c[0].Draw()\n",
    "c[1].Draw()"
   ]
  },
  {
   "cell_type": "markdown",
   "metadata": {},
   "source": [
    "### Horizontal crossing angle, 125 urad; 50 cm $\\beta^*$"
   ]
  },
  {
   "cell_type": "code",
   "execution_count": null,
   "metadata": {},
   "outputs": [],
   "source": [
    "c, p = plotOccupancy(\"horizontal\", 125, 0.50, minV = 0.0447, maxV = 0.0532)\n",
    "\n",
    "c[0].Draw()\n",
    "c[1].Draw()"
   ]
  },
  {
   "cell_type": "markdown",
   "metadata": {},
   "source": [
    "### Horizontal crossing angle, 125 urad; 15 cm $\\beta^*$"
   ]
  },
  {
   "cell_type": "code",
   "execution_count": null,
   "metadata": {},
   "outputs": [],
   "source": [
    "c, p = plotOccupancy(\"horizontal\", 125, 0.15, minV = 0.0447, maxV = 0.0523)\n",
    "\n",
    "c[0].Draw()\n",
    "c[1].Draw()"
   ]
  },
  {
   "cell_type": "code",
   "execution_count": null,
   "metadata": {},
   "outputs": [],
   "source": [
    "print(p[0]['histograms']['pos_0'].GetMaximum())\n",
    "print(p[1]['histograms']['pos_0'].GetMaximum())\n",
    "print(p[0]['histograms']['pos_0'].GetMinimum())"
   ]
  },
  {
   "cell_type": "markdown",
   "metadata": {},
   "source": [
    "## Study Toys"
   ]
  },
  {
   "cell_type": "markdown",
   "metadata": {},
   "source": [
    "### Useful Functions"
   ]
  },
  {
   "cell_type": "code",
   "execution_count": null,
   "metadata": {},
   "outputs": [],
   "source": [
    "def calculateSensorEventLosses(sensor):\n",
    "    min_occ = None\n",
    "    max_occ = None\n",
    "    for pad_idx in range(256):\n",
    "        for epoch in range(len(sensor.padVec[pad_idx].doses)):\n",
    "            occ = sensor.padVec[pad_idx].doses[epoch]['occupancy']\n",
    "\n",
    "            if min_occ is None or occ < min_occ:\n",
    "                min_occ = occ\n",
    "\n",
    "            if max_occ is None or occ > max_occ:\n",
    "                max_occ = occ\n",
    "\n",
    "    print(f\"The maximum occupancy is {max_occ} and the minimum occupancy is {min_occ}\")\n",
    "\n",
    "    def poisson_prob(occupancy, N):\n",
    "        return ((occupancy**N) * exp(-occupancy))/(factorial(N))\n",
    "\n",
    "    p0_min = poisson_prob(min_occ, 0)\n",
    "    p1_min = poisson_prob(min_occ, 1)\n",
    "    p2_min = 1 - p0_min - p1_min\n",
    "\n",
    "    print(\"For the minimum occupancy:\")\n",
    "    print(f\" - The probability of having 0 hits is: {p0_min}\")\n",
    "    print(f\" - The probability of having 1 hits is: {p1_min}\")\n",
    "    print(f\" - The probability of having 2 or more hits is: {p2_min}\")\n",
    "\n",
    "    p0_max = poisson_prob(max_occ, 0)\n",
    "    p1_max = poisson_prob(max_occ, 1)\n",
    "    p2_max = 1 - p0_max - p1_max\n",
    "\n",
    "    print(\"For the maximum occupancy:\")\n",
    "    print(f\" - The probability of having 0 hits is: {p0_max}\")\n",
    "    print(f\" - The probability of having 1 hits is: {p1_max}\")\n",
    "    print(f\" - The probability of having 2 or more hits is: {p2_max}\")\n",
    "\n",
    "    loss_min = 1-(p0_min + p1_min)**256\n",
    "    loss_max = 1-(p0_max + p1_max)**256\n",
    "\n",
    "    print(f\"The event loss probability for the whole sensor should be between {loss_min} and {loss_max}\")\n",
    "    return loss_min, loss_max"
   ]
  },
  {
   "cell_type": "code",
   "execution_count": null,
   "metadata": {},
   "outputs": [],
   "source": [
    "def getDataCat(df: pandas.DataFrame, category = None):\n",
    "    category_ext = \"\"\n",
    "    if category is not None:\n",
    "        category_ext = f\"_{category}\"\n",
    "\n",
    "    num_toys = len(df)\n",
    "\n",
    "    event_loss_counts = df['event_loss'+category_ext].value_counts()\n",
    "    mean_active_pads = df['active_pads'+category_ext].mean()\n",
    "    std_active_pads = df['active_pads'+category_ext].std()\n",
    "    mean_occupancy = df['sensor_occupancy'+category_ext].mean()\n",
    "    std_occupancy = df['sensor_occupancy'+category_ext].std()\n",
    "    mean_bit_length = df['bit_length'+category_ext].mean()\n",
    "    std_bit_length = df['bit_length'+category_ext].std()\n",
    "\n",
    "    data = [event_loss_counts[True], float(event_loss_counts[True])/num_toys, mean_active_pads, std_active_pads, mean_occupancy, std_occupancy, mean_bit_length, std_bit_length]\n",
    "\n",
    "    return data"
   ]
  },
  {
   "cell_type": "code",
   "execution_count": null,
   "metadata": {},
   "outputs": [],
   "source": [
    "def extractInfoFromToyCache(toy_cache):\n",
    "    columns = [\"event_loss_count\", \"event_loss_fraction\", \"active_pads_mean\", \"active_pads_std\", \"occupancy_mean\", \"occupancy_std\", \"bit_length_mean\", \"bit_length_std\"]\n",
    "    data = []\n",
    "    left_data = []\n",
    "    right_data = []\n",
    "    for shift_index in range(len(toy_cache)):\n",
    "        toy_df = toy_cache[shift_index]\n",
    "\n",
    "        data += [getDataCat(toy_df)]\n",
    "        left_data += [getDataCat(toy_df, \"left\")]\n",
    "        right_data += [getDataCat(toy_df, \"right\")]\n",
    "\n",
    "    info_df = pandas.DataFrame(data, columns=columns)\n",
    "    left_info_df = pandas.DataFrame(left_data, columns=columns)\n",
    "    right_info_df = pandas.DataFrame(right_data, columns=columns)\n",
    "\n",
    "    return info_df, left_info_df, right_info_df"
   ]
  },
  {
   "cell_type": "markdown",
   "metadata": {},
   "source": [
    "### Throw Toys"
   ]
  },
  {
   "cell_type": "code",
   "execution_count": null,
   "metadata": {},
   "outputs": [],
   "source": [
    "def studyToys(angle_dir, angle, beta, num_toys = 1000):\n",
    "    hitmap_key = f\"{angle_dir}-{angle}urad-{int(beta*100)}cm\"\n",
    "\n",
    "    base_positions = yOffsets[shift_str.format(angle_dir = angle_dir, angle = angle, beta = beta)]\n",
    "    hitmap = hitmaps[hitmap_key + \"-background\"]\n",
    "\n",
    "    edge = hitmap.detectorEdge * 1000 # Convert to mm for drawing\n",
    "    xSensorSize = sensor.maxX - sensor.minX\n",
    "    offsetX = edge + xSensorSize/2\n",
    "\n",
    "    center_pos = ceil(len(base_positions[0])/2)\n",
    "\n",
    "    full_shift_positions = [(offsetX, base_positions[0][center_pos] + step*1.3) for step in [-1, 0, 1]]\n",
    "    coverage_positions = [(offsetX, base_positions[0][center_pos] + step*1.3) for step in [0, 1/4, 2/4, 3/4]]\n",
    "\n",
    "    positions = full_shift_positions + coverage_positions\n",
    "\n",
    "    for sensor_idx in range(len(base_positions)):\n",
    "        positions += [(offsetX, i) for i in base_positions[sensor_idx]]\n",
    "    print(f\"There are {len(positions)} positions: {positions}\")\n",
    "\n",
    "    sensor.setShifts(positions)\n",
    "    sensor.calculateFlux(hitmap)\n",
    "\n",
    "    toy_cache = sensor.simulateToys(numToys=num_toys)\n",
    "\n",
    "    calculateSensorEventLosses(sensor)\n",
    "\n",
    "    info_df, left_info_df, right_info_df = extractInfoFromToyCache(toy_cache)\n",
    "\n",
    "    print(f\"Maximum bit length: {info_df['bit_length_mean'].max()}; left - {left_info_df['bit_length_mean'].max()}; right - {right_info_df['bit_length_mean'].max()}\")\n",
    "    print(info_df)\n",
    "    print(left_info_df)\n",
    "    print(right_info_df)\n",
    "\n",
    "    fig = sensor.plotToyActivePads(toyCache=toy_cache)\n",
    "\n",
    "    fig = sensor.plotToySensorOccupancy(toyCache=toy_cache)\n",
    "\n",
    "    fig = sensor.plotToyEventSize(toyCache=toy_cache)\n",
    "\n",
    "    return"
   ]
  },
  {
   "cell_type": "markdown",
   "metadata": {},
   "source": [
    "#### Vertical crossing angle, 250 urad; 50 cm $\\beta^*$"
   ]
  },
  {
   "cell_type": "code",
   "execution_count": null,
   "metadata": {},
   "outputs": [],
   "source": [
    "studyToys(\"vertical\", 250, 0.50, num_toys = 10000)"
   ]
  },
  {
   "cell_type": "markdown",
   "metadata": {},
   "source": [
    "#### Vertical crossing angle, 250 urad; 20 cm $\\beta^*$"
   ]
  },
  {
   "cell_type": "code",
   "execution_count": null,
   "metadata": {},
   "outputs": [],
   "source": [
    "studyToys(\"vertical\", 250, 0.20, num_toys = 10000)"
   ]
  },
  {
   "cell_type": "markdown",
   "metadata": {},
   "source": [
    "#### Vertical crossing angle, 125 urad; 50 cm $\\beta^*$"
   ]
  },
  {
   "cell_type": "code",
   "execution_count": null,
   "metadata": {},
   "outputs": [],
   "source": [
    "studyToys(\"vertical\", 125, 0.50, num_toys = 10000)"
   ]
  },
  {
   "cell_type": "markdown",
   "metadata": {},
   "source": [
    "#### Vertical crossing angle, 125 urad; 20 cm $\\beta^*$"
   ]
  },
  {
   "cell_type": "code",
   "execution_count": null,
   "metadata": {},
   "outputs": [],
   "source": [
    "studyToys(\"vertical\", 125, 0.20, num_toys = 10000)"
   ]
  },
  {
   "cell_type": "markdown",
   "metadata": {},
   "source": [
    "#### Horizontal crossing angle, 250 urad; 50 cm $\\beta^*$"
   ]
  },
  {
   "cell_type": "code",
   "execution_count": null,
   "metadata": {},
   "outputs": [],
   "source": [
    "studyToys(\"horizontal\", 250, 0.50, num_toys = 10000)"
   ]
  },
  {
   "cell_type": "markdown",
   "metadata": {},
   "source": [
    "#### Horizontal crossing angle, 250 urad; 15 cm $\\beta^*$"
   ]
  },
  {
   "cell_type": "code",
   "execution_count": null,
   "metadata": {},
   "outputs": [],
   "source": [
    "studyToys(\"horizontal\", 250, 0.15, num_toys = 10000)"
   ]
  },
  {
   "cell_type": "markdown",
   "metadata": {},
   "source": [
    "#### Horizontal crossing angle, 125 urad; 50 cm $\\beta^*$"
   ]
  },
  {
   "cell_type": "code",
   "execution_count": null,
   "metadata": {},
   "outputs": [],
   "source": [
    "studyToys(\"horizontal\", 125, 0.50, num_toys = 10000)"
   ]
  },
  {
   "cell_type": "markdown",
   "metadata": {},
   "source": [
    "#### Horizontal crossing angle, 125 urad; 15 cm $\\beta^*$"
   ]
  },
  {
   "cell_type": "code",
   "execution_count": null,
   "metadata": {},
   "outputs": [],
   "source": [
    "studyToys(\"horizontal\", 125, 0.15, num_toys = 10000)"
   ]
  },
  {
   "cell_type": "code",
   "execution_count": null,
   "metadata": {},
   "outputs": [],
   "source": []
  }
 ],
 "metadata": {
  "kernelspec": {
   "display_name": "Python 3",
   "language": "python",
   "name": "python3"
  },
  "language_info": {
   "codemirror_mode": {
    "name": "ipython",
    "version": 3
   },
   "file_extension": ".py",
   "mimetype": "text/x-python",
   "name": "python",
   "nbconvert_exporter": "python",
   "pygments_lexer": "ipython3",
   "version": "3.12.4"
  }
 },
 "nbformat": 4,
 "nbformat_minor": 2
}
